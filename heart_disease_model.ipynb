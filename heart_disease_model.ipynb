{
 "cells": [
  {
   "cell_type": "code",
   "execution_count": 2,
   "metadata": {},
   "outputs": [
    {
     "data": {
      "text/html": [
       "<div>\n",
       "<style scoped>\n",
       "    .dataframe tbody tr th:only-of-type {\n",
       "        vertical-align: middle;\n",
       "    }\n",
       "\n",
       "    .dataframe tbody tr th {\n",
       "        vertical-align: top;\n",
       "    }\n",
       "\n",
       "    .dataframe thead th {\n",
       "        text-align: right;\n",
       "    }\n",
       "</style>\n",
       "<table border=\"1\" class=\"dataframe\">\n",
       "  <thead>\n",
       "    <tr style=\"text-align: right;\">\n",
       "      <th></th>\n",
       "      <th>id</th>\n",
       "      <th>age</th>\n",
       "      <th>sex</th>\n",
       "      <th>dataset</th>\n",
       "      <th>cp</th>\n",
       "      <th>trestbps</th>\n",
       "      <th>chol</th>\n",
       "      <th>fbs</th>\n",
       "      <th>restecg</th>\n",
       "      <th>thalch</th>\n",
       "      <th>exang</th>\n",
       "      <th>oldpeak</th>\n",
       "      <th>slope</th>\n",
       "      <th>ca</th>\n",
       "      <th>thal</th>\n",
       "      <th>num</th>\n",
       "    </tr>\n",
       "  </thead>\n",
       "  <tbody>\n",
       "    <tr>\n",
       "      <th>0</th>\n",
       "      <td>1</td>\n",
       "      <td>63</td>\n",
       "      <td>Male</td>\n",
       "      <td>Cleveland</td>\n",
       "      <td>typical angina</td>\n",
       "      <td>145.0</td>\n",
       "      <td>233.0</td>\n",
       "      <td>True</td>\n",
       "      <td>lv hypertrophy</td>\n",
       "      <td>150.0</td>\n",
       "      <td>False</td>\n",
       "      <td>2.3</td>\n",
       "      <td>downsloping</td>\n",
       "      <td>0.0</td>\n",
       "      <td>fixed defect</td>\n",
       "      <td>0</td>\n",
       "    </tr>\n",
       "    <tr>\n",
       "      <th>1</th>\n",
       "      <td>2</td>\n",
       "      <td>67</td>\n",
       "      <td>Male</td>\n",
       "      <td>Cleveland</td>\n",
       "      <td>asymptomatic</td>\n",
       "      <td>160.0</td>\n",
       "      <td>286.0</td>\n",
       "      <td>False</td>\n",
       "      <td>lv hypertrophy</td>\n",
       "      <td>108.0</td>\n",
       "      <td>True</td>\n",
       "      <td>1.5</td>\n",
       "      <td>flat</td>\n",
       "      <td>3.0</td>\n",
       "      <td>normal</td>\n",
       "      <td>2</td>\n",
       "    </tr>\n",
       "    <tr>\n",
       "      <th>2</th>\n",
       "      <td>3</td>\n",
       "      <td>67</td>\n",
       "      <td>Male</td>\n",
       "      <td>Cleveland</td>\n",
       "      <td>asymptomatic</td>\n",
       "      <td>120.0</td>\n",
       "      <td>229.0</td>\n",
       "      <td>False</td>\n",
       "      <td>lv hypertrophy</td>\n",
       "      <td>129.0</td>\n",
       "      <td>True</td>\n",
       "      <td>2.6</td>\n",
       "      <td>flat</td>\n",
       "      <td>2.0</td>\n",
       "      <td>reversable defect</td>\n",
       "      <td>1</td>\n",
       "    </tr>\n",
       "    <tr>\n",
       "      <th>3</th>\n",
       "      <td>4</td>\n",
       "      <td>37</td>\n",
       "      <td>Male</td>\n",
       "      <td>Cleveland</td>\n",
       "      <td>non-anginal</td>\n",
       "      <td>130.0</td>\n",
       "      <td>250.0</td>\n",
       "      <td>False</td>\n",
       "      <td>normal</td>\n",
       "      <td>187.0</td>\n",
       "      <td>False</td>\n",
       "      <td>3.5</td>\n",
       "      <td>downsloping</td>\n",
       "      <td>0.0</td>\n",
       "      <td>normal</td>\n",
       "      <td>0</td>\n",
       "    </tr>\n",
       "    <tr>\n",
       "      <th>4</th>\n",
       "      <td>5</td>\n",
       "      <td>41</td>\n",
       "      <td>Female</td>\n",
       "      <td>Cleveland</td>\n",
       "      <td>atypical angina</td>\n",
       "      <td>130.0</td>\n",
       "      <td>204.0</td>\n",
       "      <td>False</td>\n",
       "      <td>lv hypertrophy</td>\n",
       "      <td>172.0</td>\n",
       "      <td>False</td>\n",
       "      <td>1.4</td>\n",
       "      <td>upsloping</td>\n",
       "      <td>0.0</td>\n",
       "      <td>normal</td>\n",
       "      <td>0</td>\n",
       "    </tr>\n",
       "  </tbody>\n",
       "</table>\n",
       "</div>"
      ],
      "text/plain": [
       "   id  age     sex    dataset               cp  trestbps   chol    fbs  \\\n",
       "0   1   63    Male  Cleveland   typical angina     145.0  233.0   True   \n",
       "1   2   67    Male  Cleveland     asymptomatic     160.0  286.0  False   \n",
       "2   3   67    Male  Cleveland     asymptomatic     120.0  229.0  False   \n",
       "3   4   37    Male  Cleveland      non-anginal     130.0  250.0  False   \n",
       "4   5   41  Female  Cleveland  atypical angina     130.0  204.0  False   \n",
       "\n",
       "          restecg  thalch  exang  oldpeak        slope   ca  \\\n",
       "0  lv hypertrophy   150.0  False      2.3  downsloping  0.0   \n",
       "1  lv hypertrophy   108.0   True      1.5         flat  3.0   \n",
       "2  lv hypertrophy   129.0   True      2.6         flat  2.0   \n",
       "3          normal   187.0  False      3.5  downsloping  0.0   \n",
       "4  lv hypertrophy   172.0  False      1.4    upsloping  0.0   \n",
       "\n",
       "                thal  num  \n",
       "0       fixed defect    0  \n",
       "1             normal    2  \n",
       "2  reversable defect    1  \n",
       "3             normal    0  \n",
       "4             normal    0  "
      ]
     },
     "execution_count": 2,
     "metadata": {},
     "output_type": "execute_result"
    }
   ],
   "source": [
    "import numpy as np\n",
    "import pandas as pd\n",
    "\n",
    "import seaborn as sns\n",
    "import matplotlib.pyplot as plt\n",
    "import plotly.express as px\n",
    "import plotly.figure_factory as ff\n",
    "import plotly.graph_objects as go\n",
    "\n",
    "%matplotlib inline\n",
    "data = pd.read_csv('heart_disease_uci.csv')\n",
    "data.head()"
   ]
  },
  {
   "cell_type": "code",
   "execution_count": 3,
   "metadata": {},
   "outputs": [
    {
     "name": "stdout",
     "output_type": "stream",
     "text": [
      "Collecting sweetviz\n",
      "  Downloading sweetviz-2.3.0-py3-none-any.whl (15.1 MB)\n",
      "\u001b[2K     \u001b[90m━━━━━━━━━━━━━━━━━━━━━━━━━━━━━━━━━━━━━━━━\u001b[0m \u001b[32m15.1/15.1 MB\u001b[0m \u001b[31m45.8 MB/s\u001b[0m eta \u001b[36m0:00:00\u001b[0m00:01\u001b[0m00:01\u001b[0m\n",
      "\u001b[?25hRequirement already satisfied: pandas!=1.0.0,!=1.0.1,!=1.0.2,>=0.25.3 in /opt/anaconda3/envs/mldl/lib/python3.10/site-packages (from sweetviz) (1.4.4)\n",
      "Requirement already satisfied: scipy>=1.3.2 in /opt/anaconda3/envs/mldl/lib/python3.10/site-packages (from sweetviz) (1.7.3)\n",
      "Requirement already satisfied: tqdm>=4.43.0 in /opt/anaconda3/envs/mldl/lib/python3.10/site-packages (from sweetviz) (4.64.1)\n",
      "Requirement already satisfied: jinja2>=2.11.1 in /opt/anaconda3/envs/mldl/lib/python3.10/site-packages (from sweetviz) (3.1.2)\n",
      "Collecting importlib-resources>=1.2.0\n",
      "  Using cached importlib_resources-6.1.1-py3-none-any.whl (33 kB)\n",
      "Requirement already satisfied: matplotlib>=3.1.3 in /opt/anaconda3/envs/mldl/lib/python3.10/site-packages (from sweetviz) (3.5.2)\n",
      "Requirement already satisfied: numpy>=1.16.0 in /opt/anaconda3/envs/mldl/lib/python3.10/site-packages (from sweetviz) (1.21.6)\n",
      "Requirement already satisfied: MarkupSafe>=2.0 in /opt/anaconda3/envs/mldl/lib/python3.10/site-packages (from jinja2>=2.11.1->sweetviz) (2.1.1)\n",
      "Requirement already satisfied: kiwisolver>=1.0.1 in /opt/anaconda3/envs/mldl/lib/python3.10/site-packages (from matplotlib>=3.1.3->sweetviz) (1.4.2)\n",
      "Requirement already satisfied: pillow>=6.2.0 in /opt/anaconda3/envs/mldl/lib/python3.10/site-packages (from matplotlib>=3.1.3->sweetviz) (9.2.0)\n",
      "Requirement already satisfied: fonttools>=4.22.0 in /opt/anaconda3/envs/mldl/lib/python3.10/site-packages (from matplotlib>=3.1.3->sweetviz) (4.25.0)\n",
      "Requirement already satisfied: python-dateutil>=2.7 in /opt/anaconda3/envs/mldl/lib/python3.10/site-packages (from matplotlib>=3.1.3->sweetviz) (2.8.2)\n",
      "Requirement already satisfied: cycler>=0.10 in /opt/anaconda3/envs/mldl/lib/python3.10/site-packages (from matplotlib>=3.1.3->sweetviz) (0.11.0)\n",
      "Requirement already satisfied: pyparsing>=2.2.1 in /opt/anaconda3/envs/mldl/lib/python3.10/site-packages (from matplotlib>=3.1.3->sweetviz) (3.0.9)\n",
      "Requirement already satisfied: packaging>=20.0 in /opt/anaconda3/envs/mldl/lib/python3.10/site-packages (from matplotlib>=3.1.3->sweetviz) (21.3)\n",
      "Requirement already satisfied: pytz>=2020.1 in /opt/anaconda3/envs/mldl/lib/python3.10/site-packages (from pandas!=1.0.0,!=1.0.1,!=1.0.2,>=0.25.3->sweetviz) (2022.1)\n",
      "Requirement already satisfied: six>=1.5 in /opt/anaconda3/envs/mldl/lib/python3.10/site-packages (from python-dateutil>=2.7->matplotlib>=3.1.3->sweetviz) (1.15.0)\n",
      "Installing collected packages: importlib-resources, sweetviz\n",
      "Successfully installed importlib-resources-6.1.1 sweetviz-2.3.0\n"
     ]
    }
   ],
   "source": [
    "#!pip install pandas-profiling\n",
    "#!conda install typing-extensions\n",
    "# !pip install typing_extensions==4.7.1\n",
    "!pip install sweetviz"
   ]
  },
  {
   "cell_type": "code",
   "execution_count": 4,
   "metadata": {},
   "outputs": [
    {
     "ename": "ImportError",
     "evalue": "cannot import name 'ProfileReportb' from 'pandas_profiling' (/opt/anaconda3/envs/mldl/lib/python3.10/site-packages/pandas_profiling/__init__.py)",
     "output_type": "error",
     "traceback": [
      "\u001b[0;31m---------------------------------------------------------------------------\u001b[0m",
      "\u001b[0;31mImportError\u001b[0m                               Traceback (most recent call last)",
      "\u001b[1;32m/Users/Atharva/Desktop/AA_Masters_CS/Dr_Inokullu/project/heart_disease_model.ipynb Cell 3\u001b[0m line \u001b[0;36m<cell line: 2>\u001b[0;34m()\u001b[0m\n\u001b[1;32m      <a href='vscode-notebook-cell:/Users/Atharva/Desktop/AA_Masters_CS/Dr_Inokullu/project/heart_disease_model.ipynb#W2sZmlsZQ%3D%3D?line=0'>1</a>\u001b[0m \u001b[39mimport\u001b[39;00m \u001b[39mpandas_profiling\u001b[39;00m\n\u001b[0;32m----> <a href='vscode-notebook-cell:/Users/Atharva/Desktop/AA_Masters_CS/Dr_Inokullu/project/heart_disease_model.ipynb#W2sZmlsZQ%3D%3D?line=1'>2</a>\u001b[0m \u001b[39mfrom\u001b[39;00m \u001b[39mpandas_profiling\u001b[39;00m \u001b[39mimport\u001b[39;00m ProfileReportb\n",
      "\u001b[0;31mImportError\u001b[0m: cannot import name 'ProfileReportb' from 'pandas_profiling' (/opt/anaconda3/envs/mldl/lib/python3.10/site-packages/pandas_profiling/__init__.py)"
     ]
    }
   ],
   "source": [
    "import pandas_profiling\n",
    "from pandas_profiling import ProfileReportb\n",
    "# prof = ProfileReport(data)\n",
    "# prof.to_file(output_file='eda_analysis.html')"
   ]
  },
  {
   "cell_type": "code",
   "execution_count": null,
   "metadata": {},
   "outputs": [
    {
     "data": {
      "application/vnd.jupyter.widget-view+json": {
       "model_id": "bbd6c44de5f14e26a3db906180818165",
       "version_major": 2,
       "version_minor": 0
      },
      "text/plain": [
       "                                             |          | [  0%]   00:00 -> (? left)"
      ]
     },
     "metadata": {},
     "output_type": "display_data"
    },
    {
     "name": "stdout",
     "output_type": "stream",
     "text": [
      "Report SWEETVIZ_REPORT.html was generated! NOTEBOOK/COLAB USERS: the web browser MAY not pop up, regardless, the report IS saved in your notebook/colab files.\n"
     ]
    }
   ],
   "source": [
    "import sweetviz as sv\n",
    "\n",
    "my_report = sv.analyze(data)\n",
    "my_report.show_html() # Default arguments will generate to \"SWEETVIZ_REPORT.html\""
   ]
  },
  {
   "cell_type": "code",
   "execution_count": null,
   "metadata": {},
   "outputs": [
    {
     "name": "stdout",
     "output_type": "stream",
     "text": [
      "<class 'pandas.core.frame.DataFrame'>\n",
      "Int64Index: 299 entries, 68 to 55\n",
      "Data columns (total 16 columns):\n",
      " #   Column    Non-Null Count  Dtype  \n",
      "---  ------    --------------  -----  \n",
      " 0   id        299 non-null    int64  \n",
      " 1   age       299 non-null    int64  \n",
      " 2   sex       299 non-null    object \n",
      " 3   dataset   299 non-null    object \n",
      " 4   cp        299 non-null    object \n",
      " 5   trestbps  299 non-null    float64\n",
      " 6   chol      299 non-null    float64\n",
      " 7   fbs       299 non-null    object \n",
      " 8   restecg   299 non-null    object \n",
      " 9   thalch    299 non-null    float64\n",
      " 10  exang     299 non-null    object \n",
      " 11  oldpeak   299 non-null    float64\n",
      " 12  slope     299 non-null    object \n",
      " 13  ca        299 non-null    float64\n",
      " 14  thal      299 non-null    object \n",
      " 15  num       299 non-null    int64  \n",
      "dtypes: float64(5), int64(3), object(8)\n",
      "memory usage: 39.7+ KB\n"
     ]
    }
   ],
   "source": [
    "data.dropna(inplace = True)\n",
    "from sklearn.utils import shuffle\n",
    "data = shuffle(data)\n",
    "data.info()"
   ]
  },
  {
   "cell_type": "code",
   "execution_count": null,
   "metadata": {},
   "outputs": [
    {
     "data": {
      "application/vnd.plotly.v1+json": {
       "config": {
        "plotlyServerURL": "https://plot.ly"
       },
       "data": [
        {
         "boxmean": true,
         "marker": {
          "color": "green"
         },
         "name": "Age",
         "type": "box",
         "y": [
          59,
          42,
          60,
          59,
          61,
          59,
          67,
          67,
          61,
          55,
          55,
          41,
          56,
          54,
          38,
          41,
          66,
          60,
          51,
          54,
          47,
          64,
          58,
          56,
          46,
          34,
          41,
          46,
          59,
          58,
          58,
          42,
          57,
          61,
          56,
          57,
          65,
          67,
          58,
          58,
          63,
          29,
          51,
          64,
          50,
          52,
          52,
          58,
          54,
          58,
          67,
          42,
          57,
          45,
          58,
          44,
          53,
          67,
          63,
          60,
          57,
          62,
          57,
          67,
          63,
          35,
          52,
          50,
          56,
          51,
          53,
          54,
          67,
          52,
          63,
          35,
          68,
          44,
          43,
          49,
          45,
          52,
          59,
          62,
          58,
          49,
          51,
          62,
          66,
          58,
          64,
          41,
          62,
          51,
          53,
          70,
          53,
          65,
          45,
          66,
          39,
          60,
          52,
          50,
          71,
          65,
          52,
          44,
          56,
          40,
          54,
          58,
          63,
          59,
          53,
          58,
          56,
          43,
          43,
          55,
          57,
          54,
          56,
          59,
          61,
          69,
          47,
          66,
          48,
          76,
          63,
          62,
          64,
          55,
          41,
          44,
          62,
          69,
          62,
          51,
          62,
          41,
          41,
          57,
          54,
          64,
          44,
          35,
          45,
          70,
          62,
          66,
          62,
          51,
          60,
          54,
          56,
          61,
          41,
          39,
          50,
          59,
          65,
          53,
          40,
          56,
          60,
          60,
          57,
          54,
          43,
          44,
          42,
          43,
          77,
          57,
          45,
          45,
          48,
          67,
          66,
          57,
          74,
          44,
          56,
          54,
          50,
          45,
          44,
          47,
          42,
          64,
          41,
          57,
          43,
          65,
          54,
          48,
          57,
          60,
          48,
          52,
          57,
          57,
          55,
          39,
          70,
          64,
          61,
          61,
          47,
          59,
          48,
          58,
          54,
          44,
          67,
          37,
          63,
          47,
          51,
          35,
          54,
          59,
          58,
          41,
          59,
          52,
          58,
          44,
          56,
          71,
          46,
          57,
          42,
          57,
          68,
          62,
          71,
          44,
          59,
          68,
          49,
          70,
          60,
          49,
          49,
          37,
          59,
          60,
          50,
          55,
          61,
          65,
          50,
          43,
          68,
          58,
          58,
          51,
          64,
          48,
          55,
          59,
          51,
          56,
          39,
          46,
          47,
          69,
          60,
          46,
          64,
          51,
          52,
          40,
          51,
          65,
          53,
          60,
          46,
          48,
          58,
          54,
          42,
          65,
          63,
          63,
          42,
          46,
          57,
          64,
          54,
          66,
          52,
          55,
          45,
          34,
          54
         ]
        },
        {
         "boxmean": true,
         "marker": {
          "color": "blue"
         },
         "name": "Male only",
         "type": "box",
         "y": [
          59,
          60,
          59,
          61,
          59,
          67,
          67,
          61,
          55,
          41,
          56,
          54,
          38,
          60,
          51,
          54,
          47,
          56,
          46,
          34,
          41,
          57,
          61,
          56,
          57,
          67,
          58,
          58,
          29,
          64,
          52,
          52,
          58,
          58,
          42,
          45,
          44,
          53,
          67,
          57,
          63,
          35,
          52,
          56,
          53,
          67,
          52,
          63,
          35,
          68,
          44,
          43,
          49,
          52,
          59,
          58,
          62,
          66,
          58,
          64,
          62,
          51,
          70,
          53,
          65,
          45,
          66,
          52,
          50,
          52,
          44,
          40,
          58,
          59,
          53,
          58,
          56,
          55,
          57,
          56,
          59,
          61,
          47,
          48,
          62,
          64,
          55,
          41,
          44,
          69,
          62,
          51,
          57,
          54,
          64,
          44,
          45,
          70,
          51,
          54,
          56,
          61,
          41,
          59,
          65,
          40,
          60,
          57,
          54,
          43,
          44,
          42,
          43,
          77,
          57,
          45,
          67,
          66,
          57,
          54,
          50,
          44,
          47,
          42,
          41,
          57,
          43,
          54,
          48,
          57,
          60,
          48,
          52,
          57,
          39,
          70,
          64,
          47,
          59,
          48,
          58,
          54,
          44,
          37,
          63,
          47,
          51,
          35,
          54,
          59,
          41,
          59,
          56,
          57,
          42,
          57,
          44,
          59,
          68,
          49,
          70,
          49,
          59,
          60,
          50,
          61,
          65,
          50,
          43,
          68,
          58,
          58,
          51,
          64,
          48,
          55,
          59,
          51,
          56,
          39,
          47,
          69,
          60,
          46,
          64,
          51,
          52,
          40,
          65,
          53,
          60,
          46,
          48,
          58,
          42,
          63,
          42,
          46,
          54,
          66,
          52,
          45,
          54
         ]
        },
        {
         "boxmean": true,
         "marker": {
          "color": "red"
         },
         "name": "Female only",
         "type": "box",
         "y": [
          42,
          55,
          41,
          66,
          64,
          58,
          46,
          59,
          58,
          58,
          42,
          65,
          63,
          51,
          50,
          54,
          67,
          57,
          58,
          63,
          60,
          57,
          62,
          67,
          50,
          51,
          54,
          45,
          62,
          49,
          51,
          41,
          53,
          39,
          60,
          71,
          65,
          56,
          54,
          63,
          43,
          43,
          54,
          69,
          66,
          76,
          63,
          62,
          62,
          41,
          41,
          35,
          62,
          66,
          62,
          60,
          39,
          50,
          53,
          56,
          60,
          45,
          48,
          74,
          44,
          56,
          45,
          64,
          65,
          57,
          55,
          61,
          61,
          67,
          58,
          52,
          58,
          44,
          71,
          46,
          68,
          62,
          71,
          60,
          49,
          37,
          55,
          46,
          51,
          54,
          65,
          63,
          57,
          64,
          55,
          34
         ]
        }
       ],
       "layout": {
        "template": {
         "data": {
          "bar": [
           {
            "error_x": {
             "color": "#2a3f5f"
            },
            "error_y": {
             "color": "#2a3f5f"
            },
            "marker": {
             "line": {
              "color": "#E5ECF6",
              "width": 0.5
             },
             "pattern": {
              "fillmode": "overlay",
              "size": 10,
              "solidity": 0.2
             }
            },
            "type": "bar"
           }
          ],
          "barpolar": [
           {
            "marker": {
             "line": {
              "color": "#E5ECF6",
              "width": 0.5
             },
             "pattern": {
              "fillmode": "overlay",
              "size": 10,
              "solidity": 0.2
             }
            },
            "type": "barpolar"
           }
          ],
          "carpet": [
           {
            "aaxis": {
             "endlinecolor": "#2a3f5f",
             "gridcolor": "white",
             "linecolor": "white",
             "minorgridcolor": "white",
             "startlinecolor": "#2a3f5f"
            },
            "baxis": {
             "endlinecolor": "#2a3f5f",
             "gridcolor": "white",
             "linecolor": "white",
             "minorgridcolor": "white",
             "startlinecolor": "#2a3f5f"
            },
            "type": "carpet"
           }
          ],
          "choropleth": [
           {
            "colorbar": {
             "outlinewidth": 0,
             "ticks": ""
            },
            "type": "choropleth"
           }
          ],
          "contour": [
           {
            "colorbar": {
             "outlinewidth": 0,
             "ticks": ""
            },
            "colorscale": [
             [
              0,
              "#0d0887"
             ],
             [
              0.1111111111111111,
              "#46039f"
             ],
             [
              0.2222222222222222,
              "#7201a8"
             ],
             [
              0.3333333333333333,
              "#9c179e"
             ],
             [
              0.4444444444444444,
              "#bd3786"
             ],
             [
              0.5555555555555556,
              "#d8576b"
             ],
             [
              0.6666666666666666,
              "#ed7953"
             ],
             [
              0.7777777777777778,
              "#fb9f3a"
             ],
             [
              0.8888888888888888,
              "#fdca26"
             ],
             [
              1,
              "#f0f921"
             ]
            ],
            "type": "contour"
           }
          ],
          "contourcarpet": [
           {
            "colorbar": {
             "outlinewidth": 0,
             "ticks": ""
            },
            "type": "contourcarpet"
           }
          ],
          "heatmap": [
           {
            "colorbar": {
             "outlinewidth": 0,
             "ticks": ""
            },
            "colorscale": [
             [
              0,
              "#0d0887"
             ],
             [
              0.1111111111111111,
              "#46039f"
             ],
             [
              0.2222222222222222,
              "#7201a8"
             ],
             [
              0.3333333333333333,
              "#9c179e"
             ],
             [
              0.4444444444444444,
              "#bd3786"
             ],
             [
              0.5555555555555556,
              "#d8576b"
             ],
             [
              0.6666666666666666,
              "#ed7953"
             ],
             [
              0.7777777777777778,
              "#fb9f3a"
             ],
             [
              0.8888888888888888,
              "#fdca26"
             ],
             [
              1,
              "#f0f921"
             ]
            ],
            "type": "heatmap"
           }
          ],
          "heatmapgl": [
           {
            "colorbar": {
             "outlinewidth": 0,
             "ticks": ""
            },
            "colorscale": [
             [
              0,
              "#0d0887"
             ],
             [
              0.1111111111111111,
              "#46039f"
             ],
             [
              0.2222222222222222,
              "#7201a8"
             ],
             [
              0.3333333333333333,
              "#9c179e"
             ],
             [
              0.4444444444444444,
              "#bd3786"
             ],
             [
              0.5555555555555556,
              "#d8576b"
             ],
             [
              0.6666666666666666,
              "#ed7953"
             ],
             [
              0.7777777777777778,
              "#fb9f3a"
             ],
             [
              0.8888888888888888,
              "#fdca26"
             ],
             [
              1,
              "#f0f921"
             ]
            ],
            "type": "heatmapgl"
           }
          ],
          "histogram": [
           {
            "marker": {
             "pattern": {
              "fillmode": "overlay",
              "size": 10,
              "solidity": 0.2
             }
            },
            "type": "histogram"
           }
          ],
          "histogram2d": [
           {
            "colorbar": {
             "outlinewidth": 0,
             "ticks": ""
            },
            "colorscale": [
             [
              0,
              "#0d0887"
             ],
             [
              0.1111111111111111,
              "#46039f"
             ],
             [
              0.2222222222222222,
              "#7201a8"
             ],
             [
              0.3333333333333333,
              "#9c179e"
             ],
             [
              0.4444444444444444,
              "#bd3786"
             ],
             [
              0.5555555555555556,
              "#d8576b"
             ],
             [
              0.6666666666666666,
              "#ed7953"
             ],
             [
              0.7777777777777778,
              "#fb9f3a"
             ],
             [
              0.8888888888888888,
              "#fdca26"
             ],
             [
              1,
              "#f0f921"
             ]
            ],
            "type": "histogram2d"
           }
          ],
          "histogram2dcontour": [
           {
            "colorbar": {
             "outlinewidth": 0,
             "ticks": ""
            },
            "colorscale": [
             [
              0,
              "#0d0887"
             ],
             [
              0.1111111111111111,
              "#46039f"
             ],
             [
              0.2222222222222222,
              "#7201a8"
             ],
             [
              0.3333333333333333,
              "#9c179e"
             ],
             [
              0.4444444444444444,
              "#bd3786"
             ],
             [
              0.5555555555555556,
              "#d8576b"
             ],
             [
              0.6666666666666666,
              "#ed7953"
             ],
             [
              0.7777777777777778,
              "#fb9f3a"
             ],
             [
              0.8888888888888888,
              "#fdca26"
             ],
             [
              1,
              "#f0f921"
             ]
            ],
            "type": "histogram2dcontour"
           }
          ],
          "mesh3d": [
           {
            "colorbar": {
             "outlinewidth": 0,
             "ticks": ""
            },
            "type": "mesh3d"
           }
          ],
          "parcoords": [
           {
            "line": {
             "colorbar": {
              "outlinewidth": 0,
              "ticks": ""
             }
            },
            "type": "parcoords"
           }
          ],
          "pie": [
           {
            "automargin": true,
            "type": "pie"
           }
          ],
          "scatter": [
           {
            "fillpattern": {
             "fillmode": "overlay",
             "size": 10,
             "solidity": 0.2
            },
            "type": "scatter"
           }
          ],
          "scatter3d": [
           {
            "line": {
             "colorbar": {
              "outlinewidth": 0,
              "ticks": ""
             }
            },
            "marker": {
             "colorbar": {
              "outlinewidth": 0,
              "ticks": ""
             }
            },
            "type": "scatter3d"
           }
          ],
          "scattercarpet": [
           {
            "marker": {
             "colorbar": {
              "outlinewidth": 0,
              "ticks": ""
             }
            },
            "type": "scattercarpet"
           }
          ],
          "scattergeo": [
           {
            "marker": {
             "colorbar": {
              "outlinewidth": 0,
              "ticks": ""
             }
            },
            "type": "scattergeo"
           }
          ],
          "scattergl": [
           {
            "marker": {
             "colorbar": {
              "outlinewidth": 0,
              "ticks": ""
             }
            },
            "type": "scattergl"
           }
          ],
          "scattermapbox": [
           {
            "marker": {
             "colorbar": {
              "outlinewidth": 0,
              "ticks": ""
             }
            },
            "type": "scattermapbox"
           }
          ],
          "scatterpolar": [
           {
            "marker": {
             "colorbar": {
              "outlinewidth": 0,
              "ticks": ""
             }
            },
            "type": "scatterpolar"
           }
          ],
          "scatterpolargl": [
           {
            "marker": {
             "colorbar": {
              "outlinewidth": 0,
              "ticks": ""
             }
            },
            "type": "scatterpolargl"
           }
          ],
          "scatterternary": [
           {
            "marker": {
             "colorbar": {
              "outlinewidth": 0,
              "ticks": ""
             }
            },
            "type": "scatterternary"
           }
          ],
          "surface": [
           {
            "colorbar": {
             "outlinewidth": 0,
             "ticks": ""
            },
            "colorscale": [
             [
              0,
              "#0d0887"
             ],
             [
              0.1111111111111111,
              "#46039f"
             ],
             [
              0.2222222222222222,
              "#7201a8"
             ],
             [
              0.3333333333333333,
              "#9c179e"
             ],
             [
              0.4444444444444444,
              "#bd3786"
             ],
             [
              0.5555555555555556,
              "#d8576b"
             ],
             [
              0.6666666666666666,
              "#ed7953"
             ],
             [
              0.7777777777777778,
              "#fb9f3a"
             ],
             [
              0.8888888888888888,
              "#fdca26"
             ],
             [
              1,
              "#f0f921"
             ]
            ],
            "type": "surface"
           }
          ],
          "table": [
           {
            "cells": {
             "fill": {
              "color": "#EBF0F8"
             },
             "line": {
              "color": "white"
             }
            },
            "header": {
             "fill": {
              "color": "#C8D4E3"
             },
             "line": {
              "color": "white"
             }
            },
            "type": "table"
           }
          ]
         },
         "layout": {
          "annotationdefaults": {
           "arrowcolor": "#2a3f5f",
           "arrowhead": 0,
           "arrowwidth": 1
          },
          "autotypenumbers": "strict",
          "coloraxis": {
           "colorbar": {
            "outlinewidth": 0,
            "ticks": ""
           }
          },
          "colorscale": {
           "diverging": [
            [
             0,
             "#8e0152"
            ],
            [
             0.1,
             "#c51b7d"
            ],
            [
             0.2,
             "#de77ae"
            ],
            [
             0.3,
             "#f1b6da"
            ],
            [
             0.4,
             "#fde0ef"
            ],
            [
             0.5,
             "#f7f7f7"
            ],
            [
             0.6,
             "#e6f5d0"
            ],
            [
             0.7,
             "#b8e186"
            ],
            [
             0.8,
             "#7fbc41"
            ],
            [
             0.9,
             "#4d9221"
            ],
            [
             1,
             "#276419"
            ]
           ],
           "sequential": [
            [
             0,
             "#0d0887"
            ],
            [
             0.1111111111111111,
             "#46039f"
            ],
            [
             0.2222222222222222,
             "#7201a8"
            ],
            [
             0.3333333333333333,
             "#9c179e"
            ],
            [
             0.4444444444444444,
             "#bd3786"
            ],
            [
             0.5555555555555556,
             "#d8576b"
            ],
            [
             0.6666666666666666,
             "#ed7953"
            ],
            [
             0.7777777777777778,
             "#fb9f3a"
            ],
            [
             0.8888888888888888,
             "#fdca26"
            ],
            [
             1,
             "#f0f921"
            ]
           ],
           "sequentialminus": [
            [
             0,
             "#0d0887"
            ],
            [
             0.1111111111111111,
             "#46039f"
            ],
            [
             0.2222222222222222,
             "#7201a8"
            ],
            [
             0.3333333333333333,
             "#9c179e"
            ],
            [
             0.4444444444444444,
             "#bd3786"
            ],
            [
             0.5555555555555556,
             "#d8576b"
            ],
            [
             0.6666666666666666,
             "#ed7953"
            ],
            [
             0.7777777777777778,
             "#fb9f3a"
            ],
            [
             0.8888888888888888,
             "#fdca26"
            ],
            [
             1,
             "#f0f921"
            ]
           ]
          },
          "colorway": [
           "#636efa",
           "#EF553B",
           "#00cc96",
           "#ab63fa",
           "#FFA15A",
           "#19d3f3",
           "#FF6692",
           "#B6E880",
           "#FF97FF",
           "#FECB52"
          ],
          "font": {
           "color": "#2a3f5f"
          },
          "geo": {
           "bgcolor": "white",
           "lakecolor": "white",
           "landcolor": "#E5ECF6",
           "showlakes": true,
           "showland": true,
           "subunitcolor": "white"
          },
          "hoverlabel": {
           "align": "left"
          },
          "hovermode": "closest",
          "mapbox": {
           "style": "light"
          },
          "paper_bgcolor": "white",
          "plot_bgcolor": "#E5ECF6",
          "polar": {
           "angularaxis": {
            "gridcolor": "white",
            "linecolor": "white",
            "ticks": ""
           },
           "bgcolor": "#E5ECF6",
           "radialaxis": {
            "gridcolor": "white",
            "linecolor": "white",
            "ticks": ""
           }
          },
          "scene": {
           "xaxis": {
            "backgroundcolor": "#E5ECF6",
            "gridcolor": "white",
            "gridwidth": 2,
            "linecolor": "white",
            "showbackground": true,
            "ticks": "",
            "zerolinecolor": "white"
           },
           "yaxis": {
            "backgroundcolor": "#E5ECF6",
            "gridcolor": "white",
            "gridwidth": 2,
            "linecolor": "white",
            "showbackground": true,
            "ticks": "",
            "zerolinecolor": "white"
           },
           "zaxis": {
            "backgroundcolor": "#E5ECF6",
            "gridcolor": "white",
            "gridwidth": 2,
            "linecolor": "white",
            "showbackground": true,
            "ticks": "",
            "zerolinecolor": "white"
           }
          },
          "shapedefaults": {
           "line": {
            "color": "#2a3f5f"
           }
          },
          "ternary": {
           "aaxis": {
            "gridcolor": "white",
            "linecolor": "white",
            "ticks": ""
           },
           "baxis": {
            "gridcolor": "white",
            "linecolor": "white",
            "ticks": ""
           },
           "bgcolor": "#E5ECF6",
           "caxis": {
            "gridcolor": "white",
            "linecolor": "white",
            "ticks": ""
           }
          },
          "title": {
           "x": 0.05
          },
          "xaxis": {
           "automargin": true,
           "gridcolor": "white",
           "linecolor": "white",
           "ticks": "",
           "title": {
            "standoff": 15
           },
           "zerolinecolor": "white",
           "zerolinewidth": 2
          },
          "yaxis": {
           "automargin": true,
           "gridcolor": "white",
           "linecolor": "white",
           "ticks": "",
           "title": {
            "standoff": 15
           },
           "zerolinecolor": "white",
           "zerolinewidth": 2
          }
         }
        },
        "title": {
         "text": "Age Distribution(all)",
         "x": 0.5
        },
        "xaxis": {
         "linecolor": "black",
         "linewidth": 2,
         "mirror": true,
         "showline": true
        },
        "yaxis": {
         "linecolor": "black",
         "linewidth": 2,
         "mirror": true,
         "showline": true,
         "title": {
          "text": "Age"
         }
        }
       }
      }
     },
     "metadata": {},
     "output_type": "display_data"
    }
   ],
   "source": [
    "fig = go.Figure()\n",
    "fig.add_trace(go.Box(y=data['age'].values , name='Age', marker_color = 'green',boxmean=True))\n",
    "fig.add_trace(go.Box(y=data[data['sex']=='Male']['age'].values, name ='Male only', marker_color = 'blue', boxmean = True))\n",
    "fig.add_trace(go.Box(y=data[data['sex']=='Female']['age'].values, name ='Female only', marker_color = 'red', boxmean = True))\n",
    "fig.update_layout(title = 'Age Distribution(all)', yaxis_title = 'Age', title_x = 0.5)\n",
    "fig.update_xaxes(showline=True, linewidth=2, linecolor='black', mirror=True)\n",
    "fig.update_yaxes(showline=True, linewidth=2, linecolor='black', mirror=True)\n",
    "fig.show()"
   ]
  },
  {
   "cell_type": "code",
   "execution_count": null,
   "metadata": {},
   "outputs": [
    {
     "data": {
      "application/vnd.plotly.v1+json": {
       "config": {
        "plotlyServerURL": "https://plot.ly"
       },
       "data": [
        {
         "autobinx": false,
         "histnorm": "probability density",
         "legendgroup": "Age Distribution",
         "marker": {
          "color": "rgb(31, 119, 180)"
         },
         "name": "Age Distribution",
         "opacity": 0.7,
         "type": "histogram",
         "x": [
          59,
          42,
          60,
          59,
          61,
          59,
          67,
          67,
          61,
          55,
          55,
          41,
          56,
          54,
          38,
          41,
          66,
          60,
          51,
          54,
          47,
          64,
          58,
          56,
          46,
          34,
          41,
          46,
          59,
          58,
          58,
          42,
          57,
          61,
          56,
          57,
          65,
          67,
          58,
          58,
          63,
          29,
          51,
          64,
          50,
          52,
          52,
          58,
          54,
          58,
          67,
          42,
          57,
          45,
          58,
          44,
          53,
          67,
          63,
          60,
          57,
          62,
          57,
          67,
          63,
          35,
          52,
          50,
          56,
          51,
          53,
          54,
          67,
          52,
          63,
          35,
          68,
          44,
          43,
          49,
          45,
          52,
          59,
          62,
          58,
          49,
          51,
          62,
          66,
          58,
          64,
          41,
          62,
          51,
          53,
          70,
          53,
          65,
          45,
          66,
          39,
          60,
          52,
          50,
          71,
          65,
          52,
          44,
          56,
          40,
          54,
          58,
          63,
          59,
          53,
          58,
          56,
          43,
          43,
          55,
          57,
          54,
          56,
          59,
          61,
          69,
          47,
          66,
          48,
          76,
          63,
          62,
          64,
          55,
          41,
          44,
          62,
          69,
          62,
          51,
          62,
          41,
          41,
          57,
          54,
          64,
          44,
          35,
          45,
          70,
          62,
          66,
          62,
          51,
          60,
          54,
          56,
          61,
          41,
          39,
          50,
          59,
          65,
          53,
          40,
          56,
          60,
          60,
          57,
          54,
          43,
          44,
          42,
          43,
          77,
          57,
          45,
          45,
          48,
          67,
          66,
          57,
          74,
          44,
          56,
          54,
          50,
          45,
          44,
          47,
          42,
          64,
          41,
          57,
          43,
          65,
          54,
          48,
          57,
          60,
          48,
          52,
          57,
          57,
          55,
          39,
          70,
          64,
          61,
          61,
          47,
          59,
          48,
          58,
          54,
          44,
          67,
          37,
          63,
          47,
          51,
          35,
          54,
          59,
          58,
          41,
          59,
          52,
          58,
          44,
          56,
          71,
          46,
          57,
          42,
          57,
          68,
          62,
          71,
          44,
          59,
          68,
          49,
          70,
          60,
          49,
          49,
          37,
          59,
          60,
          50,
          55,
          61,
          65,
          50,
          43,
          68,
          58,
          58,
          51,
          64,
          48,
          55,
          59,
          51,
          56,
          39,
          46,
          47,
          69,
          60,
          46,
          64,
          51,
          52,
          40,
          51,
          65,
          53,
          60,
          46,
          48,
          58,
          54,
          42,
          65,
          63,
          63,
          42,
          46,
          57,
          64,
          54,
          66,
          52,
          55,
          45,
          34,
          54
         ],
         "xaxis": "x",
         "xbins": {
          "end": 77,
          "size": 1,
          "start": 29
         },
         "yaxis": "y"
        },
        {
         "legendgroup": "Age Distribution",
         "marker": {
          "color": "rgb(31, 119, 180)"
         },
         "mode": "lines",
         "name": "Age Distribution",
         "showlegend": false,
         "type": "scatter",
         "x": [
          29,
          29.096,
          29.192,
          29.288,
          29.384,
          29.48,
          29.576,
          29.672,
          29.768,
          29.864,
          29.96,
          30.056,
          30.152,
          30.248,
          30.344,
          30.44,
          30.536,
          30.632,
          30.728,
          30.824,
          30.92,
          31.016,
          31.112000000000002,
          31.208,
          31.304,
          31.4,
          31.496,
          31.592,
          31.688,
          31.784,
          31.88,
          31.976,
          32.072,
          32.168,
          32.264,
          32.36,
          32.456,
          32.552,
          32.648,
          32.744,
          32.84,
          32.936,
          33.032,
          33.128,
          33.224000000000004,
          33.32,
          33.416,
          33.512,
          33.608,
          33.704,
          33.8,
          33.896,
          33.992,
          34.088,
          34.184,
          34.28,
          34.376,
          34.472,
          34.568,
          34.664,
          34.76,
          34.856,
          34.952,
          35.048,
          35.144,
          35.24,
          35.336,
          35.432,
          35.528,
          35.624,
          35.72,
          35.816,
          35.912,
          36.008,
          36.104,
          36.2,
          36.296,
          36.392,
          36.488,
          36.584,
          36.68,
          36.775999999999996,
          36.872,
          36.968,
          37.064,
          37.16,
          37.256,
          37.352000000000004,
          37.448,
          37.544,
          37.64,
          37.736000000000004,
          37.832,
          37.928,
          38.024,
          38.12,
          38.216,
          38.312,
          38.408,
          38.504,
          38.6,
          38.696,
          38.792,
          38.888,
          38.984,
          39.08,
          39.176,
          39.272,
          39.368,
          39.464,
          39.56,
          39.656,
          39.752,
          39.848,
          39.944,
          40.04,
          40.135999999999996,
          40.232,
          40.328,
          40.424,
          40.519999999999996,
          40.616,
          40.712,
          40.808,
          40.903999999999996,
          41,
          41.096000000000004,
          41.192,
          41.288,
          41.384,
          41.480000000000004,
          41.576,
          41.672,
          41.768,
          41.864000000000004,
          41.96,
          42.056,
          42.152,
          42.248,
          42.344,
          42.44,
          42.536,
          42.632,
          42.728,
          42.824,
          42.92,
          43.016,
          43.112,
          43.208,
          43.304,
          43.4,
          43.496,
          43.592,
          43.688,
          43.784,
          43.88,
          43.976,
          44.072,
          44.168,
          44.263999999999996,
          44.36,
          44.456,
          44.552,
          44.647999999999996,
          44.744,
          44.84,
          44.936,
          45.032,
          45.128,
          45.224000000000004,
          45.32,
          45.416,
          45.512,
          45.608000000000004,
          45.704,
          45.8,
          45.896,
          45.992000000000004,
          46.088,
          46.184,
          46.28,
          46.376000000000005,
          46.472,
          46.568,
          46.664,
          46.760000000000005,
          46.856,
          46.952,
          47.048,
          47.144,
          47.239999999999995,
          47.336,
          47.432,
          47.528,
          47.623999999999995,
          47.72,
          47.816,
          47.912,
          48.007999999999996,
          48.104,
          48.2,
          48.296,
          48.391999999999996,
          48.488,
          48.584,
          48.68,
          48.775999999999996,
          48.872,
          48.968,
          49.064,
          49.16,
          49.256,
          49.352000000000004,
          49.448,
          49.544,
          49.64,
          49.736000000000004,
          49.832,
          49.928,
          50.024,
          50.120000000000005,
          50.216,
          50.312,
          50.408,
          50.504000000000005,
          50.6,
          50.696,
          50.792,
          50.888000000000005,
          50.984,
          51.08,
          51.176,
          51.272,
          51.367999999999995,
          51.464,
          51.56,
          51.656,
          51.751999999999995,
          51.848,
          51.944,
          52.04,
          52.135999999999996,
          52.232,
          52.328,
          52.424,
          52.519999999999996,
          52.616,
          52.712,
          52.808,
          52.903999999999996,
          53,
          53.096000000000004,
          53.192,
          53.288,
          53.384,
          53.480000000000004,
          53.576,
          53.672,
          53.768,
          53.864000000000004,
          53.96,
          54.056,
          54.152,
          54.248000000000005,
          54.344,
          54.44,
          54.536,
          54.632000000000005,
          54.728,
          54.824,
          54.92,
          55.016,
          55.111999999999995,
          55.208,
          55.304,
          55.4,
          55.495999999999995,
          55.592,
          55.688,
          55.784,
          55.879999999999995,
          55.976,
          56.072,
          56.168,
          56.263999999999996,
          56.36,
          56.456,
          56.552,
          56.647999999999996,
          56.744,
          56.84,
          56.936,
          57.032,
          57.128,
          57.224000000000004,
          57.32,
          57.416,
          57.512,
          57.608000000000004,
          57.704,
          57.8,
          57.896,
          57.992000000000004,
          58.088,
          58.184,
          58.28,
          58.376000000000005,
          58.472,
          58.568,
          58.664,
          58.760000000000005,
          58.856,
          58.952,
          59.048,
          59.144,
          59.239999999999995,
          59.336,
          59.432,
          59.528,
          59.623999999999995,
          59.72,
          59.816,
          59.912,
          60.007999999999996,
          60.104,
          60.2,
          60.296,
          60.391999999999996,
          60.488,
          60.584,
          60.68,
          60.775999999999996,
          60.872,
          60.968,
          61.064,
          61.16,
          61.256,
          61.352,
          61.448,
          61.544,
          61.64,
          61.736,
          61.832,
          61.928,
          62.024,
          62.12,
          62.216,
          62.312,
          62.408,
          62.504,
          62.6,
          62.696,
          62.792,
          62.888,
          62.984,
          63.08,
          63.176,
          63.272,
          63.368,
          63.464,
          63.56,
          63.656,
          63.752,
          63.848,
          63.944,
          64.03999999999999,
          64.136,
          64.232,
          64.328,
          64.424,
          64.52000000000001,
          64.616,
          64.712,
          64.80799999999999,
          64.904,
          65,
          65.096,
          65.19200000000001,
          65.288,
          65.384,
          65.47999999999999,
          65.576,
          65.672,
          65.768,
          65.864,
          65.96000000000001,
          66.056,
          66.152,
          66.24799999999999,
          66.344,
          66.44,
          66.536,
          66.632,
          66.72800000000001,
          66.824,
          66.92,
          67.01599999999999,
          67.112,
          67.208,
          67.304,
          67.4,
          67.49600000000001,
          67.592,
          67.688,
          67.78399999999999,
          67.88,
          67.976,
          68.072,
          68.168,
          68.26400000000001,
          68.36,
          68.456,
          68.55199999999999,
          68.648,
          68.744,
          68.84,
          68.936,
          69.032,
          69.128,
          69.22399999999999,
          69.32,
          69.416,
          69.512,
          69.608,
          69.70400000000001,
          69.8,
          69.896,
          69.99199999999999,
          70.088,
          70.184,
          70.28,
          70.376,
          70.47200000000001,
          70.568,
          70.664,
          70.75999999999999,
          70.856,
          70.952,
          71.048,
          71.144,
          71.24000000000001,
          71.336,
          71.432,
          71.52799999999999,
          71.624,
          71.72,
          71.816,
          71.912,
          72.00800000000001,
          72.104,
          72.2,
          72.29599999999999,
          72.392,
          72.488,
          72.584,
          72.68,
          72.77600000000001,
          72.872,
          72.968,
          73.064,
          73.16,
          73.256,
          73.352,
          73.44800000000001,
          73.544,
          73.64,
          73.73599999999999,
          73.832,
          73.928,
          74.024,
          74.12,
          74.21600000000001,
          74.312,
          74.408,
          74.50399999999999,
          74.6,
          74.696,
          74.792,
          74.888,
          74.98400000000001,
          75.08,
          75.176,
          75.27199999999999,
          75.368,
          75.464,
          75.56,
          75.656,
          75.75200000000001,
          75.848,
          75.944,
          76.03999999999999,
          76.136,
          76.232,
          76.328,
          76.424,
          76.52000000000001,
          76.616,
          76.712,
          76.80799999999999,
          76.904
         ],
         "xaxis": "x",
         "y": [
          0.0009120050311212384,
          0.0009421376241249429,
          0.0009733116911034088,
          0.0010055705299869984,
          0.001038957495577866,
          0.0010735157828303309,
          0.0011092882038358563,
          0.0011463169603680799,
          0.0011846434139731255,
          0.0012243078557053076,
          0.001265349277706469,
          0.0013078051489071043,
          0.0013517111971869389,
          0.001397101200370704,
          0.0014440067884501217,
          0.0014924572594142273,
          0.0015424794110365746,
          0.0015940973909087824,
          0.001647332566924996,
          0.0017022034203109074,
          0.0017587254631545692,
          0.0018169111822342726,
          0.001876770010752572,
          0.0019383083293757477,
          0.0020015294977463838,
          0.002066433917384245,
          0.002133019126620371,
          0.0022012799279219272,
          0.0022712085476646136,
          0.0023427948280972145,
          0.0024160264509222812,
          0.0024908891915907685,
          0.0025673672030804592,
          0.002645443327600316,
          0.002725099434340394,
          0.002806316781071291,
          0.002889076397093529,
          0.0029733594847470984,
          0.003059147836419922,
          0.0031464242637428987,
          0.0032351730354321885,
          0.003325380320039165,
          0.0034170346296978106,
          0.003510127260820294,
          0.003604652727586181,
          0.0037006091840018286,
          0.00379799883027374,
          0.003896828299245885,
          0.0039971090186960495,
          0.004098857545370386,
          0.004202095866759021,
          0.004306851666778062,
          0.004413158551723717,
          0.004521056233101522,
          0.0046305906642062425,
          0.004741814127633544,
          0.004854785271241101,
          0.004969569090441936,
          0.0050862368551023475,
          0.005204865979729488,
          0.005325539836064227,
          0.005448347507640424,
          0.005573383486328694,
          0.005700747311346586,
          0.005830543151683547,
          0.005962879333355266,
          0.006097867813361624,
          0.00623562360267458,
          0.006376264141018809,
          0.006519908626629313,
          0.006666677304568718,
          0.0068166907175624325,
          0.006970068923655517,
          0.007126930685312453,
          0.007287392634860357,
          0.0074515684214247575,
          0.007619567844711053,
          0.007791495981153912,
          0.007967452308080008,
          0.008147529831613695,
          0.00833181422409218,
          0.008520382976753522,
          0.008713304573411735,
          0.008910637690741878,
          0.009112430430665213,
          0.009318719590149394,
          0.009529529973525647,
          0.009744873752173451,
          0.009964749876137834,
          0.010189143541925417,
          0.010418025720376737,
          0.010651352748138204,
          0.010889065985857666,
          0.011131091545809177,
          0.011377340091216886,
          0.011627706709100093,
          0.011882070858003758,
          0.012140296391513988,
          0.012402231657995168,
          0.01266770967651922,
          0.012936548388500457,
          0.013208550984098595,
          0.013483506302016432,
          0.01376118930089328,
          0.014041361600093201,
          0.01432377208730141,
          0.014608157589982832,
          0.014894243607420404,
          0.01518174509974455,
          0.015470367330084807,
          0.01575980675572846,
          0.016049751963952138,
          0.016339884648009284,
          0.016629880618603793,
          0.016919410846060835,
          0.0172081425283188,
          0.017495740179812792,
          0.017781866736294557,
          0.01806618467064286,
          0.018348357114751804,
          0.018628048982650348,
          0.018904928090092983,
          0.019178666265976797,
          0.01944894045107403,
          0.01971543377972552,
          0.019977836640311258,
          0.020235847710505617,
          0.020489174963523333,
          0.020737536641776588,
          0.020980662194583655,
          0.0212182931767972,
          0.02145018410545268,
          0.021676103271769644,
          0.021895833506075293,
          0.02210917289345038,
          0.02231593543813036,
          0.0225159516749169,
          0.0227090692260777,
          0.022895153302426013,
          0.023074087147474838,
          0.02324577242376123,
          0.023410129540624696,
          0.023567097922904345,
          0.023716636220191246,
          0.023858722456436714,
          0.023993354119871416,
          0.02412054819333807,
          0.024240341125280153,
          0.024352788741763293,
          0.024457966100032872,
          0.024555967284235605,
          0.024646905144050987,
          0.024730910977095417,
          0.024808134156075877,
          0.024878741701784203,
          0.024942917803133676,
          0.02500086328555849,
          0.02505279502920589,
          0.025098945338474676,
          0.025139561264570766,
          0.02517490388287304,
          0.025205247527035055,
          0.0252308789818719,
          0.025252096637221545,
          0.02526920960510343,
          0.02528253680263882,
          0.02529240600334067,
          0.02529915285952202,
          0.025303119898720194,
          0.025304655497175654,
          0.02530411283354823,
          0.025301848826193095,
          0.025298223057453433,
          0.02529359668855773,
          0.025288331368829988,
          0.025282788143033454,
          0.025277326360771624,
          0.02527230259195693,
          0.025268069552433044,
          0.02526497504389243,
          0.02526336091227324,
          0.02526356202883651,
          0.025265905298125328,
          0.02527070869698299,
          0.0252782803487599,
          0.02528891763676528,
          0.025302906360921654,
          0.025320519941455934,
          0.02534201867330601,
          0.025367649034744245,
          0.02539764305351156,
          0.025432217733520234,
          0.02547157454492502,
          0.025515898980072307,
          0.02556536017752835,
          0.025620110616050594,
          0.025680285880009004,
          0.02574600449738842,
          0.025817367851106884,
          0.025894460163974828,
          0.025977348557195683,
          0.026066083181876074,
          0.02616069742257145,
          0.026261208171449037,
          0.026367616171204297,
          0.026479906424424167,
          0.02659804866665433,
          0.026721997900000016,
          0.026851694983678665,
          0.02698706727754552,
          0.027128029334238062,
          0.02727448363523416,
          0.02742632136579668,
          0.027583423223481403,
          0.027745660254629868,
          0.02791289471304445,
          0.028084980934859744,
          0.02826176622348525,
          0.028443091738395213,
          0.028628793381489073,
          0.028818702674743298,
          0.029012647622914115,
          0.02921045355514522,
          0.029411943939472423,
          0.029616941164404487,
          0.029825267281998098,
          0.030036744707124904,
          0.03025119686795825,
          0.030468448803079844,
          0.030688327701018325,
          0.03091066337848446,
          0.03113528869405599,
          0.03136203989458506,
          0.03159075689214924,
          0.03182128346994247,
          0.03205346741609472,
          0.03228716058501975,
          0.032522218886512896,
          0.03275850220344468,
          0.032995874239528815,
          0.03323420229926427,
          0.0334733570027699,
          0.03371321193882578,
          0.033953643260023286,
          0.034194529224476654,
          0.034435749689077706,
          0.03467718555976638,
          0.034918718204742544,
          0.03516022883695048,
          0.03540159787253076,
          0.03564270427223673,
          0.03588342487307134,
          0.036123633717588685,
          0.03636320138843909,
          0.03660199435580388,
          0.03683987434537305,
          0.03707669773445016,
          0.03731231498364469,
          0.03754657011141187,
          0.03777930021843613,
          0.038010335068527516,
          0.038239496732304465,
          0.03846659929948452,
          0.03869144866508868,
          0.038913842394299174,
          0.03913356967009004,
          0.039350411327081336,
          0.039564139974364594,
          0.039774520209299814,
          0.0399813089235109,
          0.04018425570151125,
          0.040383103311573756,
          0.040577588287638716,
          0.04076744160022254,
          0.04095238941347189,
          0.04113215392469461,
          0.0413064542819121,
          0.04147500757421108,
          0.0416375298889492,
          0.04179373742917749,
          0.04194334768400921,
          0.04208608064407855,
          0.0422216600537131,
          0.042349814690987586,
          0.04247027966644567,
          0.04258279773096615,
          0.04268712058302743,
          0.042783010165475005,
          0.04287023994184287,
          0.042948596142302155,
          0.04301787896943007,
          0.043077903754188164,
          0.04312850205278973,
          0.043169522675505244,
          0.04320083263890538,
          0.04322231803357001,
          0.043233884799892965,
          0.04323545940527801,
          0.04322698941675533,
          0.043208443963826976,
          0.04317981408718648,
          0.04314111296982723,
          0.04309237604795897,
          0.043033661000079514,
          0.042965047613493075,
          0.042886637528511184,
          0.04279855386152458,
          0.04270094070906158,
          0.042593962535871555,
          0.042477803450949814,
          0.04235266637627576,
          0.04221877211383774,
          0.04207635831727323,
          0.04192567837514725,
          0.04176700021352447,
          0.041600605026050445,
          0.04142678594024785,
          0.04124584662914237,
          0.04105809987766273,
          0.040863866113508195,
          0.040663471912339565,
          0.040457248487228814,
          0.040245530172299725,
          0.04002865291040709,
          0.03980695275453151,
          0.039580764392331574,
          0.039350419702971234,
          0.03911624635496007,
          0.03887856645329436,
          0.038637695243677946,
          0.038393939881040985,
          0.038147598268971766,
          0.03789895797602454,
          0.037648295234194634,
          0.03739587402413922,
          0.037141945251005386,
          0.036886746013986074,
          0.036630498971988563,
          0.036373411807059434,
          0.03611567678647946,
          0.03585747042372863,
          0.03559895323782739,
          0.03534026960988598,
          0.03508154773506596,
          0.0348228996675435,
          0.03456442145551316,
          0.03430619336274107,
          0.03404828017270675,
          0.033790731570946746,
          0.033533582600832,
          0.03327685418768797,
          0.03302055372589102,
          0.03276467572334703,
          0.032509202497591976,
          0.03225410491762304,
          0.03199934318550074,
          0.03174486765173189,
          0.03149061965846079,
          0.031236532404555855,
          0.03098253182677758,
          0.030728537491350544,
          0.030474463490430995,
          0.03022021933816258,
          0.02996571086124013,
          0.029710841079153387,
          0.02945551106955525,
          0.0291996208144881,
          0.02894307002350823,
          0.028685758930060885,
          0.028427589057786067,
          0.028168463953759427,
          0.027908289886010823,
          0.02764697650298784,
          0.02738443745296953,
          0.02712059096175441,
          0.026855360367270955,
          0.026588674610069047,
          0.026320468678953057,
          0.026050684011309274,
          0.02577926884795818,
          0.025506178542632145,
          0.025231375826425147,
          0.024954831027805616,
          0.02467652224899938,
          0.02439643549975972,
          0.024114564789729724,
          0.02383091218077587,
          0.02354548780082594,
          0.023258309820888574,
          0.022969404397046277,
          0.022678805579327704,
          0.02238655518944515,
          0.022092702669459473,
          0.02179730490348713,
          0.02150042601460211,
          0.02120213713910806,
          0.020902516180361472,
          0.020601647544317092,
          0.02029962185894396,
          0.019996535679620214,
          0.019692491182564744,
          0.019387595848296885,
          0.01908196213704039,
          0.018775707157898135,
          0.018468952333527307,
          0.018161823061936182,
          0.017854448376909787,
          0.017546960608448278,
          0.017239495044477075,
          0.016932189594953597,
          0.016625184459364385,
          0.016318621798469924,
          0.016012645411020564,
          0.0157074004160337,
          0.015403032941094038,
          0.015099689817013501,
          0.014797518279068455,
          0.014496665674923068,
          0.014197279179243334,
          0.013899505514916703,
          0.013603490680709639,
          0.013309379685127702,
          0.013017316286186213,
          0.012727442736757775,
          0.012439899535132332,
          0.012154825180413121,
          0.011872355932368852,
          0.01159262557537712,
          0.01131576518612036,
          0.011041902904735904,
          0.01077116370917295,
          0.010503669192573652,
          0.010239537343569029,
          0.009978882329462549,
          0.009721814282364814,
          0.009468439088439676,
          0.009218858180520408,
          0.008973168334460905,
          0.00873146146968808,
          0.008493824454525647,
          0.008260338916960402,
          0.008031081061616058,
          0.0078061214937897505,
          0.007585525051487591,
          0.007369350646466039,
          0.007157651115347268,
          0.006950473081923266,
          0.006747856831799296,
          0.00654983620054504,
          0.006356438476528388,
          0.006167684319592974,
          0.005983587696715297,
          0.005804155835730928,
          0.005629389198161217,
          0.005459281472093799,
          0.0052938195859803415,
          0.0051329837441081135,
          0.004976747484382273,
          0.0048250777589241775,
          0.004677935037847576,
          0.004535273436421367,
          0.00439704086566759,
          0.00426317920627546,
          0.0041336245055409076,
          0.004008307196867396,
          0.0038871523411881524,
          0.0037700798894975537,
          0.003657004965508018,
          0.0035478381672848936,
          0.0034424858865523735,
          0.0033408506442153857,
          0.0032428314405024876,
          0.0031483241180080674,
          0.0030572217357984622,
          0.002969414952647445,
          0.002884792417382606,
          0.0028032411642579585,
          0.002724647011217504,
          0.0026488949588831384,
          0.0025758695880861607,
          0.002505455453765886,
          0.0024375374730815965,
          0.0023720013056241257,
          0.0023087337236710704,
          0.0022476229705044658,
          0.002188559104899723,
          0.0021314343300005752,
          0.0020761433049137556,
          0.0020225834374895924,
          0.001970655156897689,
          0.0019202621647606134,
          0.0018713116637697166,
          0.0018237145628762286,
          0.0017773856583238345,
          0.0017322437899667635,
          0.0016882119724960442,
          0.0016452175013762713,
          0.0016031920334729118,
          0.0015620716425256238,
          0.0015217968497933188
         ],
         "yaxis": "y"
        },
        {
         "legendgroup": "Age Distribution",
         "marker": {
          "color": "rgb(31, 119, 180)",
          "symbol": "line-ns-open"
         },
         "mode": "markers",
         "name": "Age Distribution",
         "showlegend": false,
         "type": "scatter",
         "x": [
          59,
          42,
          60,
          59,
          61,
          59,
          67,
          67,
          61,
          55,
          55,
          41,
          56,
          54,
          38,
          41,
          66,
          60,
          51,
          54,
          47,
          64,
          58,
          56,
          46,
          34,
          41,
          46,
          59,
          58,
          58,
          42,
          57,
          61,
          56,
          57,
          65,
          67,
          58,
          58,
          63,
          29,
          51,
          64,
          50,
          52,
          52,
          58,
          54,
          58,
          67,
          42,
          57,
          45,
          58,
          44,
          53,
          67,
          63,
          60,
          57,
          62,
          57,
          67,
          63,
          35,
          52,
          50,
          56,
          51,
          53,
          54,
          67,
          52,
          63,
          35,
          68,
          44,
          43,
          49,
          45,
          52,
          59,
          62,
          58,
          49,
          51,
          62,
          66,
          58,
          64,
          41,
          62,
          51,
          53,
          70,
          53,
          65,
          45,
          66,
          39,
          60,
          52,
          50,
          71,
          65,
          52,
          44,
          56,
          40,
          54,
          58,
          63,
          59,
          53,
          58,
          56,
          43,
          43,
          55,
          57,
          54,
          56,
          59,
          61,
          69,
          47,
          66,
          48,
          76,
          63,
          62,
          64,
          55,
          41,
          44,
          62,
          69,
          62,
          51,
          62,
          41,
          41,
          57,
          54,
          64,
          44,
          35,
          45,
          70,
          62,
          66,
          62,
          51,
          60,
          54,
          56,
          61,
          41,
          39,
          50,
          59,
          65,
          53,
          40,
          56,
          60,
          60,
          57,
          54,
          43,
          44,
          42,
          43,
          77,
          57,
          45,
          45,
          48,
          67,
          66,
          57,
          74,
          44,
          56,
          54,
          50,
          45,
          44,
          47,
          42,
          64,
          41,
          57,
          43,
          65,
          54,
          48,
          57,
          60,
          48,
          52,
          57,
          57,
          55,
          39,
          70,
          64,
          61,
          61,
          47,
          59,
          48,
          58,
          54,
          44,
          67,
          37,
          63,
          47,
          51,
          35,
          54,
          59,
          58,
          41,
          59,
          52,
          58,
          44,
          56,
          71,
          46,
          57,
          42,
          57,
          68,
          62,
          71,
          44,
          59,
          68,
          49,
          70,
          60,
          49,
          49,
          37,
          59,
          60,
          50,
          55,
          61,
          65,
          50,
          43,
          68,
          58,
          58,
          51,
          64,
          48,
          55,
          59,
          51,
          56,
          39,
          46,
          47,
          69,
          60,
          46,
          64,
          51,
          52,
          40,
          51,
          65,
          53,
          60,
          46,
          48,
          58,
          54,
          42,
          65,
          63,
          63,
          42,
          46,
          57,
          64,
          54,
          66,
          52,
          55,
          45,
          34,
          54
         ],
         "xaxis": "x",
         "y": [
          "Age Distribution",
          "Age Distribution",
          "Age Distribution",
          "Age Distribution",
          "Age Distribution",
          "Age Distribution",
          "Age Distribution",
          "Age Distribution",
          "Age Distribution",
          "Age Distribution",
          "Age Distribution",
          "Age Distribution",
          "Age Distribution",
          "Age Distribution",
          "Age Distribution",
          "Age Distribution",
          "Age Distribution",
          "Age Distribution",
          "Age Distribution",
          "Age Distribution",
          "Age Distribution",
          "Age Distribution",
          "Age Distribution",
          "Age Distribution",
          "Age Distribution",
          "Age Distribution",
          "Age Distribution",
          "Age Distribution",
          "Age Distribution",
          "Age Distribution",
          "Age Distribution",
          "Age Distribution",
          "Age Distribution",
          "Age Distribution",
          "Age Distribution",
          "Age Distribution",
          "Age Distribution",
          "Age Distribution",
          "Age Distribution",
          "Age Distribution",
          "Age Distribution",
          "Age Distribution",
          "Age Distribution",
          "Age Distribution",
          "Age Distribution",
          "Age Distribution",
          "Age Distribution",
          "Age Distribution",
          "Age Distribution",
          "Age Distribution",
          "Age Distribution",
          "Age Distribution",
          "Age Distribution",
          "Age Distribution",
          "Age Distribution",
          "Age Distribution",
          "Age Distribution",
          "Age Distribution",
          "Age Distribution",
          "Age Distribution",
          "Age Distribution",
          "Age Distribution",
          "Age Distribution",
          "Age Distribution",
          "Age Distribution",
          "Age Distribution",
          "Age Distribution",
          "Age Distribution",
          "Age Distribution",
          "Age Distribution",
          "Age Distribution",
          "Age Distribution",
          "Age Distribution",
          "Age Distribution",
          "Age Distribution",
          "Age Distribution",
          "Age Distribution",
          "Age Distribution",
          "Age Distribution",
          "Age Distribution",
          "Age Distribution",
          "Age Distribution",
          "Age Distribution",
          "Age Distribution",
          "Age Distribution",
          "Age Distribution",
          "Age Distribution",
          "Age Distribution",
          "Age Distribution",
          "Age Distribution",
          "Age Distribution",
          "Age Distribution",
          "Age Distribution",
          "Age Distribution",
          "Age Distribution",
          "Age Distribution",
          "Age Distribution",
          "Age Distribution",
          "Age Distribution",
          "Age Distribution",
          "Age Distribution",
          "Age Distribution",
          "Age Distribution",
          "Age Distribution",
          "Age Distribution",
          "Age Distribution",
          "Age Distribution",
          "Age Distribution",
          "Age Distribution",
          "Age Distribution",
          "Age Distribution",
          "Age Distribution",
          "Age Distribution",
          "Age Distribution",
          "Age Distribution",
          "Age Distribution",
          "Age Distribution",
          "Age Distribution",
          "Age Distribution",
          "Age Distribution",
          "Age Distribution",
          "Age Distribution",
          "Age Distribution",
          "Age Distribution",
          "Age Distribution",
          "Age Distribution",
          "Age Distribution",
          "Age Distribution",
          "Age Distribution",
          "Age Distribution",
          "Age Distribution",
          "Age Distribution",
          "Age Distribution",
          "Age Distribution",
          "Age Distribution",
          "Age Distribution",
          "Age Distribution",
          "Age Distribution",
          "Age Distribution",
          "Age Distribution",
          "Age Distribution",
          "Age Distribution",
          "Age Distribution",
          "Age Distribution",
          "Age Distribution",
          "Age Distribution",
          "Age Distribution",
          "Age Distribution",
          "Age Distribution",
          "Age Distribution",
          "Age Distribution",
          "Age Distribution",
          "Age Distribution",
          "Age Distribution",
          "Age Distribution",
          "Age Distribution",
          "Age Distribution",
          "Age Distribution",
          "Age Distribution",
          "Age Distribution",
          "Age Distribution",
          "Age Distribution",
          "Age Distribution",
          "Age Distribution",
          "Age Distribution",
          "Age Distribution",
          "Age Distribution",
          "Age Distribution",
          "Age Distribution",
          "Age Distribution",
          "Age Distribution",
          "Age Distribution",
          "Age Distribution",
          "Age Distribution",
          "Age Distribution",
          "Age Distribution",
          "Age Distribution",
          "Age Distribution",
          "Age Distribution",
          "Age Distribution",
          "Age Distribution",
          "Age Distribution",
          "Age Distribution",
          "Age Distribution",
          "Age Distribution",
          "Age Distribution",
          "Age Distribution",
          "Age Distribution",
          "Age Distribution",
          "Age Distribution",
          "Age Distribution",
          "Age Distribution",
          "Age Distribution",
          "Age Distribution",
          "Age Distribution",
          "Age Distribution",
          "Age Distribution",
          "Age Distribution",
          "Age Distribution",
          "Age Distribution",
          "Age Distribution",
          "Age Distribution",
          "Age Distribution",
          "Age Distribution",
          "Age Distribution",
          "Age Distribution",
          "Age Distribution",
          "Age Distribution",
          "Age Distribution",
          "Age Distribution",
          "Age Distribution",
          "Age Distribution",
          "Age Distribution",
          "Age Distribution",
          "Age Distribution",
          "Age Distribution",
          "Age Distribution",
          "Age Distribution",
          "Age Distribution",
          "Age Distribution",
          "Age Distribution",
          "Age Distribution",
          "Age Distribution",
          "Age Distribution",
          "Age Distribution",
          "Age Distribution",
          "Age Distribution",
          "Age Distribution",
          "Age Distribution",
          "Age Distribution",
          "Age Distribution",
          "Age Distribution",
          "Age Distribution",
          "Age Distribution",
          "Age Distribution",
          "Age Distribution",
          "Age Distribution",
          "Age Distribution",
          "Age Distribution",
          "Age Distribution",
          "Age Distribution",
          "Age Distribution",
          "Age Distribution",
          "Age Distribution",
          "Age Distribution",
          "Age Distribution",
          "Age Distribution",
          "Age Distribution",
          "Age Distribution",
          "Age Distribution",
          "Age Distribution",
          "Age Distribution",
          "Age Distribution",
          "Age Distribution",
          "Age Distribution",
          "Age Distribution",
          "Age Distribution",
          "Age Distribution",
          "Age Distribution",
          "Age Distribution",
          "Age Distribution",
          "Age Distribution",
          "Age Distribution",
          "Age Distribution",
          "Age Distribution",
          "Age Distribution",
          "Age Distribution",
          "Age Distribution",
          "Age Distribution",
          "Age Distribution",
          "Age Distribution",
          "Age Distribution",
          "Age Distribution",
          "Age Distribution",
          "Age Distribution",
          "Age Distribution",
          "Age Distribution",
          "Age Distribution",
          "Age Distribution",
          "Age Distribution",
          "Age Distribution",
          "Age Distribution",
          "Age Distribution",
          "Age Distribution",
          "Age Distribution",
          "Age Distribution",
          "Age Distribution",
          "Age Distribution",
          "Age Distribution",
          "Age Distribution",
          "Age Distribution",
          "Age Distribution",
          "Age Distribution",
          "Age Distribution",
          "Age Distribution",
          "Age Distribution",
          "Age Distribution",
          "Age Distribution",
          "Age Distribution"
         ],
         "yaxis": "y2"
        }
       ],
       "layout": {
        "barmode": "overlay",
        "hovermode": "closest",
        "legend": {
         "traceorder": "reversed"
        },
        "template": {
         "data": {
          "bar": [
           {
            "error_x": {
             "color": "#2a3f5f"
            },
            "error_y": {
             "color": "#2a3f5f"
            },
            "marker": {
             "line": {
              "color": "#E5ECF6",
              "width": 0.5
             },
             "pattern": {
              "fillmode": "overlay",
              "size": 10,
              "solidity": 0.2
             }
            },
            "type": "bar"
           }
          ],
          "barpolar": [
           {
            "marker": {
             "line": {
              "color": "#E5ECF6",
              "width": 0.5
             },
             "pattern": {
              "fillmode": "overlay",
              "size": 10,
              "solidity": 0.2
             }
            },
            "type": "barpolar"
           }
          ],
          "carpet": [
           {
            "aaxis": {
             "endlinecolor": "#2a3f5f",
             "gridcolor": "white",
             "linecolor": "white",
             "minorgridcolor": "white",
             "startlinecolor": "#2a3f5f"
            },
            "baxis": {
             "endlinecolor": "#2a3f5f",
             "gridcolor": "white",
             "linecolor": "white",
             "minorgridcolor": "white",
             "startlinecolor": "#2a3f5f"
            },
            "type": "carpet"
           }
          ],
          "choropleth": [
           {
            "colorbar": {
             "outlinewidth": 0,
             "ticks": ""
            },
            "type": "choropleth"
           }
          ],
          "contour": [
           {
            "colorbar": {
             "outlinewidth": 0,
             "ticks": ""
            },
            "colorscale": [
             [
              0,
              "#0d0887"
             ],
             [
              0.1111111111111111,
              "#46039f"
             ],
             [
              0.2222222222222222,
              "#7201a8"
             ],
             [
              0.3333333333333333,
              "#9c179e"
             ],
             [
              0.4444444444444444,
              "#bd3786"
             ],
             [
              0.5555555555555556,
              "#d8576b"
             ],
             [
              0.6666666666666666,
              "#ed7953"
             ],
             [
              0.7777777777777778,
              "#fb9f3a"
             ],
             [
              0.8888888888888888,
              "#fdca26"
             ],
             [
              1,
              "#f0f921"
             ]
            ],
            "type": "contour"
           }
          ],
          "contourcarpet": [
           {
            "colorbar": {
             "outlinewidth": 0,
             "ticks": ""
            },
            "type": "contourcarpet"
           }
          ],
          "heatmap": [
           {
            "colorbar": {
             "outlinewidth": 0,
             "ticks": ""
            },
            "colorscale": [
             [
              0,
              "#0d0887"
             ],
             [
              0.1111111111111111,
              "#46039f"
             ],
             [
              0.2222222222222222,
              "#7201a8"
             ],
             [
              0.3333333333333333,
              "#9c179e"
             ],
             [
              0.4444444444444444,
              "#bd3786"
             ],
             [
              0.5555555555555556,
              "#d8576b"
             ],
             [
              0.6666666666666666,
              "#ed7953"
             ],
             [
              0.7777777777777778,
              "#fb9f3a"
             ],
             [
              0.8888888888888888,
              "#fdca26"
             ],
             [
              1,
              "#f0f921"
             ]
            ],
            "type": "heatmap"
           }
          ],
          "heatmapgl": [
           {
            "colorbar": {
             "outlinewidth": 0,
             "ticks": ""
            },
            "colorscale": [
             [
              0,
              "#0d0887"
             ],
             [
              0.1111111111111111,
              "#46039f"
             ],
             [
              0.2222222222222222,
              "#7201a8"
             ],
             [
              0.3333333333333333,
              "#9c179e"
             ],
             [
              0.4444444444444444,
              "#bd3786"
             ],
             [
              0.5555555555555556,
              "#d8576b"
             ],
             [
              0.6666666666666666,
              "#ed7953"
             ],
             [
              0.7777777777777778,
              "#fb9f3a"
             ],
             [
              0.8888888888888888,
              "#fdca26"
             ],
             [
              1,
              "#f0f921"
             ]
            ],
            "type": "heatmapgl"
           }
          ],
          "histogram": [
           {
            "marker": {
             "pattern": {
              "fillmode": "overlay",
              "size": 10,
              "solidity": 0.2
             }
            },
            "type": "histogram"
           }
          ],
          "histogram2d": [
           {
            "colorbar": {
             "outlinewidth": 0,
             "ticks": ""
            },
            "colorscale": [
             [
              0,
              "#0d0887"
             ],
             [
              0.1111111111111111,
              "#46039f"
             ],
             [
              0.2222222222222222,
              "#7201a8"
             ],
             [
              0.3333333333333333,
              "#9c179e"
             ],
             [
              0.4444444444444444,
              "#bd3786"
             ],
             [
              0.5555555555555556,
              "#d8576b"
             ],
             [
              0.6666666666666666,
              "#ed7953"
             ],
             [
              0.7777777777777778,
              "#fb9f3a"
             ],
             [
              0.8888888888888888,
              "#fdca26"
             ],
             [
              1,
              "#f0f921"
             ]
            ],
            "type": "histogram2d"
           }
          ],
          "histogram2dcontour": [
           {
            "colorbar": {
             "outlinewidth": 0,
             "ticks": ""
            },
            "colorscale": [
             [
              0,
              "#0d0887"
             ],
             [
              0.1111111111111111,
              "#46039f"
             ],
             [
              0.2222222222222222,
              "#7201a8"
             ],
             [
              0.3333333333333333,
              "#9c179e"
             ],
             [
              0.4444444444444444,
              "#bd3786"
             ],
             [
              0.5555555555555556,
              "#d8576b"
             ],
             [
              0.6666666666666666,
              "#ed7953"
             ],
             [
              0.7777777777777778,
              "#fb9f3a"
             ],
             [
              0.8888888888888888,
              "#fdca26"
             ],
             [
              1,
              "#f0f921"
             ]
            ],
            "type": "histogram2dcontour"
           }
          ],
          "mesh3d": [
           {
            "colorbar": {
             "outlinewidth": 0,
             "ticks": ""
            },
            "type": "mesh3d"
           }
          ],
          "parcoords": [
           {
            "line": {
             "colorbar": {
              "outlinewidth": 0,
              "ticks": ""
             }
            },
            "type": "parcoords"
           }
          ],
          "pie": [
           {
            "automargin": true,
            "type": "pie"
           }
          ],
          "scatter": [
           {
            "fillpattern": {
             "fillmode": "overlay",
             "size": 10,
             "solidity": 0.2
            },
            "type": "scatter"
           }
          ],
          "scatter3d": [
           {
            "line": {
             "colorbar": {
              "outlinewidth": 0,
              "ticks": ""
             }
            },
            "marker": {
             "colorbar": {
              "outlinewidth": 0,
              "ticks": ""
             }
            },
            "type": "scatter3d"
           }
          ],
          "scattercarpet": [
           {
            "marker": {
             "colorbar": {
              "outlinewidth": 0,
              "ticks": ""
             }
            },
            "type": "scattercarpet"
           }
          ],
          "scattergeo": [
           {
            "marker": {
             "colorbar": {
              "outlinewidth": 0,
              "ticks": ""
             }
            },
            "type": "scattergeo"
           }
          ],
          "scattergl": [
           {
            "marker": {
             "colorbar": {
              "outlinewidth": 0,
              "ticks": ""
             }
            },
            "type": "scattergl"
           }
          ],
          "scattermapbox": [
           {
            "marker": {
             "colorbar": {
              "outlinewidth": 0,
              "ticks": ""
             }
            },
            "type": "scattermapbox"
           }
          ],
          "scatterpolar": [
           {
            "marker": {
             "colorbar": {
              "outlinewidth": 0,
              "ticks": ""
             }
            },
            "type": "scatterpolar"
           }
          ],
          "scatterpolargl": [
           {
            "marker": {
             "colorbar": {
              "outlinewidth": 0,
              "ticks": ""
             }
            },
            "type": "scatterpolargl"
           }
          ],
          "scatterternary": [
           {
            "marker": {
             "colorbar": {
              "outlinewidth": 0,
              "ticks": ""
             }
            },
            "type": "scatterternary"
           }
          ],
          "surface": [
           {
            "colorbar": {
             "outlinewidth": 0,
             "ticks": ""
            },
            "colorscale": [
             [
              0,
              "#0d0887"
             ],
             [
              0.1111111111111111,
              "#46039f"
             ],
             [
              0.2222222222222222,
              "#7201a8"
             ],
             [
              0.3333333333333333,
              "#9c179e"
             ],
             [
              0.4444444444444444,
              "#bd3786"
             ],
             [
              0.5555555555555556,
              "#d8576b"
             ],
             [
              0.6666666666666666,
              "#ed7953"
             ],
             [
              0.7777777777777778,
              "#fb9f3a"
             ],
             [
              0.8888888888888888,
              "#fdca26"
             ],
             [
              1,
              "#f0f921"
             ]
            ],
            "type": "surface"
           }
          ],
          "table": [
           {
            "cells": {
             "fill": {
              "color": "#EBF0F8"
             },
             "line": {
              "color": "white"
             }
            },
            "header": {
             "fill": {
              "color": "#C8D4E3"
             },
             "line": {
              "color": "white"
             }
            },
            "type": "table"
           }
          ]
         },
         "layout": {
          "annotationdefaults": {
           "arrowcolor": "#2a3f5f",
           "arrowhead": 0,
           "arrowwidth": 1
          },
          "autotypenumbers": "strict",
          "coloraxis": {
           "colorbar": {
            "outlinewidth": 0,
            "ticks": ""
           }
          },
          "colorscale": {
           "diverging": [
            [
             0,
             "#8e0152"
            ],
            [
             0.1,
             "#c51b7d"
            ],
            [
             0.2,
             "#de77ae"
            ],
            [
             0.3,
             "#f1b6da"
            ],
            [
             0.4,
             "#fde0ef"
            ],
            [
             0.5,
             "#f7f7f7"
            ],
            [
             0.6,
             "#e6f5d0"
            ],
            [
             0.7,
             "#b8e186"
            ],
            [
             0.8,
             "#7fbc41"
            ],
            [
             0.9,
             "#4d9221"
            ],
            [
             1,
             "#276419"
            ]
           ],
           "sequential": [
            [
             0,
             "#0d0887"
            ],
            [
             0.1111111111111111,
             "#46039f"
            ],
            [
             0.2222222222222222,
             "#7201a8"
            ],
            [
             0.3333333333333333,
             "#9c179e"
            ],
            [
             0.4444444444444444,
             "#bd3786"
            ],
            [
             0.5555555555555556,
             "#d8576b"
            ],
            [
             0.6666666666666666,
             "#ed7953"
            ],
            [
             0.7777777777777778,
             "#fb9f3a"
            ],
            [
             0.8888888888888888,
             "#fdca26"
            ],
            [
             1,
             "#f0f921"
            ]
           ],
           "sequentialminus": [
            [
             0,
             "#0d0887"
            ],
            [
             0.1111111111111111,
             "#46039f"
            ],
            [
             0.2222222222222222,
             "#7201a8"
            ],
            [
             0.3333333333333333,
             "#9c179e"
            ],
            [
             0.4444444444444444,
             "#bd3786"
            ],
            [
             0.5555555555555556,
             "#d8576b"
            ],
            [
             0.6666666666666666,
             "#ed7953"
            ],
            [
             0.7777777777777778,
             "#fb9f3a"
            ],
            [
             0.8888888888888888,
             "#fdca26"
            ],
            [
             1,
             "#f0f921"
            ]
           ]
          },
          "colorway": [
           "#636efa",
           "#EF553B",
           "#00cc96",
           "#ab63fa",
           "#FFA15A",
           "#19d3f3",
           "#FF6692",
           "#B6E880",
           "#FF97FF",
           "#FECB52"
          ],
          "font": {
           "color": "#2a3f5f"
          },
          "geo": {
           "bgcolor": "white",
           "lakecolor": "white",
           "landcolor": "#E5ECF6",
           "showlakes": true,
           "showland": true,
           "subunitcolor": "white"
          },
          "hoverlabel": {
           "align": "left"
          },
          "hovermode": "closest",
          "mapbox": {
           "style": "light"
          },
          "paper_bgcolor": "white",
          "plot_bgcolor": "#E5ECF6",
          "polar": {
           "angularaxis": {
            "gridcolor": "white",
            "linecolor": "white",
            "ticks": ""
           },
           "bgcolor": "#E5ECF6",
           "radialaxis": {
            "gridcolor": "white",
            "linecolor": "white",
            "ticks": ""
           }
          },
          "scene": {
           "xaxis": {
            "backgroundcolor": "#E5ECF6",
            "gridcolor": "white",
            "gridwidth": 2,
            "linecolor": "white",
            "showbackground": true,
            "ticks": "",
            "zerolinecolor": "white"
           },
           "yaxis": {
            "backgroundcolor": "#E5ECF6",
            "gridcolor": "white",
            "gridwidth": 2,
            "linecolor": "white",
            "showbackground": true,
            "ticks": "",
            "zerolinecolor": "white"
           },
           "zaxis": {
            "backgroundcolor": "#E5ECF6",
            "gridcolor": "white",
            "gridwidth": 2,
            "linecolor": "white",
            "showbackground": true,
            "ticks": "",
            "zerolinecolor": "white"
           }
          },
          "shapedefaults": {
           "line": {
            "color": "#2a3f5f"
           }
          },
          "ternary": {
           "aaxis": {
            "gridcolor": "white",
            "linecolor": "white",
            "ticks": ""
           },
           "baxis": {
            "gridcolor": "white",
            "linecolor": "white",
            "ticks": ""
           },
           "bgcolor": "#E5ECF6",
           "caxis": {
            "gridcolor": "white",
            "linecolor": "white",
            "ticks": ""
           }
          },
          "title": {
           "x": 0.05
          },
          "xaxis": {
           "automargin": true,
           "gridcolor": "white",
           "linecolor": "white",
           "ticks": "",
           "title": {
            "standoff": 15
           },
           "zerolinecolor": "white",
           "zerolinewidth": 2
          },
          "yaxis": {
           "automargin": true,
           "gridcolor": "white",
           "linecolor": "white",
           "ticks": "",
           "title": {
            "standoff": 15
           },
           "zerolinecolor": "white",
           "zerolinewidth": 2
          }
         }
        },
        "title": {
         "text": "Age Distribution(all)",
         "x": 0.5
        },
        "xaxis": {
         "anchor": "y2",
         "domain": [
          0,
          1
         ],
         "title": {
          "text": "Age"
         },
         "zeroline": false
        },
        "yaxis": {
         "anchor": "free",
         "domain": [
          0.35,
          1
         ],
         "position": 0,
         "title": {
          "text": "propotion"
         }
        },
        "yaxis2": {
         "anchor": "x",
         "domain": [
          0,
          0.25
         ],
         "dtick": 1,
         "showticklabels": false
        }
       }
      }
     },
     "metadata": {},
     "output_type": "display_data"
    }
   ],
   "source": [
    "group_labels = ['Age Distribution'] # name of the dataset\n",
    "fig = ff.create_distplot([data.age], group_labels)\n",
    "fig.update_layout(title = 'Age Distribution(all)', yaxis_title = 'propotion', xaxis_title = 'Age', title_x = 0.5)\n",
    "fig.show()"
   ]
  },
  {
   "cell_type": "code",
   "execution_count": null,
   "metadata": {},
   "outputs": [
    {
     "data": {
      "application/vnd.plotly.v1+json": {
       "config": {
        "plotlyServerURL": "https://plot.ly"
       },
       "data": [
        {
         "hole": 0.5,
         "hoverinfo": "label+percent",
         "insidetextorientation": "radial",
         "labels": [
          "Male",
          "Female"
         ],
         "textfont": {
          "size": 15
         },
         "textinfo": "value+percent",
         "type": "pie",
         "values": [
          203,
          96
         ]
        }
       ],
       "layout": {
        "template": {
         "data": {
          "bar": [
           {
            "error_x": {
             "color": "#2a3f5f"
            },
            "error_y": {
             "color": "#2a3f5f"
            },
            "marker": {
             "line": {
              "color": "#E5ECF6",
              "width": 0.5
             },
             "pattern": {
              "fillmode": "overlay",
              "size": 10,
              "solidity": 0.2
             }
            },
            "type": "bar"
           }
          ],
          "barpolar": [
           {
            "marker": {
             "line": {
              "color": "#E5ECF6",
              "width": 0.5
             },
             "pattern": {
              "fillmode": "overlay",
              "size": 10,
              "solidity": 0.2
             }
            },
            "type": "barpolar"
           }
          ],
          "carpet": [
           {
            "aaxis": {
             "endlinecolor": "#2a3f5f",
             "gridcolor": "white",
             "linecolor": "white",
             "minorgridcolor": "white",
             "startlinecolor": "#2a3f5f"
            },
            "baxis": {
             "endlinecolor": "#2a3f5f",
             "gridcolor": "white",
             "linecolor": "white",
             "minorgridcolor": "white",
             "startlinecolor": "#2a3f5f"
            },
            "type": "carpet"
           }
          ],
          "choropleth": [
           {
            "colorbar": {
             "outlinewidth": 0,
             "ticks": ""
            },
            "type": "choropleth"
           }
          ],
          "contour": [
           {
            "colorbar": {
             "outlinewidth": 0,
             "ticks": ""
            },
            "colorscale": [
             [
              0,
              "#0d0887"
             ],
             [
              0.1111111111111111,
              "#46039f"
             ],
             [
              0.2222222222222222,
              "#7201a8"
             ],
             [
              0.3333333333333333,
              "#9c179e"
             ],
             [
              0.4444444444444444,
              "#bd3786"
             ],
             [
              0.5555555555555556,
              "#d8576b"
             ],
             [
              0.6666666666666666,
              "#ed7953"
             ],
             [
              0.7777777777777778,
              "#fb9f3a"
             ],
             [
              0.8888888888888888,
              "#fdca26"
             ],
             [
              1,
              "#f0f921"
             ]
            ],
            "type": "contour"
           }
          ],
          "contourcarpet": [
           {
            "colorbar": {
             "outlinewidth": 0,
             "ticks": ""
            },
            "type": "contourcarpet"
           }
          ],
          "heatmap": [
           {
            "colorbar": {
             "outlinewidth": 0,
             "ticks": ""
            },
            "colorscale": [
             [
              0,
              "#0d0887"
             ],
             [
              0.1111111111111111,
              "#46039f"
             ],
             [
              0.2222222222222222,
              "#7201a8"
             ],
             [
              0.3333333333333333,
              "#9c179e"
             ],
             [
              0.4444444444444444,
              "#bd3786"
             ],
             [
              0.5555555555555556,
              "#d8576b"
             ],
             [
              0.6666666666666666,
              "#ed7953"
             ],
             [
              0.7777777777777778,
              "#fb9f3a"
             ],
             [
              0.8888888888888888,
              "#fdca26"
             ],
             [
              1,
              "#f0f921"
             ]
            ],
            "type": "heatmap"
           }
          ],
          "heatmapgl": [
           {
            "colorbar": {
             "outlinewidth": 0,
             "ticks": ""
            },
            "colorscale": [
             [
              0,
              "#0d0887"
             ],
             [
              0.1111111111111111,
              "#46039f"
             ],
             [
              0.2222222222222222,
              "#7201a8"
             ],
             [
              0.3333333333333333,
              "#9c179e"
             ],
             [
              0.4444444444444444,
              "#bd3786"
             ],
             [
              0.5555555555555556,
              "#d8576b"
             ],
             [
              0.6666666666666666,
              "#ed7953"
             ],
             [
              0.7777777777777778,
              "#fb9f3a"
             ],
             [
              0.8888888888888888,
              "#fdca26"
             ],
             [
              1,
              "#f0f921"
             ]
            ],
            "type": "heatmapgl"
           }
          ],
          "histogram": [
           {
            "marker": {
             "pattern": {
              "fillmode": "overlay",
              "size": 10,
              "solidity": 0.2
             }
            },
            "type": "histogram"
           }
          ],
          "histogram2d": [
           {
            "colorbar": {
             "outlinewidth": 0,
             "ticks": ""
            },
            "colorscale": [
             [
              0,
              "#0d0887"
             ],
             [
              0.1111111111111111,
              "#46039f"
             ],
             [
              0.2222222222222222,
              "#7201a8"
             ],
             [
              0.3333333333333333,
              "#9c179e"
             ],
             [
              0.4444444444444444,
              "#bd3786"
             ],
             [
              0.5555555555555556,
              "#d8576b"
             ],
             [
              0.6666666666666666,
              "#ed7953"
             ],
             [
              0.7777777777777778,
              "#fb9f3a"
             ],
             [
              0.8888888888888888,
              "#fdca26"
             ],
             [
              1,
              "#f0f921"
             ]
            ],
            "type": "histogram2d"
           }
          ],
          "histogram2dcontour": [
           {
            "colorbar": {
             "outlinewidth": 0,
             "ticks": ""
            },
            "colorscale": [
             [
              0,
              "#0d0887"
             ],
             [
              0.1111111111111111,
              "#46039f"
             ],
             [
              0.2222222222222222,
              "#7201a8"
             ],
             [
              0.3333333333333333,
              "#9c179e"
             ],
             [
              0.4444444444444444,
              "#bd3786"
             ],
             [
              0.5555555555555556,
              "#d8576b"
             ],
             [
              0.6666666666666666,
              "#ed7953"
             ],
             [
              0.7777777777777778,
              "#fb9f3a"
             ],
             [
              0.8888888888888888,
              "#fdca26"
             ],
             [
              1,
              "#f0f921"
             ]
            ],
            "type": "histogram2dcontour"
           }
          ],
          "mesh3d": [
           {
            "colorbar": {
             "outlinewidth": 0,
             "ticks": ""
            },
            "type": "mesh3d"
           }
          ],
          "parcoords": [
           {
            "line": {
             "colorbar": {
              "outlinewidth": 0,
              "ticks": ""
             }
            },
            "type": "parcoords"
           }
          ],
          "pie": [
           {
            "automargin": true,
            "type": "pie"
           }
          ],
          "scatter": [
           {
            "fillpattern": {
             "fillmode": "overlay",
             "size": 10,
             "solidity": 0.2
            },
            "type": "scatter"
           }
          ],
          "scatter3d": [
           {
            "line": {
             "colorbar": {
              "outlinewidth": 0,
              "ticks": ""
             }
            },
            "marker": {
             "colorbar": {
              "outlinewidth": 0,
              "ticks": ""
             }
            },
            "type": "scatter3d"
           }
          ],
          "scattercarpet": [
           {
            "marker": {
             "colorbar": {
              "outlinewidth": 0,
              "ticks": ""
             }
            },
            "type": "scattercarpet"
           }
          ],
          "scattergeo": [
           {
            "marker": {
             "colorbar": {
              "outlinewidth": 0,
              "ticks": ""
             }
            },
            "type": "scattergeo"
           }
          ],
          "scattergl": [
           {
            "marker": {
             "colorbar": {
              "outlinewidth": 0,
              "ticks": ""
             }
            },
            "type": "scattergl"
           }
          ],
          "scattermapbox": [
           {
            "marker": {
             "colorbar": {
              "outlinewidth": 0,
              "ticks": ""
             }
            },
            "type": "scattermapbox"
           }
          ],
          "scatterpolar": [
           {
            "marker": {
             "colorbar": {
              "outlinewidth": 0,
              "ticks": ""
             }
            },
            "type": "scatterpolar"
           }
          ],
          "scatterpolargl": [
           {
            "marker": {
             "colorbar": {
              "outlinewidth": 0,
              "ticks": ""
             }
            },
            "type": "scatterpolargl"
           }
          ],
          "scatterternary": [
           {
            "marker": {
             "colorbar": {
              "outlinewidth": 0,
              "ticks": ""
             }
            },
            "type": "scatterternary"
           }
          ],
          "surface": [
           {
            "colorbar": {
             "outlinewidth": 0,
             "ticks": ""
            },
            "colorscale": [
             [
              0,
              "#0d0887"
             ],
             [
              0.1111111111111111,
              "#46039f"
             ],
             [
              0.2222222222222222,
              "#7201a8"
             ],
             [
              0.3333333333333333,
              "#9c179e"
             ],
             [
              0.4444444444444444,
              "#bd3786"
             ],
             [
              0.5555555555555556,
              "#d8576b"
             ],
             [
              0.6666666666666666,
              "#ed7953"
             ],
             [
              0.7777777777777778,
              "#fb9f3a"
             ],
             [
              0.8888888888888888,
              "#fdca26"
             ],
             [
              1,
              "#f0f921"
             ]
            ],
            "type": "surface"
           }
          ],
          "table": [
           {
            "cells": {
             "fill": {
              "color": "#EBF0F8"
             },
             "line": {
              "color": "white"
             }
            },
            "header": {
             "fill": {
              "color": "#C8D4E3"
             },
             "line": {
              "color": "white"
             }
            },
            "type": "table"
           }
          ]
         },
         "layout": {
          "annotationdefaults": {
           "arrowcolor": "#2a3f5f",
           "arrowhead": 0,
           "arrowwidth": 1
          },
          "autotypenumbers": "strict",
          "coloraxis": {
           "colorbar": {
            "outlinewidth": 0,
            "ticks": ""
           }
          },
          "colorscale": {
           "diverging": [
            [
             0,
             "#8e0152"
            ],
            [
             0.1,
             "#c51b7d"
            ],
            [
             0.2,
             "#de77ae"
            ],
            [
             0.3,
             "#f1b6da"
            ],
            [
             0.4,
             "#fde0ef"
            ],
            [
             0.5,
             "#f7f7f7"
            ],
            [
             0.6,
             "#e6f5d0"
            ],
            [
             0.7,
             "#b8e186"
            ],
            [
             0.8,
             "#7fbc41"
            ],
            [
             0.9,
             "#4d9221"
            ],
            [
             1,
             "#276419"
            ]
           ],
           "sequential": [
            [
             0,
             "#0d0887"
            ],
            [
             0.1111111111111111,
             "#46039f"
            ],
            [
             0.2222222222222222,
             "#7201a8"
            ],
            [
             0.3333333333333333,
             "#9c179e"
            ],
            [
             0.4444444444444444,
             "#bd3786"
            ],
            [
             0.5555555555555556,
             "#d8576b"
            ],
            [
             0.6666666666666666,
             "#ed7953"
            ],
            [
             0.7777777777777778,
             "#fb9f3a"
            ],
            [
             0.8888888888888888,
             "#fdca26"
            ],
            [
             1,
             "#f0f921"
            ]
           ],
           "sequentialminus": [
            [
             0,
             "#0d0887"
            ],
            [
             0.1111111111111111,
             "#46039f"
            ],
            [
             0.2222222222222222,
             "#7201a8"
            ],
            [
             0.3333333333333333,
             "#9c179e"
            ],
            [
             0.4444444444444444,
             "#bd3786"
            ],
            [
             0.5555555555555556,
             "#d8576b"
            ],
            [
             0.6666666666666666,
             "#ed7953"
            ],
            [
             0.7777777777777778,
             "#fb9f3a"
            ],
            [
             0.8888888888888888,
             "#fdca26"
            ],
            [
             1,
             "#f0f921"
            ]
           ]
          },
          "colorway": [
           "#636efa",
           "#EF553B",
           "#00cc96",
           "#ab63fa",
           "#FFA15A",
           "#19d3f3",
           "#FF6692",
           "#B6E880",
           "#FF97FF",
           "#FECB52"
          ],
          "font": {
           "color": "#2a3f5f"
          },
          "geo": {
           "bgcolor": "white",
           "lakecolor": "white",
           "landcolor": "#E5ECF6",
           "showlakes": true,
           "showland": true,
           "subunitcolor": "white"
          },
          "hoverlabel": {
           "align": "left"
          },
          "hovermode": "closest",
          "mapbox": {
           "style": "light"
          },
          "paper_bgcolor": "white",
          "plot_bgcolor": "#E5ECF6",
          "polar": {
           "angularaxis": {
            "gridcolor": "white",
            "linecolor": "white",
            "ticks": ""
           },
           "bgcolor": "#E5ECF6",
           "radialaxis": {
            "gridcolor": "white",
            "linecolor": "white",
            "ticks": ""
           }
          },
          "scene": {
           "xaxis": {
            "backgroundcolor": "#E5ECF6",
            "gridcolor": "white",
            "gridwidth": 2,
            "linecolor": "white",
            "showbackground": true,
            "ticks": "",
            "zerolinecolor": "white"
           },
           "yaxis": {
            "backgroundcolor": "#E5ECF6",
            "gridcolor": "white",
            "gridwidth": 2,
            "linecolor": "white",
            "showbackground": true,
            "ticks": "",
            "zerolinecolor": "white"
           },
           "zaxis": {
            "backgroundcolor": "#E5ECF6",
            "gridcolor": "white",
            "gridwidth": 2,
            "linecolor": "white",
            "showbackground": true,
            "ticks": "",
            "zerolinecolor": "white"
           }
          },
          "shapedefaults": {
           "line": {
            "color": "#2a3f5f"
           }
          },
          "ternary": {
           "aaxis": {
            "gridcolor": "white",
            "linecolor": "white",
            "ticks": ""
           },
           "baxis": {
            "gridcolor": "white",
            "linecolor": "white",
            "ticks": ""
           },
           "bgcolor": "#E5ECF6",
           "caxis": {
            "gridcolor": "white",
            "linecolor": "white",
            "ticks": ""
           }
          },
          "title": {
           "x": 0.05
          },
          "xaxis": {
           "automargin": true,
           "gridcolor": "white",
           "linecolor": "white",
           "ticks": "",
           "title": {
            "standoff": 15
           },
           "zerolinecolor": "white",
           "zerolinewidth": 2
          },
          "yaxis": {
           "automargin": true,
           "gridcolor": "white",
           "linecolor": "white",
           "ticks": "",
           "title": {
            "standoff": 15
           },
           "zerolinecolor": "white",
           "zerolinewidth": 2
          }
         }
        },
        "title": {
         "text": "Male to Female ratio in the study",
         "x": 0.5
        }
       }
      }
     },
     "metadata": {},
     "output_type": "display_data"
    }
   ],
   "source": [
    "df=data['sex'].value_counts().reset_index().rename(columns={'index':'sex','sex':'count'})\n",
    "fig = go.Figure([go.Pie(labels=['Male', 'Female'],values=df['count'], hole = 0.5)])\n",
    "fig.update_traces(hoverinfo='label+percent', textinfo='value+percent', textfont_size=15,insidetextorientation='radial')\n",
    "fig.update_layout(title=\"Male to Female ratio in the study\",title_x=0.5)\n",
    "fig.show()"
   ]
  },
  {
   "cell_type": "code",
   "execution_count": null,
   "metadata": {},
   "outputs": [
    {
     "data": {
      "application/vnd.plotly.v1+json": {
       "config": {
        "plotlyServerURL": "https://plot.ly"
       },
       "data": [
        {
         "hole": 0.5,
         "hoverinfo": "label+percent",
         "insidetextorientation": "radial",
         "labels": [
          "Cleveland",
          "Hungary",
          "VA Long Beach"
         ],
         "textfont": {
          "size": 15
         },
         "textinfo": "value+percent",
         "type": "pie",
         "values": [
          297,
          1,
          1
         ]
        }
       ],
       "layout": {
        "template": {
         "data": {
          "bar": [
           {
            "error_x": {
             "color": "#2a3f5f"
            },
            "error_y": {
             "color": "#2a3f5f"
            },
            "marker": {
             "line": {
              "color": "#E5ECF6",
              "width": 0.5
             },
             "pattern": {
              "fillmode": "overlay",
              "size": 10,
              "solidity": 0.2
             }
            },
            "type": "bar"
           }
          ],
          "barpolar": [
           {
            "marker": {
             "line": {
              "color": "#E5ECF6",
              "width": 0.5
             },
             "pattern": {
              "fillmode": "overlay",
              "size": 10,
              "solidity": 0.2
             }
            },
            "type": "barpolar"
           }
          ],
          "carpet": [
           {
            "aaxis": {
             "endlinecolor": "#2a3f5f",
             "gridcolor": "white",
             "linecolor": "white",
             "minorgridcolor": "white",
             "startlinecolor": "#2a3f5f"
            },
            "baxis": {
             "endlinecolor": "#2a3f5f",
             "gridcolor": "white",
             "linecolor": "white",
             "minorgridcolor": "white",
             "startlinecolor": "#2a3f5f"
            },
            "type": "carpet"
           }
          ],
          "choropleth": [
           {
            "colorbar": {
             "outlinewidth": 0,
             "ticks": ""
            },
            "type": "choropleth"
           }
          ],
          "contour": [
           {
            "colorbar": {
             "outlinewidth": 0,
             "ticks": ""
            },
            "colorscale": [
             [
              0,
              "#0d0887"
             ],
             [
              0.1111111111111111,
              "#46039f"
             ],
             [
              0.2222222222222222,
              "#7201a8"
             ],
             [
              0.3333333333333333,
              "#9c179e"
             ],
             [
              0.4444444444444444,
              "#bd3786"
             ],
             [
              0.5555555555555556,
              "#d8576b"
             ],
             [
              0.6666666666666666,
              "#ed7953"
             ],
             [
              0.7777777777777778,
              "#fb9f3a"
             ],
             [
              0.8888888888888888,
              "#fdca26"
             ],
             [
              1,
              "#f0f921"
             ]
            ],
            "type": "contour"
           }
          ],
          "contourcarpet": [
           {
            "colorbar": {
             "outlinewidth": 0,
             "ticks": ""
            },
            "type": "contourcarpet"
           }
          ],
          "heatmap": [
           {
            "colorbar": {
             "outlinewidth": 0,
             "ticks": ""
            },
            "colorscale": [
             [
              0,
              "#0d0887"
             ],
             [
              0.1111111111111111,
              "#46039f"
             ],
             [
              0.2222222222222222,
              "#7201a8"
             ],
             [
              0.3333333333333333,
              "#9c179e"
             ],
             [
              0.4444444444444444,
              "#bd3786"
             ],
             [
              0.5555555555555556,
              "#d8576b"
             ],
             [
              0.6666666666666666,
              "#ed7953"
             ],
             [
              0.7777777777777778,
              "#fb9f3a"
             ],
             [
              0.8888888888888888,
              "#fdca26"
             ],
             [
              1,
              "#f0f921"
             ]
            ],
            "type": "heatmap"
           }
          ],
          "heatmapgl": [
           {
            "colorbar": {
             "outlinewidth": 0,
             "ticks": ""
            },
            "colorscale": [
             [
              0,
              "#0d0887"
             ],
             [
              0.1111111111111111,
              "#46039f"
             ],
             [
              0.2222222222222222,
              "#7201a8"
             ],
             [
              0.3333333333333333,
              "#9c179e"
             ],
             [
              0.4444444444444444,
              "#bd3786"
             ],
             [
              0.5555555555555556,
              "#d8576b"
             ],
             [
              0.6666666666666666,
              "#ed7953"
             ],
             [
              0.7777777777777778,
              "#fb9f3a"
             ],
             [
              0.8888888888888888,
              "#fdca26"
             ],
             [
              1,
              "#f0f921"
             ]
            ],
            "type": "heatmapgl"
           }
          ],
          "histogram": [
           {
            "marker": {
             "pattern": {
              "fillmode": "overlay",
              "size": 10,
              "solidity": 0.2
             }
            },
            "type": "histogram"
           }
          ],
          "histogram2d": [
           {
            "colorbar": {
             "outlinewidth": 0,
             "ticks": ""
            },
            "colorscale": [
             [
              0,
              "#0d0887"
             ],
             [
              0.1111111111111111,
              "#46039f"
             ],
             [
              0.2222222222222222,
              "#7201a8"
             ],
             [
              0.3333333333333333,
              "#9c179e"
             ],
             [
              0.4444444444444444,
              "#bd3786"
             ],
             [
              0.5555555555555556,
              "#d8576b"
             ],
             [
              0.6666666666666666,
              "#ed7953"
             ],
             [
              0.7777777777777778,
              "#fb9f3a"
             ],
             [
              0.8888888888888888,
              "#fdca26"
             ],
             [
              1,
              "#f0f921"
             ]
            ],
            "type": "histogram2d"
           }
          ],
          "histogram2dcontour": [
           {
            "colorbar": {
             "outlinewidth": 0,
             "ticks": ""
            },
            "colorscale": [
             [
              0,
              "#0d0887"
             ],
             [
              0.1111111111111111,
              "#46039f"
             ],
             [
              0.2222222222222222,
              "#7201a8"
             ],
             [
              0.3333333333333333,
              "#9c179e"
             ],
             [
              0.4444444444444444,
              "#bd3786"
             ],
             [
              0.5555555555555556,
              "#d8576b"
             ],
             [
              0.6666666666666666,
              "#ed7953"
             ],
             [
              0.7777777777777778,
              "#fb9f3a"
             ],
             [
              0.8888888888888888,
              "#fdca26"
             ],
             [
              1,
              "#f0f921"
             ]
            ],
            "type": "histogram2dcontour"
           }
          ],
          "mesh3d": [
           {
            "colorbar": {
             "outlinewidth": 0,
             "ticks": ""
            },
            "type": "mesh3d"
           }
          ],
          "parcoords": [
           {
            "line": {
             "colorbar": {
              "outlinewidth": 0,
              "ticks": ""
             }
            },
            "type": "parcoords"
           }
          ],
          "pie": [
           {
            "automargin": true,
            "type": "pie"
           }
          ],
          "scatter": [
           {
            "fillpattern": {
             "fillmode": "overlay",
             "size": 10,
             "solidity": 0.2
            },
            "type": "scatter"
           }
          ],
          "scatter3d": [
           {
            "line": {
             "colorbar": {
              "outlinewidth": 0,
              "ticks": ""
             }
            },
            "marker": {
             "colorbar": {
              "outlinewidth": 0,
              "ticks": ""
             }
            },
            "type": "scatter3d"
           }
          ],
          "scattercarpet": [
           {
            "marker": {
             "colorbar": {
              "outlinewidth": 0,
              "ticks": ""
             }
            },
            "type": "scattercarpet"
           }
          ],
          "scattergeo": [
           {
            "marker": {
             "colorbar": {
              "outlinewidth": 0,
              "ticks": ""
             }
            },
            "type": "scattergeo"
           }
          ],
          "scattergl": [
           {
            "marker": {
             "colorbar": {
              "outlinewidth": 0,
              "ticks": ""
             }
            },
            "type": "scattergl"
           }
          ],
          "scattermapbox": [
           {
            "marker": {
             "colorbar": {
              "outlinewidth": 0,
              "ticks": ""
             }
            },
            "type": "scattermapbox"
           }
          ],
          "scatterpolar": [
           {
            "marker": {
             "colorbar": {
              "outlinewidth": 0,
              "ticks": ""
             }
            },
            "type": "scatterpolar"
           }
          ],
          "scatterpolargl": [
           {
            "marker": {
             "colorbar": {
              "outlinewidth": 0,
              "ticks": ""
             }
            },
            "type": "scatterpolargl"
           }
          ],
          "scatterternary": [
           {
            "marker": {
             "colorbar": {
              "outlinewidth": 0,
              "ticks": ""
             }
            },
            "type": "scatterternary"
           }
          ],
          "surface": [
           {
            "colorbar": {
             "outlinewidth": 0,
             "ticks": ""
            },
            "colorscale": [
             [
              0,
              "#0d0887"
             ],
             [
              0.1111111111111111,
              "#46039f"
             ],
             [
              0.2222222222222222,
              "#7201a8"
             ],
             [
              0.3333333333333333,
              "#9c179e"
             ],
             [
              0.4444444444444444,
              "#bd3786"
             ],
             [
              0.5555555555555556,
              "#d8576b"
             ],
             [
              0.6666666666666666,
              "#ed7953"
             ],
             [
              0.7777777777777778,
              "#fb9f3a"
             ],
             [
              0.8888888888888888,
              "#fdca26"
             ],
             [
              1,
              "#f0f921"
             ]
            ],
            "type": "surface"
           }
          ],
          "table": [
           {
            "cells": {
             "fill": {
              "color": "#EBF0F8"
             },
             "line": {
              "color": "white"
             }
            },
            "header": {
             "fill": {
              "color": "#C8D4E3"
             },
             "line": {
              "color": "white"
             }
            },
            "type": "table"
           }
          ]
         },
         "layout": {
          "annotationdefaults": {
           "arrowcolor": "#2a3f5f",
           "arrowhead": 0,
           "arrowwidth": 1
          },
          "autotypenumbers": "strict",
          "coloraxis": {
           "colorbar": {
            "outlinewidth": 0,
            "ticks": ""
           }
          },
          "colorscale": {
           "diverging": [
            [
             0,
             "#8e0152"
            ],
            [
             0.1,
             "#c51b7d"
            ],
            [
             0.2,
             "#de77ae"
            ],
            [
             0.3,
             "#f1b6da"
            ],
            [
             0.4,
             "#fde0ef"
            ],
            [
             0.5,
             "#f7f7f7"
            ],
            [
             0.6,
             "#e6f5d0"
            ],
            [
             0.7,
             "#b8e186"
            ],
            [
             0.8,
             "#7fbc41"
            ],
            [
             0.9,
             "#4d9221"
            ],
            [
             1,
             "#276419"
            ]
           ],
           "sequential": [
            [
             0,
             "#0d0887"
            ],
            [
             0.1111111111111111,
             "#46039f"
            ],
            [
             0.2222222222222222,
             "#7201a8"
            ],
            [
             0.3333333333333333,
             "#9c179e"
            ],
            [
             0.4444444444444444,
             "#bd3786"
            ],
            [
             0.5555555555555556,
             "#d8576b"
            ],
            [
             0.6666666666666666,
             "#ed7953"
            ],
            [
             0.7777777777777778,
             "#fb9f3a"
            ],
            [
             0.8888888888888888,
             "#fdca26"
            ],
            [
             1,
             "#f0f921"
            ]
           ],
           "sequentialminus": [
            [
             0,
             "#0d0887"
            ],
            [
             0.1111111111111111,
             "#46039f"
            ],
            [
             0.2222222222222222,
             "#7201a8"
            ],
            [
             0.3333333333333333,
             "#9c179e"
            ],
            [
             0.4444444444444444,
             "#bd3786"
            ],
            [
             0.5555555555555556,
             "#d8576b"
            ],
            [
             0.6666666666666666,
             "#ed7953"
            ],
            [
             0.7777777777777778,
             "#fb9f3a"
            ],
            [
             0.8888888888888888,
             "#fdca26"
            ],
            [
             1,
             "#f0f921"
            ]
           ]
          },
          "colorway": [
           "#636efa",
           "#EF553B",
           "#00cc96",
           "#ab63fa",
           "#FFA15A",
           "#19d3f3",
           "#FF6692",
           "#B6E880",
           "#FF97FF",
           "#FECB52"
          ],
          "font": {
           "color": "#2a3f5f"
          },
          "geo": {
           "bgcolor": "white",
           "lakecolor": "white",
           "landcolor": "#E5ECF6",
           "showlakes": true,
           "showland": true,
           "subunitcolor": "white"
          },
          "hoverlabel": {
           "align": "left"
          },
          "hovermode": "closest",
          "mapbox": {
           "style": "light"
          },
          "paper_bgcolor": "white",
          "plot_bgcolor": "#E5ECF6",
          "polar": {
           "angularaxis": {
            "gridcolor": "white",
            "linecolor": "white",
            "ticks": ""
           },
           "bgcolor": "#E5ECF6",
           "radialaxis": {
            "gridcolor": "white",
            "linecolor": "white",
            "ticks": ""
           }
          },
          "scene": {
           "xaxis": {
            "backgroundcolor": "#E5ECF6",
            "gridcolor": "white",
            "gridwidth": 2,
            "linecolor": "white",
            "showbackground": true,
            "ticks": "",
            "zerolinecolor": "white"
           },
           "yaxis": {
            "backgroundcolor": "#E5ECF6",
            "gridcolor": "white",
            "gridwidth": 2,
            "linecolor": "white",
            "showbackground": true,
            "ticks": "",
            "zerolinecolor": "white"
           },
           "zaxis": {
            "backgroundcolor": "#E5ECF6",
            "gridcolor": "white",
            "gridwidth": 2,
            "linecolor": "white",
            "showbackground": true,
            "ticks": "",
            "zerolinecolor": "white"
           }
          },
          "shapedefaults": {
           "line": {
            "color": "#2a3f5f"
           }
          },
          "ternary": {
           "aaxis": {
            "gridcolor": "white",
            "linecolor": "white",
            "ticks": ""
           },
           "baxis": {
            "gridcolor": "white",
            "linecolor": "white",
            "ticks": ""
           },
           "bgcolor": "#E5ECF6",
           "caxis": {
            "gridcolor": "white",
            "linecolor": "white",
            "ticks": ""
           }
          },
          "title": {
           "x": 0.05
          },
          "xaxis": {
           "automargin": true,
           "gridcolor": "white",
           "linecolor": "white",
           "ticks": "",
           "title": {
            "standoff": 15
           },
           "zerolinecolor": "white",
           "zerolinewidth": 2
          },
          "yaxis": {
           "automargin": true,
           "gridcolor": "white",
           "linecolor": "white",
           "ticks": "",
           "title": {
            "standoff": 15
           },
           "zerolinecolor": "white",
           "zerolinewidth": 2
          }
         }
        },
        "title": {
         "text": "Dataset Contributors",
         "x": 0.5
        }
       }
      }
     },
     "metadata": {},
     "output_type": "display_data"
    }
   ],
   "source": [
    "df=data['dataset'].value_counts().reset_index().rename(columns={'index':'dataset','dataset':'count'})\n",
    "fig = go.Figure([go.Pie(labels=df['dataset'],values=df['count'], hole = 0.5)])\n",
    "fig.update_traces(hoverinfo='label+percent', textinfo='value+percent', textfont_size=15,insidetextorientation='radial')\n",
    "fig.update_layout(title=\"Dataset Contributors\",title_x=0.5)\n",
    "fig.show()"
   ]
  },
  {
   "cell_type": "code",
   "execution_count": null,
   "metadata": {},
   "outputs": [
    {
     "data": {
      "application/vnd.plotly.v1+json": {
       "config": {
        "plotlyServerURL": "https://plot.ly"
       },
       "data": [
        {
         "hole": 0.5,
         "hoverinfo": "label+percent",
         "insidetextorientation": "radial",
         "labels": [
          "asymptomatic",
          "non-anginal",
          "atypical angina",
          "typical angina"
         ],
         "textfont": {
          "size": 15
         },
         "textinfo": "value+percent",
         "type": "pie",
         "values": [
          144,
          83,
          49,
          23
         ]
        }
       ],
       "layout": {
        "template": {
         "data": {
          "bar": [
           {
            "error_x": {
             "color": "#2a3f5f"
            },
            "error_y": {
             "color": "#2a3f5f"
            },
            "marker": {
             "line": {
              "color": "#E5ECF6",
              "width": 0.5
             },
             "pattern": {
              "fillmode": "overlay",
              "size": 10,
              "solidity": 0.2
             }
            },
            "type": "bar"
           }
          ],
          "barpolar": [
           {
            "marker": {
             "line": {
              "color": "#E5ECF6",
              "width": 0.5
             },
             "pattern": {
              "fillmode": "overlay",
              "size": 10,
              "solidity": 0.2
             }
            },
            "type": "barpolar"
           }
          ],
          "carpet": [
           {
            "aaxis": {
             "endlinecolor": "#2a3f5f",
             "gridcolor": "white",
             "linecolor": "white",
             "minorgridcolor": "white",
             "startlinecolor": "#2a3f5f"
            },
            "baxis": {
             "endlinecolor": "#2a3f5f",
             "gridcolor": "white",
             "linecolor": "white",
             "minorgridcolor": "white",
             "startlinecolor": "#2a3f5f"
            },
            "type": "carpet"
           }
          ],
          "choropleth": [
           {
            "colorbar": {
             "outlinewidth": 0,
             "ticks": ""
            },
            "type": "choropleth"
           }
          ],
          "contour": [
           {
            "colorbar": {
             "outlinewidth": 0,
             "ticks": ""
            },
            "colorscale": [
             [
              0,
              "#0d0887"
             ],
             [
              0.1111111111111111,
              "#46039f"
             ],
             [
              0.2222222222222222,
              "#7201a8"
             ],
             [
              0.3333333333333333,
              "#9c179e"
             ],
             [
              0.4444444444444444,
              "#bd3786"
             ],
             [
              0.5555555555555556,
              "#d8576b"
             ],
             [
              0.6666666666666666,
              "#ed7953"
             ],
             [
              0.7777777777777778,
              "#fb9f3a"
             ],
             [
              0.8888888888888888,
              "#fdca26"
             ],
             [
              1,
              "#f0f921"
             ]
            ],
            "type": "contour"
           }
          ],
          "contourcarpet": [
           {
            "colorbar": {
             "outlinewidth": 0,
             "ticks": ""
            },
            "type": "contourcarpet"
           }
          ],
          "heatmap": [
           {
            "colorbar": {
             "outlinewidth": 0,
             "ticks": ""
            },
            "colorscale": [
             [
              0,
              "#0d0887"
             ],
             [
              0.1111111111111111,
              "#46039f"
             ],
             [
              0.2222222222222222,
              "#7201a8"
             ],
             [
              0.3333333333333333,
              "#9c179e"
             ],
             [
              0.4444444444444444,
              "#bd3786"
             ],
             [
              0.5555555555555556,
              "#d8576b"
             ],
             [
              0.6666666666666666,
              "#ed7953"
             ],
             [
              0.7777777777777778,
              "#fb9f3a"
             ],
             [
              0.8888888888888888,
              "#fdca26"
             ],
             [
              1,
              "#f0f921"
             ]
            ],
            "type": "heatmap"
           }
          ],
          "heatmapgl": [
           {
            "colorbar": {
             "outlinewidth": 0,
             "ticks": ""
            },
            "colorscale": [
             [
              0,
              "#0d0887"
             ],
             [
              0.1111111111111111,
              "#46039f"
             ],
             [
              0.2222222222222222,
              "#7201a8"
             ],
             [
              0.3333333333333333,
              "#9c179e"
             ],
             [
              0.4444444444444444,
              "#bd3786"
             ],
             [
              0.5555555555555556,
              "#d8576b"
             ],
             [
              0.6666666666666666,
              "#ed7953"
             ],
             [
              0.7777777777777778,
              "#fb9f3a"
             ],
             [
              0.8888888888888888,
              "#fdca26"
             ],
             [
              1,
              "#f0f921"
             ]
            ],
            "type": "heatmapgl"
           }
          ],
          "histogram": [
           {
            "marker": {
             "pattern": {
              "fillmode": "overlay",
              "size": 10,
              "solidity": 0.2
             }
            },
            "type": "histogram"
           }
          ],
          "histogram2d": [
           {
            "colorbar": {
             "outlinewidth": 0,
             "ticks": ""
            },
            "colorscale": [
             [
              0,
              "#0d0887"
             ],
             [
              0.1111111111111111,
              "#46039f"
             ],
             [
              0.2222222222222222,
              "#7201a8"
             ],
             [
              0.3333333333333333,
              "#9c179e"
             ],
             [
              0.4444444444444444,
              "#bd3786"
             ],
             [
              0.5555555555555556,
              "#d8576b"
             ],
             [
              0.6666666666666666,
              "#ed7953"
             ],
             [
              0.7777777777777778,
              "#fb9f3a"
             ],
             [
              0.8888888888888888,
              "#fdca26"
             ],
             [
              1,
              "#f0f921"
             ]
            ],
            "type": "histogram2d"
           }
          ],
          "histogram2dcontour": [
           {
            "colorbar": {
             "outlinewidth": 0,
             "ticks": ""
            },
            "colorscale": [
             [
              0,
              "#0d0887"
             ],
             [
              0.1111111111111111,
              "#46039f"
             ],
             [
              0.2222222222222222,
              "#7201a8"
             ],
             [
              0.3333333333333333,
              "#9c179e"
             ],
             [
              0.4444444444444444,
              "#bd3786"
             ],
             [
              0.5555555555555556,
              "#d8576b"
             ],
             [
              0.6666666666666666,
              "#ed7953"
             ],
             [
              0.7777777777777778,
              "#fb9f3a"
             ],
             [
              0.8888888888888888,
              "#fdca26"
             ],
             [
              1,
              "#f0f921"
             ]
            ],
            "type": "histogram2dcontour"
           }
          ],
          "mesh3d": [
           {
            "colorbar": {
             "outlinewidth": 0,
             "ticks": ""
            },
            "type": "mesh3d"
           }
          ],
          "parcoords": [
           {
            "line": {
             "colorbar": {
              "outlinewidth": 0,
              "ticks": ""
             }
            },
            "type": "parcoords"
           }
          ],
          "pie": [
           {
            "automargin": true,
            "type": "pie"
           }
          ],
          "scatter": [
           {
            "fillpattern": {
             "fillmode": "overlay",
             "size": 10,
             "solidity": 0.2
            },
            "type": "scatter"
           }
          ],
          "scatter3d": [
           {
            "line": {
             "colorbar": {
              "outlinewidth": 0,
              "ticks": ""
             }
            },
            "marker": {
             "colorbar": {
              "outlinewidth": 0,
              "ticks": ""
             }
            },
            "type": "scatter3d"
           }
          ],
          "scattercarpet": [
           {
            "marker": {
             "colorbar": {
              "outlinewidth": 0,
              "ticks": ""
             }
            },
            "type": "scattercarpet"
           }
          ],
          "scattergeo": [
           {
            "marker": {
             "colorbar": {
              "outlinewidth": 0,
              "ticks": ""
             }
            },
            "type": "scattergeo"
           }
          ],
          "scattergl": [
           {
            "marker": {
             "colorbar": {
              "outlinewidth": 0,
              "ticks": ""
             }
            },
            "type": "scattergl"
           }
          ],
          "scattermapbox": [
           {
            "marker": {
             "colorbar": {
              "outlinewidth": 0,
              "ticks": ""
             }
            },
            "type": "scattermapbox"
           }
          ],
          "scatterpolar": [
           {
            "marker": {
             "colorbar": {
              "outlinewidth": 0,
              "ticks": ""
             }
            },
            "type": "scatterpolar"
           }
          ],
          "scatterpolargl": [
           {
            "marker": {
             "colorbar": {
              "outlinewidth": 0,
              "ticks": ""
             }
            },
            "type": "scatterpolargl"
           }
          ],
          "scatterternary": [
           {
            "marker": {
             "colorbar": {
              "outlinewidth": 0,
              "ticks": ""
             }
            },
            "type": "scatterternary"
           }
          ],
          "surface": [
           {
            "colorbar": {
             "outlinewidth": 0,
             "ticks": ""
            },
            "colorscale": [
             [
              0,
              "#0d0887"
             ],
             [
              0.1111111111111111,
              "#46039f"
             ],
             [
              0.2222222222222222,
              "#7201a8"
             ],
             [
              0.3333333333333333,
              "#9c179e"
             ],
             [
              0.4444444444444444,
              "#bd3786"
             ],
             [
              0.5555555555555556,
              "#d8576b"
             ],
             [
              0.6666666666666666,
              "#ed7953"
             ],
             [
              0.7777777777777778,
              "#fb9f3a"
             ],
             [
              0.8888888888888888,
              "#fdca26"
             ],
             [
              1,
              "#f0f921"
             ]
            ],
            "type": "surface"
           }
          ],
          "table": [
           {
            "cells": {
             "fill": {
              "color": "#EBF0F8"
             },
             "line": {
              "color": "white"
             }
            },
            "header": {
             "fill": {
              "color": "#C8D4E3"
             },
             "line": {
              "color": "white"
             }
            },
            "type": "table"
           }
          ]
         },
         "layout": {
          "annotationdefaults": {
           "arrowcolor": "#2a3f5f",
           "arrowhead": 0,
           "arrowwidth": 1
          },
          "autotypenumbers": "strict",
          "coloraxis": {
           "colorbar": {
            "outlinewidth": 0,
            "ticks": ""
           }
          },
          "colorscale": {
           "diverging": [
            [
             0,
             "#8e0152"
            ],
            [
             0.1,
             "#c51b7d"
            ],
            [
             0.2,
             "#de77ae"
            ],
            [
             0.3,
             "#f1b6da"
            ],
            [
             0.4,
             "#fde0ef"
            ],
            [
             0.5,
             "#f7f7f7"
            ],
            [
             0.6,
             "#e6f5d0"
            ],
            [
             0.7,
             "#b8e186"
            ],
            [
             0.8,
             "#7fbc41"
            ],
            [
             0.9,
             "#4d9221"
            ],
            [
             1,
             "#276419"
            ]
           ],
           "sequential": [
            [
             0,
             "#0d0887"
            ],
            [
             0.1111111111111111,
             "#46039f"
            ],
            [
             0.2222222222222222,
             "#7201a8"
            ],
            [
             0.3333333333333333,
             "#9c179e"
            ],
            [
             0.4444444444444444,
             "#bd3786"
            ],
            [
             0.5555555555555556,
             "#d8576b"
            ],
            [
             0.6666666666666666,
             "#ed7953"
            ],
            [
             0.7777777777777778,
             "#fb9f3a"
            ],
            [
             0.8888888888888888,
             "#fdca26"
            ],
            [
             1,
             "#f0f921"
            ]
           ],
           "sequentialminus": [
            [
             0,
             "#0d0887"
            ],
            [
             0.1111111111111111,
             "#46039f"
            ],
            [
             0.2222222222222222,
             "#7201a8"
            ],
            [
             0.3333333333333333,
             "#9c179e"
            ],
            [
             0.4444444444444444,
             "#bd3786"
            ],
            [
             0.5555555555555556,
             "#d8576b"
            ],
            [
             0.6666666666666666,
             "#ed7953"
            ],
            [
             0.7777777777777778,
             "#fb9f3a"
            ],
            [
             0.8888888888888888,
             "#fdca26"
            ],
            [
             1,
             "#f0f921"
            ]
           ]
          },
          "colorway": [
           "#636efa",
           "#EF553B",
           "#00cc96",
           "#ab63fa",
           "#FFA15A",
           "#19d3f3",
           "#FF6692",
           "#B6E880",
           "#FF97FF",
           "#FECB52"
          ],
          "font": {
           "color": "#2a3f5f"
          },
          "geo": {
           "bgcolor": "white",
           "lakecolor": "white",
           "landcolor": "#E5ECF6",
           "showlakes": true,
           "showland": true,
           "subunitcolor": "white"
          },
          "hoverlabel": {
           "align": "left"
          },
          "hovermode": "closest",
          "mapbox": {
           "style": "light"
          },
          "paper_bgcolor": "white",
          "plot_bgcolor": "#E5ECF6",
          "polar": {
           "angularaxis": {
            "gridcolor": "white",
            "linecolor": "white",
            "ticks": ""
           },
           "bgcolor": "#E5ECF6",
           "radialaxis": {
            "gridcolor": "white",
            "linecolor": "white",
            "ticks": ""
           }
          },
          "scene": {
           "xaxis": {
            "backgroundcolor": "#E5ECF6",
            "gridcolor": "white",
            "gridwidth": 2,
            "linecolor": "white",
            "showbackground": true,
            "ticks": "",
            "zerolinecolor": "white"
           },
           "yaxis": {
            "backgroundcolor": "#E5ECF6",
            "gridcolor": "white",
            "gridwidth": 2,
            "linecolor": "white",
            "showbackground": true,
            "ticks": "",
            "zerolinecolor": "white"
           },
           "zaxis": {
            "backgroundcolor": "#E5ECF6",
            "gridcolor": "white",
            "gridwidth": 2,
            "linecolor": "white",
            "showbackground": true,
            "ticks": "",
            "zerolinecolor": "white"
           }
          },
          "shapedefaults": {
           "line": {
            "color": "#2a3f5f"
           }
          },
          "ternary": {
           "aaxis": {
            "gridcolor": "white",
            "linecolor": "white",
            "ticks": ""
           },
           "baxis": {
            "gridcolor": "white",
            "linecolor": "white",
            "ticks": ""
           },
           "bgcolor": "#E5ECF6",
           "caxis": {
            "gridcolor": "white",
            "linecolor": "white",
            "ticks": ""
           }
          },
          "title": {
           "x": 0.05
          },
          "xaxis": {
           "automargin": true,
           "gridcolor": "white",
           "linecolor": "white",
           "ticks": "",
           "title": {
            "standoff": 15
           },
           "zerolinecolor": "white",
           "zerolinewidth": 2
          },
          "yaxis": {
           "automargin": true,
           "gridcolor": "white",
           "linecolor": "white",
           "ticks": "",
           "title": {
            "standoff": 15
           },
           "zerolinecolor": "white",
           "zerolinewidth": 2
          }
         }
        },
        "title": {
         "text": "Chest Pain Conditions",
         "x": 0.5
        }
       }
      }
     },
     "metadata": {},
     "output_type": "display_data"
    }
   ],
   "source": [
    "df=data['cp'].value_counts().reset_index().rename(columns={'index':'cp','cp':'count'})\n",
    "fig = go.Figure([go.Pie(labels=df['cp'],values=df['count'], hole = 0.5)])\n",
    "fig.update_traces(hoverinfo='label+percent', textinfo='value+percent', textfont_size=15,insidetextorientation='radial')\n",
    "fig.update_layout(title=\"Chest Pain Conditions\",title_x=0.5)\n",
    "fig.show()"
   ]
  },
  {
   "cell_type": "code",
   "execution_count": null,
   "metadata": {},
   "outputs": [
    {
     "data": {
      "application/vnd.plotly.v1+json": {
       "config": {
        "plotlyServerURL": "https://plot.ly"
       },
       "data": [
        {
         "boxmean": true,
         "marker": {
          "color": "green"
         },
         "name": "BP at Rest for all",
         "type": "box",
         "y": [
          170,
          102,
          130,
          140,
          134,
          150,
          100,
          160,
          148,
          130,
          135,
          112,
          120,
          192,
          120,
          130,
          178,
          145,
          125,
          110,
          150,
          130,
          136,
          125,
          140,
          118,
          135,
          138,
          174,
          150,
          170,
          120,
          110,
          150,
          130,
          152,
          155,
          120,
          132,
          100,
          150,
          130,
          130,
          125,
          110,
          172,
          152,
          105,
          160,
          140,
          152,
          130,
          128,
          110,
          130,
          130,
          140,
          125,
          135,
          150,
          120,
          130,
          154,
          106,
          140,
          122,
          112,
          120,
          132,
          130,
          142,
          110,
          152,
          108,
          130,
          126,
          118,
          120,
          115,
          130,
          112,
          134,
          134,
          160,
          120,
          130,
          140,
          120,
          120,
          125,
          120,
          105,
          120,
          94,
          138,
          160,
          123,
          135,
          115,
          160,
          94,
          158,
          125,
          140,
          110,
          160,
          120,
          130,
          140,
          140,
          135,
          114,
          140,
          138,
          130,
          150,
          120,
          132,
          122,
          132,
          140,
          132,
          120,
          170,
          140,
          140,
          108,
          146,
          130,
          140,
          108,
          128,
          110,
          160,
          110,
          120,
          140,
          160,
          130,
          140,
          140,
          126,
          112,
          132,
          108,
          140,
          110,
          138,
          142,
          156,
          150,
          150,
          138,
          100,
          102,
          122,
          130,
          138,
          120,
          138,
          120,
          135,
          110,
          130,
          152,
          200,
          125,
          150,
          150,
          125,
          120,
          120,
          120,
          150,
          125,
          165,
          104,
          138,
          130,
          120,
          112,
          130,
          120,
          108,
          134,
          120,
          150,
          130,
          140,
          112,
          120,
          180,
          130,
          150,
          110,
          150,
          140,
          122,
          124,
          117,
          124,
          118,
          150,
          140,
          132,
          118,
          130,
          170,
          145,
          130,
          138,
          140,
          130,
          128,
          150,
          112,
          115,
          130,
          145,
          110,
          140,
          120,
          120,
          178,
          100,
          110,
          164,
          136,
          120,
          118,
          130,
          112,
          142,
          128,
          136,
          110,
          120,
          124,
          160,
          120,
          126,
          144,
          120,
          145,
          120,
          118,
          134,
          120,
          110,
          140,
          144,
          128,
          120,
          120,
          129,
          130,
          180,
          146,
          112,
          140,
          145,
          110,
          140,
          160,
          110,
          120,
          140,
          105,
          130,
          140,
          140,
          101,
          128,
          125,
          128,
          110,
          120,
          138,
          130,
          130,
          120,
          124,
          128,
          108,
          148,
          140,
          130,
          124,
          140,
          150,
          130,
          140,
          110,
          160,
          128,
          180,
          128,
          118,
          124
         ]
        },
        {
         "boxmean": true,
         "marker": {
          "color": "blue"
         },
         "name": "Male only",
         "type": "box",
         "y": [
          170,
          130,
          140,
          134,
          150,
          100,
          160,
          148,
          130,
          112,
          120,
          192,
          120,
          145,
          125,
          110,
          150,
          125,
          140,
          118,
          135,
          110,
          150,
          130,
          152,
          120,
          132,
          100,
          130,
          125,
          172,
          152,
          105,
          140,
          130,
          110,
          130,
          140,
          125,
          154,
          140,
          122,
          112,
          132,
          142,
          152,
          108,
          130,
          126,
          118,
          120,
          115,
          130,
          134,
          134,
          120,
          120,
          120,
          125,
          120,
          120,
          94,
          160,
          123,
          135,
          115,
          160,
          125,
          140,
          120,
          130,
          140,
          114,
          138,
          130,
          150,
          120,
          132,
          140,
          120,
          170,
          140,
          108,
          130,
          128,
          110,
          160,
          110,
          120,
          160,
          130,
          140,
          132,
          108,
          140,
          110,
          142,
          156,
          100,
          122,
          130,
          138,
          120,
          135,
          110,
          152,
          125,
          150,
          125,
          120,
          120,
          120,
          150,
          125,
          165,
          104,
          120,
          112,
          130,
          120,
          150,
          140,
          112,
          120,
          130,
          150,
          110,
          140,
          122,
          124,
          117,
          124,
          118,
          150,
          118,
          130,
          170,
          138,
          140,
          130,
          128,
          150,
          112,
          130,
          145,
          110,
          140,
          120,
          120,
          178,
          110,
          164,
          130,
          128,
          136,
          110,
          120,
          126,
          144,
          120,
          145,
          118,
          110,
          140,
          144,
          120,
          120,
          129,
          130,
          180,
          146,
          112,
          140,
          145,
          110,
          140,
          160,
          110,
          120,
          140,
          130,
          140,
          140,
          101,
          128,
          125,
          128,
          110,
          138,
          130,
          130,
          120,
          124,
          128,
          148,
          130,
          140,
          150,
          110,
          160,
          128,
          128,
          124
         ]
        },
        {
         "boxmean": true,
         "marker": {
          "color": "red"
         },
         "name": "Female only",
         "type": "box",
         "y": [
          102,
          135,
          130,
          178,
          130,
          136,
          138,
          174,
          150,
          170,
          120,
          155,
          150,
          130,
          110,
          160,
          152,
          128,
          130,
          135,
          150,
          120,
          130,
          106,
          120,
          130,
          110,
          112,
          160,
          130,
          140,
          105,
          138,
          94,
          158,
          110,
          160,
          140,
          135,
          140,
          132,
          122,
          132,
          140,
          146,
          140,
          108,
          140,
          140,
          126,
          112,
          138,
          150,
          150,
          138,
          102,
          138,
          120,
          130,
          200,
          150,
          138,
          130,
          120,
          108,
          134,
          130,
          180,
          150,
          140,
          132,
          145,
          130,
          115,
          100,
          136,
          120,
          118,
          112,
          142,
          120,
          124,
          160,
          120,
          134,
          120,
          128,
          105,
          120,
          108,
          140,
          124,
          130,
          140,
          180,
          118
         ]
        }
       ],
       "layout": {
        "template": {
         "data": {
          "bar": [
           {
            "error_x": {
             "color": "#2a3f5f"
            },
            "error_y": {
             "color": "#2a3f5f"
            },
            "marker": {
             "line": {
              "color": "#E5ECF6",
              "width": 0.5
             },
             "pattern": {
              "fillmode": "overlay",
              "size": 10,
              "solidity": 0.2
             }
            },
            "type": "bar"
           }
          ],
          "barpolar": [
           {
            "marker": {
             "line": {
              "color": "#E5ECF6",
              "width": 0.5
             },
             "pattern": {
              "fillmode": "overlay",
              "size": 10,
              "solidity": 0.2
             }
            },
            "type": "barpolar"
           }
          ],
          "carpet": [
           {
            "aaxis": {
             "endlinecolor": "#2a3f5f",
             "gridcolor": "white",
             "linecolor": "white",
             "minorgridcolor": "white",
             "startlinecolor": "#2a3f5f"
            },
            "baxis": {
             "endlinecolor": "#2a3f5f",
             "gridcolor": "white",
             "linecolor": "white",
             "minorgridcolor": "white",
             "startlinecolor": "#2a3f5f"
            },
            "type": "carpet"
           }
          ],
          "choropleth": [
           {
            "colorbar": {
             "outlinewidth": 0,
             "ticks": ""
            },
            "type": "choropleth"
           }
          ],
          "contour": [
           {
            "colorbar": {
             "outlinewidth": 0,
             "ticks": ""
            },
            "colorscale": [
             [
              0,
              "#0d0887"
             ],
             [
              0.1111111111111111,
              "#46039f"
             ],
             [
              0.2222222222222222,
              "#7201a8"
             ],
             [
              0.3333333333333333,
              "#9c179e"
             ],
             [
              0.4444444444444444,
              "#bd3786"
             ],
             [
              0.5555555555555556,
              "#d8576b"
             ],
             [
              0.6666666666666666,
              "#ed7953"
             ],
             [
              0.7777777777777778,
              "#fb9f3a"
             ],
             [
              0.8888888888888888,
              "#fdca26"
             ],
             [
              1,
              "#f0f921"
             ]
            ],
            "type": "contour"
           }
          ],
          "contourcarpet": [
           {
            "colorbar": {
             "outlinewidth": 0,
             "ticks": ""
            },
            "type": "contourcarpet"
           }
          ],
          "heatmap": [
           {
            "colorbar": {
             "outlinewidth": 0,
             "ticks": ""
            },
            "colorscale": [
             [
              0,
              "#0d0887"
             ],
             [
              0.1111111111111111,
              "#46039f"
             ],
             [
              0.2222222222222222,
              "#7201a8"
             ],
             [
              0.3333333333333333,
              "#9c179e"
             ],
             [
              0.4444444444444444,
              "#bd3786"
             ],
             [
              0.5555555555555556,
              "#d8576b"
             ],
             [
              0.6666666666666666,
              "#ed7953"
             ],
             [
              0.7777777777777778,
              "#fb9f3a"
             ],
             [
              0.8888888888888888,
              "#fdca26"
             ],
             [
              1,
              "#f0f921"
             ]
            ],
            "type": "heatmap"
           }
          ],
          "heatmapgl": [
           {
            "colorbar": {
             "outlinewidth": 0,
             "ticks": ""
            },
            "colorscale": [
             [
              0,
              "#0d0887"
             ],
             [
              0.1111111111111111,
              "#46039f"
             ],
             [
              0.2222222222222222,
              "#7201a8"
             ],
             [
              0.3333333333333333,
              "#9c179e"
             ],
             [
              0.4444444444444444,
              "#bd3786"
             ],
             [
              0.5555555555555556,
              "#d8576b"
             ],
             [
              0.6666666666666666,
              "#ed7953"
             ],
             [
              0.7777777777777778,
              "#fb9f3a"
             ],
             [
              0.8888888888888888,
              "#fdca26"
             ],
             [
              1,
              "#f0f921"
             ]
            ],
            "type": "heatmapgl"
           }
          ],
          "histogram": [
           {
            "marker": {
             "pattern": {
              "fillmode": "overlay",
              "size": 10,
              "solidity": 0.2
             }
            },
            "type": "histogram"
           }
          ],
          "histogram2d": [
           {
            "colorbar": {
             "outlinewidth": 0,
             "ticks": ""
            },
            "colorscale": [
             [
              0,
              "#0d0887"
             ],
             [
              0.1111111111111111,
              "#46039f"
             ],
             [
              0.2222222222222222,
              "#7201a8"
             ],
             [
              0.3333333333333333,
              "#9c179e"
             ],
             [
              0.4444444444444444,
              "#bd3786"
             ],
             [
              0.5555555555555556,
              "#d8576b"
             ],
             [
              0.6666666666666666,
              "#ed7953"
             ],
             [
              0.7777777777777778,
              "#fb9f3a"
             ],
             [
              0.8888888888888888,
              "#fdca26"
             ],
             [
              1,
              "#f0f921"
             ]
            ],
            "type": "histogram2d"
           }
          ],
          "histogram2dcontour": [
           {
            "colorbar": {
             "outlinewidth": 0,
             "ticks": ""
            },
            "colorscale": [
             [
              0,
              "#0d0887"
             ],
             [
              0.1111111111111111,
              "#46039f"
             ],
             [
              0.2222222222222222,
              "#7201a8"
             ],
             [
              0.3333333333333333,
              "#9c179e"
             ],
             [
              0.4444444444444444,
              "#bd3786"
             ],
             [
              0.5555555555555556,
              "#d8576b"
             ],
             [
              0.6666666666666666,
              "#ed7953"
             ],
             [
              0.7777777777777778,
              "#fb9f3a"
             ],
             [
              0.8888888888888888,
              "#fdca26"
             ],
             [
              1,
              "#f0f921"
             ]
            ],
            "type": "histogram2dcontour"
           }
          ],
          "mesh3d": [
           {
            "colorbar": {
             "outlinewidth": 0,
             "ticks": ""
            },
            "type": "mesh3d"
           }
          ],
          "parcoords": [
           {
            "line": {
             "colorbar": {
              "outlinewidth": 0,
              "ticks": ""
             }
            },
            "type": "parcoords"
           }
          ],
          "pie": [
           {
            "automargin": true,
            "type": "pie"
           }
          ],
          "scatter": [
           {
            "fillpattern": {
             "fillmode": "overlay",
             "size": 10,
             "solidity": 0.2
            },
            "type": "scatter"
           }
          ],
          "scatter3d": [
           {
            "line": {
             "colorbar": {
              "outlinewidth": 0,
              "ticks": ""
             }
            },
            "marker": {
             "colorbar": {
              "outlinewidth": 0,
              "ticks": ""
             }
            },
            "type": "scatter3d"
           }
          ],
          "scattercarpet": [
           {
            "marker": {
             "colorbar": {
              "outlinewidth": 0,
              "ticks": ""
             }
            },
            "type": "scattercarpet"
           }
          ],
          "scattergeo": [
           {
            "marker": {
             "colorbar": {
              "outlinewidth": 0,
              "ticks": ""
             }
            },
            "type": "scattergeo"
           }
          ],
          "scattergl": [
           {
            "marker": {
             "colorbar": {
              "outlinewidth": 0,
              "ticks": ""
             }
            },
            "type": "scattergl"
           }
          ],
          "scattermapbox": [
           {
            "marker": {
             "colorbar": {
              "outlinewidth": 0,
              "ticks": ""
             }
            },
            "type": "scattermapbox"
           }
          ],
          "scatterpolar": [
           {
            "marker": {
             "colorbar": {
              "outlinewidth": 0,
              "ticks": ""
             }
            },
            "type": "scatterpolar"
           }
          ],
          "scatterpolargl": [
           {
            "marker": {
             "colorbar": {
              "outlinewidth": 0,
              "ticks": ""
             }
            },
            "type": "scatterpolargl"
           }
          ],
          "scatterternary": [
           {
            "marker": {
             "colorbar": {
              "outlinewidth": 0,
              "ticks": ""
             }
            },
            "type": "scatterternary"
           }
          ],
          "surface": [
           {
            "colorbar": {
             "outlinewidth": 0,
             "ticks": ""
            },
            "colorscale": [
             [
              0,
              "#0d0887"
             ],
             [
              0.1111111111111111,
              "#46039f"
             ],
             [
              0.2222222222222222,
              "#7201a8"
             ],
             [
              0.3333333333333333,
              "#9c179e"
             ],
             [
              0.4444444444444444,
              "#bd3786"
             ],
             [
              0.5555555555555556,
              "#d8576b"
             ],
             [
              0.6666666666666666,
              "#ed7953"
             ],
             [
              0.7777777777777778,
              "#fb9f3a"
             ],
             [
              0.8888888888888888,
              "#fdca26"
             ],
             [
              1,
              "#f0f921"
             ]
            ],
            "type": "surface"
           }
          ],
          "table": [
           {
            "cells": {
             "fill": {
              "color": "#EBF0F8"
             },
             "line": {
              "color": "white"
             }
            },
            "header": {
             "fill": {
              "color": "#C8D4E3"
             },
             "line": {
              "color": "white"
             }
            },
            "type": "table"
           }
          ]
         },
         "layout": {
          "annotationdefaults": {
           "arrowcolor": "#2a3f5f",
           "arrowhead": 0,
           "arrowwidth": 1
          },
          "autotypenumbers": "strict",
          "coloraxis": {
           "colorbar": {
            "outlinewidth": 0,
            "ticks": ""
           }
          },
          "colorscale": {
           "diverging": [
            [
             0,
             "#8e0152"
            ],
            [
             0.1,
             "#c51b7d"
            ],
            [
             0.2,
             "#de77ae"
            ],
            [
             0.3,
             "#f1b6da"
            ],
            [
             0.4,
             "#fde0ef"
            ],
            [
             0.5,
             "#f7f7f7"
            ],
            [
             0.6,
             "#e6f5d0"
            ],
            [
             0.7,
             "#b8e186"
            ],
            [
             0.8,
             "#7fbc41"
            ],
            [
             0.9,
             "#4d9221"
            ],
            [
             1,
             "#276419"
            ]
           ],
           "sequential": [
            [
             0,
             "#0d0887"
            ],
            [
             0.1111111111111111,
             "#46039f"
            ],
            [
             0.2222222222222222,
             "#7201a8"
            ],
            [
             0.3333333333333333,
             "#9c179e"
            ],
            [
             0.4444444444444444,
             "#bd3786"
            ],
            [
             0.5555555555555556,
             "#d8576b"
            ],
            [
             0.6666666666666666,
             "#ed7953"
            ],
            [
             0.7777777777777778,
             "#fb9f3a"
            ],
            [
             0.8888888888888888,
             "#fdca26"
            ],
            [
             1,
             "#f0f921"
            ]
           ],
           "sequentialminus": [
            [
             0,
             "#0d0887"
            ],
            [
             0.1111111111111111,
             "#46039f"
            ],
            [
             0.2222222222222222,
             "#7201a8"
            ],
            [
             0.3333333333333333,
             "#9c179e"
            ],
            [
             0.4444444444444444,
             "#bd3786"
            ],
            [
             0.5555555555555556,
             "#d8576b"
            ],
            [
             0.6666666666666666,
             "#ed7953"
            ],
            [
             0.7777777777777778,
             "#fb9f3a"
            ],
            [
             0.8888888888888888,
             "#fdca26"
            ],
            [
             1,
             "#f0f921"
            ]
           ]
          },
          "colorway": [
           "#636efa",
           "#EF553B",
           "#00cc96",
           "#ab63fa",
           "#FFA15A",
           "#19d3f3",
           "#FF6692",
           "#B6E880",
           "#FF97FF",
           "#FECB52"
          ],
          "font": {
           "color": "#2a3f5f"
          },
          "geo": {
           "bgcolor": "white",
           "lakecolor": "white",
           "landcolor": "#E5ECF6",
           "showlakes": true,
           "showland": true,
           "subunitcolor": "white"
          },
          "hoverlabel": {
           "align": "left"
          },
          "hovermode": "closest",
          "mapbox": {
           "style": "light"
          },
          "paper_bgcolor": "white",
          "plot_bgcolor": "#E5ECF6",
          "polar": {
           "angularaxis": {
            "gridcolor": "white",
            "linecolor": "white",
            "ticks": ""
           },
           "bgcolor": "#E5ECF6",
           "radialaxis": {
            "gridcolor": "white",
            "linecolor": "white",
            "ticks": ""
           }
          },
          "scene": {
           "xaxis": {
            "backgroundcolor": "#E5ECF6",
            "gridcolor": "white",
            "gridwidth": 2,
            "linecolor": "white",
            "showbackground": true,
            "ticks": "",
            "zerolinecolor": "white"
           },
           "yaxis": {
            "backgroundcolor": "#E5ECF6",
            "gridcolor": "white",
            "gridwidth": 2,
            "linecolor": "white",
            "showbackground": true,
            "ticks": "",
            "zerolinecolor": "white"
           },
           "zaxis": {
            "backgroundcolor": "#E5ECF6",
            "gridcolor": "white",
            "gridwidth": 2,
            "linecolor": "white",
            "showbackground": true,
            "ticks": "",
            "zerolinecolor": "white"
           }
          },
          "shapedefaults": {
           "line": {
            "color": "#2a3f5f"
           }
          },
          "ternary": {
           "aaxis": {
            "gridcolor": "white",
            "linecolor": "white",
            "ticks": ""
           },
           "baxis": {
            "gridcolor": "white",
            "linecolor": "white",
            "ticks": ""
           },
           "bgcolor": "#E5ECF6",
           "caxis": {
            "gridcolor": "white",
            "linecolor": "white",
            "ticks": ""
           }
          },
          "title": {
           "x": 0.05
          },
          "xaxis": {
           "automargin": true,
           "gridcolor": "white",
           "linecolor": "white",
           "ticks": "",
           "title": {
            "standoff": 15
           },
           "zerolinecolor": "white",
           "zerolinewidth": 2
          },
          "yaxis": {
           "automargin": true,
           "gridcolor": "white",
           "linecolor": "white",
           "ticks": "",
           "title": {
            "standoff": 15
           },
           "zerolinecolor": "white",
           "zerolinewidth": 2
          }
         }
        },
        "title": {
         "text": "BP Distribution",
         "x": 0.5
        },
        "xaxis": {
         "linecolor": "black",
         "linewidth": 2,
         "mirror": true,
         "showline": true
        },
        "yaxis": {
         "linecolor": "black",
         "linewidth": 2,
         "mirror": true,
         "showline": true,
         "title": {
          "text": "Blood Pressure (mm/Hg)"
         }
        }
       }
      }
     },
     "metadata": {},
     "output_type": "display_data"
    }
   ],
   "source": [
    "fig = go.Figure()\n",
    "fig.add_trace(go.Box(y=data['trestbps'].values , name='BP at Rest for all', marker_color = 'green',boxmean=True))\n",
    "fig.add_trace(go.Box(y=data[data['sex']=='Male']['trestbps'].values, name ='Male only', marker_color = 'blue', boxmean = True))\n",
    "fig.add_trace(go.Box(y=data[data['sex']=='Female']['trestbps'].values, name ='Female only', marker_color = 'red', boxmean = True))\n",
    "fig.update_layout(title = 'BP Distribution', yaxis_title = 'Blood Pressure (mm/Hg)', title_x = 0.5)\n",
    "fig.update_xaxes(showline=True, linewidth=2, linecolor='black', mirror=True)\n",
    "fig.update_yaxes(showline=True, linewidth=2, linecolor='black', mirror=True)\n",
    "fig.show()"
   ]
  },
  {
   "cell_type": "code",
   "execution_count": null,
   "metadata": {},
   "outputs": [
    {
     "data": {
      "application/vnd.plotly.v1+json": {
       "config": {
        "plotlyServerURL": "https://plot.ly"
       },
       "data": [
        {
         "boxmean": true,
         "marker": {
          "color": "green"
         },
         "name": "BP at Rest for all",
         "type": "box",
         "y": [
          170,
          102,
          130,
          140,
          134,
          150,
          100,
          160,
          148,
          130,
          135,
          112,
          120,
          192,
          120,
          130,
          178,
          145,
          125,
          110,
          150,
          130,
          136,
          125,
          140,
          118,
          135,
          138,
          174,
          150,
          170,
          120,
          110,
          150,
          130,
          152,
          155,
          120,
          132,
          100,
          150,
          130,
          130,
          125,
          110,
          172,
          152,
          105,
          160,
          140,
          152,
          130,
          128,
          110,
          130,
          130,
          140,
          125,
          135,
          150,
          120,
          130,
          154,
          106,
          140,
          122,
          112,
          120,
          132,
          130,
          142,
          110,
          152,
          108,
          130,
          126,
          118,
          120,
          115,
          130,
          112,
          134,
          134,
          160,
          120,
          130,
          140,
          120,
          120,
          125,
          120,
          105,
          120,
          94,
          138,
          160,
          123,
          135,
          115,
          160,
          94,
          158,
          125,
          140,
          110,
          160,
          120,
          130,
          140,
          140,
          135,
          114,
          140,
          138,
          130,
          150,
          120,
          132,
          122,
          132,
          140,
          132,
          120,
          170,
          140,
          140,
          108,
          146,
          130,
          140,
          108,
          128,
          110,
          160,
          110,
          120,
          140,
          160,
          130,
          140,
          140,
          126,
          112,
          132,
          108,
          140,
          110,
          138,
          142,
          156,
          150,
          150,
          138,
          100,
          102,
          122,
          130,
          138,
          120,
          138,
          120,
          135,
          110,
          130,
          152,
          200,
          125,
          150,
          150,
          125,
          120,
          120,
          120,
          150,
          125,
          165,
          104,
          138,
          130,
          120,
          112,
          130,
          120,
          108,
          134,
          120,
          150,
          130,
          140,
          112,
          120,
          180,
          130,
          150,
          110,
          150,
          140,
          122,
          124,
          117,
          124,
          118,
          150,
          140,
          132,
          118,
          130,
          170,
          145,
          130,
          138,
          140,
          130,
          128,
          150,
          112,
          115,
          130,
          145,
          110,
          140,
          120,
          120,
          178,
          100,
          110,
          164,
          136,
          120,
          118,
          130,
          112,
          142,
          128,
          136,
          110,
          120,
          124,
          160,
          120,
          126,
          144,
          120,
          145,
          120,
          118,
          134,
          120,
          110,
          140,
          144,
          128,
          120,
          120,
          129,
          130,
          180,
          146,
          112,
          140,
          145,
          110,
          140,
          160,
          110,
          120,
          140,
          105,
          130,
          140,
          140,
          101,
          128,
          125,
          128,
          110,
          120,
          138,
          130,
          130,
          120,
          124,
          128,
          108,
          148,
          140,
          130,
          124,
          140,
          150,
          130,
          140,
          110,
          160,
          128,
          180,
          128,
          118,
          124
         ]
        },
        {
         "boxmean": true,
         "marker": {
          "color": "blue"
         },
         "name": "No Disease",
         "type": "box",
         "y": [
          102,
          150,
          130,
          135,
          112,
          120,
          130,
          125,
          130,
          118,
          135,
          138,
          150,
          120,
          150,
          155,
          130,
          130,
          110,
          172,
          152,
          105,
          160,
          140,
          152,
          130,
          128,
          130,
          130,
          135,
          120,
          106,
          122,
          120,
          142,
          110,
          108,
          118,
          120,
          115,
          130,
          112,
          134,
          130,
          140,
          120,
          105,
          94,
          138,
          115,
          94,
          110,
          160,
          120,
          130,
          140,
          140,
          135,
          140,
          138,
          130,
          120,
          122,
          140,
          132,
          140,
          146,
          130,
          140,
          128,
          110,
          110,
          160,
          130,
          140,
          140,
          126,
          112,
          132,
          108,
          138,
          156,
          150,
          100,
          102,
          120,
          138,
          120,
          135,
          130,
          150,
          125,
          120,
          120,
          150,
          104,
          138,
          130,
          120,
          108,
          130,
          140,
          112,
          120,
          180,
          130,
          150,
          110,
          140,
          122,
          124,
          118,
          150,
          132,
          170,
          138,
          140,
          150,
          115,
          130,
          145,
          120,
          178,
          100,
          136,
          120,
          118,
          130,
          112,
          142,
          110,
          120,
          124,
          160,
          120,
          120,
          134,
          120,
          120,
          129,
          130,
          110,
          120,
          140,
          105,
          130,
          101,
          128,
          125,
          120,
          130,
          108,
          148,
          140,
          140,
          140,
          160,
          128,
          128,
          118
         ]
        },
        {
         "boxmean": true,
         "marker": {
          "color": "red"
         },
         "name": "Heart Disease",
         "type": "box",
         "y": [
          170,
          130,
          140,
          134,
          100,
          160,
          148,
          192,
          120,
          178,
          145,
          110,
          150,
          136,
          125,
          140,
          174,
          170,
          110,
          130,
          152,
          120,
          132,
          100,
          150,
          125,
          110,
          140,
          125,
          150,
          130,
          154,
          140,
          112,
          132,
          130,
          152,
          130,
          126,
          134,
          160,
          120,
          120,
          125,
          120,
          120,
          160,
          123,
          135,
          160,
          158,
          125,
          140,
          114,
          150,
          132,
          132,
          120,
          170,
          140,
          108,
          108,
          160,
          120,
          140,
          140,
          110,
          142,
          150,
          138,
          122,
          130,
          138,
          110,
          152,
          200,
          125,
          150,
          120,
          125,
          165,
          120,
          112,
          130,
          134,
          120,
          150,
          150,
          124,
          117,
          140,
          118,
          130,
          145,
          130,
          130,
          128,
          112,
          110,
          140,
          120,
          110,
          164,
          128,
          136,
          126,
          144,
          120,
          145,
          118,
          110,
          140,
          144,
          128,
          120,
          180,
          146,
          112,
          140,
          145,
          110,
          140,
          160,
          140,
          140,
          128,
          110,
          138,
          130,
          120,
          124,
          128,
          130,
          124,
          150,
          130,
          110,
          180,
          124
         ]
        }
       ],
       "layout": {
        "template": {
         "data": {
          "bar": [
           {
            "error_x": {
             "color": "#2a3f5f"
            },
            "error_y": {
             "color": "#2a3f5f"
            },
            "marker": {
             "line": {
              "color": "#E5ECF6",
              "width": 0.5
             },
             "pattern": {
              "fillmode": "overlay",
              "size": 10,
              "solidity": 0.2
             }
            },
            "type": "bar"
           }
          ],
          "barpolar": [
           {
            "marker": {
             "line": {
              "color": "#E5ECF6",
              "width": 0.5
             },
             "pattern": {
              "fillmode": "overlay",
              "size": 10,
              "solidity": 0.2
             }
            },
            "type": "barpolar"
           }
          ],
          "carpet": [
           {
            "aaxis": {
             "endlinecolor": "#2a3f5f",
             "gridcolor": "white",
             "linecolor": "white",
             "minorgridcolor": "white",
             "startlinecolor": "#2a3f5f"
            },
            "baxis": {
             "endlinecolor": "#2a3f5f",
             "gridcolor": "white",
             "linecolor": "white",
             "minorgridcolor": "white",
             "startlinecolor": "#2a3f5f"
            },
            "type": "carpet"
           }
          ],
          "choropleth": [
           {
            "colorbar": {
             "outlinewidth": 0,
             "ticks": ""
            },
            "type": "choropleth"
           }
          ],
          "contour": [
           {
            "colorbar": {
             "outlinewidth": 0,
             "ticks": ""
            },
            "colorscale": [
             [
              0,
              "#0d0887"
             ],
             [
              0.1111111111111111,
              "#46039f"
             ],
             [
              0.2222222222222222,
              "#7201a8"
             ],
             [
              0.3333333333333333,
              "#9c179e"
             ],
             [
              0.4444444444444444,
              "#bd3786"
             ],
             [
              0.5555555555555556,
              "#d8576b"
             ],
             [
              0.6666666666666666,
              "#ed7953"
             ],
             [
              0.7777777777777778,
              "#fb9f3a"
             ],
             [
              0.8888888888888888,
              "#fdca26"
             ],
             [
              1,
              "#f0f921"
             ]
            ],
            "type": "contour"
           }
          ],
          "contourcarpet": [
           {
            "colorbar": {
             "outlinewidth": 0,
             "ticks": ""
            },
            "type": "contourcarpet"
           }
          ],
          "heatmap": [
           {
            "colorbar": {
             "outlinewidth": 0,
             "ticks": ""
            },
            "colorscale": [
             [
              0,
              "#0d0887"
             ],
             [
              0.1111111111111111,
              "#46039f"
             ],
             [
              0.2222222222222222,
              "#7201a8"
             ],
             [
              0.3333333333333333,
              "#9c179e"
             ],
             [
              0.4444444444444444,
              "#bd3786"
             ],
             [
              0.5555555555555556,
              "#d8576b"
             ],
             [
              0.6666666666666666,
              "#ed7953"
             ],
             [
              0.7777777777777778,
              "#fb9f3a"
             ],
             [
              0.8888888888888888,
              "#fdca26"
             ],
             [
              1,
              "#f0f921"
             ]
            ],
            "type": "heatmap"
           }
          ],
          "heatmapgl": [
           {
            "colorbar": {
             "outlinewidth": 0,
             "ticks": ""
            },
            "colorscale": [
             [
              0,
              "#0d0887"
             ],
             [
              0.1111111111111111,
              "#46039f"
             ],
             [
              0.2222222222222222,
              "#7201a8"
             ],
             [
              0.3333333333333333,
              "#9c179e"
             ],
             [
              0.4444444444444444,
              "#bd3786"
             ],
             [
              0.5555555555555556,
              "#d8576b"
             ],
             [
              0.6666666666666666,
              "#ed7953"
             ],
             [
              0.7777777777777778,
              "#fb9f3a"
             ],
             [
              0.8888888888888888,
              "#fdca26"
             ],
             [
              1,
              "#f0f921"
             ]
            ],
            "type": "heatmapgl"
           }
          ],
          "histogram": [
           {
            "marker": {
             "pattern": {
              "fillmode": "overlay",
              "size": 10,
              "solidity": 0.2
             }
            },
            "type": "histogram"
           }
          ],
          "histogram2d": [
           {
            "colorbar": {
             "outlinewidth": 0,
             "ticks": ""
            },
            "colorscale": [
             [
              0,
              "#0d0887"
             ],
             [
              0.1111111111111111,
              "#46039f"
             ],
             [
              0.2222222222222222,
              "#7201a8"
             ],
             [
              0.3333333333333333,
              "#9c179e"
             ],
             [
              0.4444444444444444,
              "#bd3786"
             ],
             [
              0.5555555555555556,
              "#d8576b"
             ],
             [
              0.6666666666666666,
              "#ed7953"
             ],
             [
              0.7777777777777778,
              "#fb9f3a"
             ],
             [
              0.8888888888888888,
              "#fdca26"
             ],
             [
              1,
              "#f0f921"
             ]
            ],
            "type": "histogram2d"
           }
          ],
          "histogram2dcontour": [
           {
            "colorbar": {
             "outlinewidth": 0,
             "ticks": ""
            },
            "colorscale": [
             [
              0,
              "#0d0887"
             ],
             [
              0.1111111111111111,
              "#46039f"
             ],
             [
              0.2222222222222222,
              "#7201a8"
             ],
             [
              0.3333333333333333,
              "#9c179e"
             ],
             [
              0.4444444444444444,
              "#bd3786"
             ],
             [
              0.5555555555555556,
              "#d8576b"
             ],
             [
              0.6666666666666666,
              "#ed7953"
             ],
             [
              0.7777777777777778,
              "#fb9f3a"
             ],
             [
              0.8888888888888888,
              "#fdca26"
             ],
             [
              1,
              "#f0f921"
             ]
            ],
            "type": "histogram2dcontour"
           }
          ],
          "mesh3d": [
           {
            "colorbar": {
             "outlinewidth": 0,
             "ticks": ""
            },
            "type": "mesh3d"
           }
          ],
          "parcoords": [
           {
            "line": {
             "colorbar": {
              "outlinewidth": 0,
              "ticks": ""
             }
            },
            "type": "parcoords"
           }
          ],
          "pie": [
           {
            "automargin": true,
            "type": "pie"
           }
          ],
          "scatter": [
           {
            "fillpattern": {
             "fillmode": "overlay",
             "size": 10,
             "solidity": 0.2
            },
            "type": "scatter"
           }
          ],
          "scatter3d": [
           {
            "line": {
             "colorbar": {
              "outlinewidth": 0,
              "ticks": ""
             }
            },
            "marker": {
             "colorbar": {
              "outlinewidth": 0,
              "ticks": ""
             }
            },
            "type": "scatter3d"
           }
          ],
          "scattercarpet": [
           {
            "marker": {
             "colorbar": {
              "outlinewidth": 0,
              "ticks": ""
             }
            },
            "type": "scattercarpet"
           }
          ],
          "scattergeo": [
           {
            "marker": {
             "colorbar": {
              "outlinewidth": 0,
              "ticks": ""
             }
            },
            "type": "scattergeo"
           }
          ],
          "scattergl": [
           {
            "marker": {
             "colorbar": {
              "outlinewidth": 0,
              "ticks": ""
             }
            },
            "type": "scattergl"
           }
          ],
          "scattermapbox": [
           {
            "marker": {
             "colorbar": {
              "outlinewidth": 0,
              "ticks": ""
             }
            },
            "type": "scattermapbox"
           }
          ],
          "scatterpolar": [
           {
            "marker": {
             "colorbar": {
              "outlinewidth": 0,
              "ticks": ""
             }
            },
            "type": "scatterpolar"
           }
          ],
          "scatterpolargl": [
           {
            "marker": {
             "colorbar": {
              "outlinewidth": 0,
              "ticks": ""
             }
            },
            "type": "scatterpolargl"
           }
          ],
          "scatterternary": [
           {
            "marker": {
             "colorbar": {
              "outlinewidth": 0,
              "ticks": ""
             }
            },
            "type": "scatterternary"
           }
          ],
          "surface": [
           {
            "colorbar": {
             "outlinewidth": 0,
             "ticks": ""
            },
            "colorscale": [
             [
              0,
              "#0d0887"
             ],
             [
              0.1111111111111111,
              "#46039f"
             ],
             [
              0.2222222222222222,
              "#7201a8"
             ],
             [
              0.3333333333333333,
              "#9c179e"
             ],
             [
              0.4444444444444444,
              "#bd3786"
             ],
             [
              0.5555555555555556,
              "#d8576b"
             ],
             [
              0.6666666666666666,
              "#ed7953"
             ],
             [
              0.7777777777777778,
              "#fb9f3a"
             ],
             [
              0.8888888888888888,
              "#fdca26"
             ],
             [
              1,
              "#f0f921"
             ]
            ],
            "type": "surface"
           }
          ],
          "table": [
           {
            "cells": {
             "fill": {
              "color": "#EBF0F8"
             },
             "line": {
              "color": "white"
             }
            },
            "header": {
             "fill": {
              "color": "#C8D4E3"
             },
             "line": {
              "color": "white"
             }
            },
            "type": "table"
           }
          ]
         },
         "layout": {
          "annotationdefaults": {
           "arrowcolor": "#2a3f5f",
           "arrowhead": 0,
           "arrowwidth": 1
          },
          "autotypenumbers": "strict",
          "coloraxis": {
           "colorbar": {
            "outlinewidth": 0,
            "ticks": ""
           }
          },
          "colorscale": {
           "diverging": [
            [
             0,
             "#8e0152"
            ],
            [
             0.1,
             "#c51b7d"
            ],
            [
             0.2,
             "#de77ae"
            ],
            [
             0.3,
             "#f1b6da"
            ],
            [
             0.4,
             "#fde0ef"
            ],
            [
             0.5,
             "#f7f7f7"
            ],
            [
             0.6,
             "#e6f5d0"
            ],
            [
             0.7,
             "#b8e186"
            ],
            [
             0.8,
             "#7fbc41"
            ],
            [
             0.9,
             "#4d9221"
            ],
            [
             1,
             "#276419"
            ]
           ],
           "sequential": [
            [
             0,
             "#0d0887"
            ],
            [
             0.1111111111111111,
             "#46039f"
            ],
            [
             0.2222222222222222,
             "#7201a8"
            ],
            [
             0.3333333333333333,
             "#9c179e"
            ],
            [
             0.4444444444444444,
             "#bd3786"
            ],
            [
             0.5555555555555556,
             "#d8576b"
            ],
            [
             0.6666666666666666,
             "#ed7953"
            ],
            [
             0.7777777777777778,
             "#fb9f3a"
            ],
            [
             0.8888888888888888,
             "#fdca26"
            ],
            [
             1,
             "#f0f921"
            ]
           ],
           "sequentialminus": [
            [
             0,
             "#0d0887"
            ],
            [
             0.1111111111111111,
             "#46039f"
            ],
            [
             0.2222222222222222,
             "#7201a8"
            ],
            [
             0.3333333333333333,
             "#9c179e"
            ],
            [
             0.4444444444444444,
             "#bd3786"
            ],
            [
             0.5555555555555556,
             "#d8576b"
            ],
            [
             0.6666666666666666,
             "#ed7953"
            ],
            [
             0.7777777777777778,
             "#fb9f3a"
            ],
            [
             0.8888888888888888,
             "#fdca26"
            ],
            [
             1,
             "#f0f921"
            ]
           ]
          },
          "colorway": [
           "#636efa",
           "#EF553B",
           "#00cc96",
           "#ab63fa",
           "#FFA15A",
           "#19d3f3",
           "#FF6692",
           "#B6E880",
           "#FF97FF",
           "#FECB52"
          ],
          "font": {
           "color": "#2a3f5f"
          },
          "geo": {
           "bgcolor": "white",
           "lakecolor": "white",
           "landcolor": "#E5ECF6",
           "showlakes": true,
           "showland": true,
           "subunitcolor": "white"
          },
          "hoverlabel": {
           "align": "left"
          },
          "hovermode": "closest",
          "mapbox": {
           "style": "light"
          },
          "paper_bgcolor": "white",
          "plot_bgcolor": "#E5ECF6",
          "polar": {
           "angularaxis": {
            "gridcolor": "white",
            "linecolor": "white",
            "ticks": ""
           },
           "bgcolor": "#E5ECF6",
           "radialaxis": {
            "gridcolor": "white",
            "linecolor": "white",
            "ticks": ""
           }
          },
          "scene": {
           "xaxis": {
            "backgroundcolor": "#E5ECF6",
            "gridcolor": "white",
            "gridwidth": 2,
            "linecolor": "white",
            "showbackground": true,
            "ticks": "",
            "zerolinecolor": "white"
           },
           "yaxis": {
            "backgroundcolor": "#E5ECF6",
            "gridcolor": "white",
            "gridwidth": 2,
            "linecolor": "white",
            "showbackground": true,
            "ticks": "",
            "zerolinecolor": "white"
           },
           "zaxis": {
            "backgroundcolor": "#E5ECF6",
            "gridcolor": "white",
            "gridwidth": 2,
            "linecolor": "white",
            "showbackground": true,
            "ticks": "",
            "zerolinecolor": "white"
           }
          },
          "shapedefaults": {
           "line": {
            "color": "#2a3f5f"
           }
          },
          "ternary": {
           "aaxis": {
            "gridcolor": "white",
            "linecolor": "white",
            "ticks": ""
           },
           "baxis": {
            "gridcolor": "white",
            "linecolor": "white",
            "ticks": ""
           },
           "bgcolor": "#E5ECF6",
           "caxis": {
            "gridcolor": "white",
            "linecolor": "white",
            "ticks": ""
           }
          },
          "title": {
           "x": 0.05
          },
          "xaxis": {
           "automargin": true,
           "gridcolor": "white",
           "linecolor": "white",
           "ticks": "",
           "title": {
            "standoff": 15
           },
           "zerolinecolor": "white",
           "zerolinewidth": 2
          },
          "yaxis": {
           "automargin": true,
           "gridcolor": "white",
           "linecolor": "white",
           "ticks": "",
           "title": {
            "standoff": 15
           },
           "zerolinecolor": "white",
           "zerolinewidth": 2
          }
         }
        },
        "title": {
         "text": "BP Distribution (at rest)",
         "x": 0.5
        },
        "xaxis": {
         "linecolor": "black",
         "linewidth": 2,
         "mirror": true,
         "showline": true
        },
        "yaxis": {
         "linecolor": "black",
         "linewidth": 2,
         "mirror": true,
         "showline": true,
         "title": {
          "text": "Blood Pressure (mm/Hg)"
         }
        }
       }
      }
     },
     "metadata": {},
     "output_type": "display_data"
    }
   ],
   "source": [
    "fig = go.Figure()\n",
    "fig.add_trace(go.Box(y=data['trestbps'].values , name='BP at Rest for all', marker_color = 'green',boxmean=True))\n",
    "fig.add_trace(go.Box(y=data[data['num']== 0]['trestbps'].values, name ='No Disease', marker_color = 'blue', boxmean = True))\n",
    "fig.add_trace(go.Box(y=data[data['num'] !=0]['trestbps'].values, name ='Heart Disease', marker_color = 'red', boxmean = True))\n",
    "fig.update_layout(title = 'BP Distribution (at rest)', yaxis_title = 'Blood Pressure (mm/Hg)', title_x = 0.5)\n",
    "fig.update_xaxes(showline=True, linewidth=2, linecolor='black', mirror=True)\n",
    "fig.update_yaxes(showline=True, linewidth=2, linecolor='black', mirror=True)\n",
    "fig.show()"
   ]
  },
  {
   "cell_type": "code",
   "execution_count": null,
   "metadata": {},
   "outputs": [
    {
     "data": {
      "application/vnd.plotly.v1+json": {
       "config": {
        "plotlyServerURL": "https://plot.ly"
       },
       "data": [
        {
         "marker": {
          "color": "green"
         },
         "name": "All Patient",
         "type": "violin",
         "y": [
          326,
          265,
          253,
          177,
          234,
          212,
          299,
          286,
          203,
          262,
          250,
          250,
          240,
          283,
          231,
          204,
          228,
          282,
          245,
          206,
          226,
          303,
          319,
          249,
          311,
          182,
          203,
          243,
          249,
          283,
          225,
          209,
          335,
          243,
          283,
          274,
          269,
          237,
          224,
          234,
          407,
          204,
          256,
          309,
          254,
          199,
          298,
          240,
          201,
          211,
          277,
          180,
          303,
          264,
          197,
          233,
          203,
          254,
          252,
          258,
          354,
          263,
          232,
          223,
          187,
          192,
          230,
          219,
          184,
          305,
          226,
          214,
          212,
          233,
          254,
          282,
          277,
          263,
          303,
          266,
          160,
          201,
          204,
          164,
          284,
          269,
          308,
          281,
          302,
          300,
          246,
          198,
          267,
          227,
          234,
          269,
          282,
          254,
          260,
          246,
          199,
          305,
          212,
          233,
          265,
          360,
          325,
          219,
          294,
          199,
          304,
          318,
          195,
          271,
          197,
          270,
          236,
          341,
          213,
          353,
          192,
          288,
          100,
          288,
          207,
          239,
          243,
          278,
          245,
          197,
          269,
          208,
          211,
          289,
          235,
          169,
          268,
          234,
          231,
          261,
          394,
          306,
          268,
          207,
          309,
          335,
          197,
          183,
          309,
          245,
          244,
          226,
          294,
          222,
          318,
          286,
          256,
          166,
          157,
          220,
          244,
          234,
          248,
          264,
          223,
          288,
          258,
          240,
          276,
          273,
          177,
          220,
          295,
          247,
          304,
          289,
          208,
          236,
          275,
          229,
          212,
          131,
          269,
          141,
          409,
          188,
          243,
          234,
          235,
          204,
          240,
          325,
          214,
          126,
          211,
          225,
          239,
          222,
          261,
          230,
          255,
          186,
          168,
          241,
          342,
          219,
          322,
          227,
          307,
          330,
          257,
          221,
          256,
          259,
          232,
          290,
          564,
          250,
          233,
          275,
          298,
          198,
          258,
          270,
          248,
          172,
          176,
          196,
          340,
          242,
          221,
          149,
          177,
          229,
          315,
          201,
          211,
          209,
          302,
          226,
          218,
          193,
          188,
          174,
          178,
          149,
          271,
          215,
          239,
          293,
          200,
          205,
          260,
          177,
          196,
          315,
          274,
          218,
          230,
          299,
          212,
          229,
          217,
          273,
          175,
          193,
          321,
          204,
          253,
          254,
          185,
          197,
          263,
          213,
          255,
          167,
          295,
          282,
          246,
          206,
          249,
          274,
          216,
          267,
          244,
          417,
          330,
          197,
          226,
          231,
          236,
          313,
          239,
          228,
          205,
          327,
          308,
          210,
          266
         ]
        },
        {
         "marker": {
          "color": "blue"
         },
         "name": "No Disease",
         "type": "violin",
         "y": [
          265,
          212,
          262,
          250,
          250,
          240,
          204,
          245,
          303,
          182,
          203,
          243,
          283,
          209,
          243,
          269,
          204,
          256,
          254,
          199,
          298,
          240,
          201,
          211,
          277,
          180,
          303,
          197,
          233,
          252,
          354,
          223,
          192,
          219,
          226,
          214,
          233,
          277,
          263,
          303,
          266,
          160,
          201,
          269,
          308,
          302,
          198,
          227,
          234,
          260,
          199,
          265,
          360,
          325,
          219,
          294,
          199,
          304,
          195,
          271,
          197,
          236,
          213,
          192,
          288,
          239,
          278,
          245,
          197,
          208,
          211,
          235,
          234,
          231,
          261,
          394,
          306,
          268,
          207,
          309,
          183,
          245,
          226,
          222,
          318,
          157,
          220,
          244,
          234,
          264,
          240,
          273,
          220,
          295,
          247,
          208,
          236,
          275,
          269,
          141,
          234,
          235,
          204,
          240,
          325,
          214,
          126,
          211,
          239,
          222,
          255,
          186,
          168,
          342,
          227,
          257,
          221,
          232,
          564,
          250,
          233,
          258,
          270,
          248,
          196,
          340,
          242,
          221,
          149,
          177,
          201,
          211,
          209,
          302,
          226,
          178,
          271,
          215,
          177,
          196,
          315,
          175,
          193,
          321,
          204,
          253,
          197,
          263,
          213,
          295,
          246,
          267,
          244,
          417,
          226,
          313,
          228,
          205,
          308,
          210
         ]
        },
        {
         "marker": {
          "color": "red"
         },
         "name": "Heart Disease",
         "type": "violin",
         "y": [
          231,
          407,
          318,
          289,
          166,
          304,
          289,
          243,
          225,
          174,
          230,
          212,
          206
         ]
        }
       ],
       "layout": {
        "template": {
         "data": {
          "bar": [
           {
            "error_x": {
             "color": "#2a3f5f"
            },
            "error_y": {
             "color": "#2a3f5f"
            },
            "marker": {
             "line": {
              "color": "#E5ECF6",
              "width": 0.5
             },
             "pattern": {
              "fillmode": "overlay",
              "size": 10,
              "solidity": 0.2
             }
            },
            "type": "bar"
           }
          ],
          "barpolar": [
           {
            "marker": {
             "line": {
              "color": "#E5ECF6",
              "width": 0.5
             },
             "pattern": {
              "fillmode": "overlay",
              "size": 10,
              "solidity": 0.2
             }
            },
            "type": "barpolar"
           }
          ],
          "carpet": [
           {
            "aaxis": {
             "endlinecolor": "#2a3f5f",
             "gridcolor": "white",
             "linecolor": "white",
             "minorgridcolor": "white",
             "startlinecolor": "#2a3f5f"
            },
            "baxis": {
             "endlinecolor": "#2a3f5f",
             "gridcolor": "white",
             "linecolor": "white",
             "minorgridcolor": "white",
             "startlinecolor": "#2a3f5f"
            },
            "type": "carpet"
           }
          ],
          "choropleth": [
           {
            "colorbar": {
             "outlinewidth": 0,
             "ticks": ""
            },
            "type": "choropleth"
           }
          ],
          "contour": [
           {
            "colorbar": {
             "outlinewidth": 0,
             "ticks": ""
            },
            "colorscale": [
             [
              0,
              "#0d0887"
             ],
             [
              0.1111111111111111,
              "#46039f"
             ],
             [
              0.2222222222222222,
              "#7201a8"
             ],
             [
              0.3333333333333333,
              "#9c179e"
             ],
             [
              0.4444444444444444,
              "#bd3786"
             ],
             [
              0.5555555555555556,
              "#d8576b"
             ],
             [
              0.6666666666666666,
              "#ed7953"
             ],
             [
              0.7777777777777778,
              "#fb9f3a"
             ],
             [
              0.8888888888888888,
              "#fdca26"
             ],
             [
              1,
              "#f0f921"
             ]
            ],
            "type": "contour"
           }
          ],
          "contourcarpet": [
           {
            "colorbar": {
             "outlinewidth": 0,
             "ticks": ""
            },
            "type": "contourcarpet"
           }
          ],
          "heatmap": [
           {
            "colorbar": {
             "outlinewidth": 0,
             "ticks": ""
            },
            "colorscale": [
             [
              0,
              "#0d0887"
             ],
             [
              0.1111111111111111,
              "#46039f"
             ],
             [
              0.2222222222222222,
              "#7201a8"
             ],
             [
              0.3333333333333333,
              "#9c179e"
             ],
             [
              0.4444444444444444,
              "#bd3786"
             ],
             [
              0.5555555555555556,
              "#d8576b"
             ],
             [
              0.6666666666666666,
              "#ed7953"
             ],
             [
              0.7777777777777778,
              "#fb9f3a"
             ],
             [
              0.8888888888888888,
              "#fdca26"
             ],
             [
              1,
              "#f0f921"
             ]
            ],
            "type": "heatmap"
           }
          ],
          "heatmapgl": [
           {
            "colorbar": {
             "outlinewidth": 0,
             "ticks": ""
            },
            "colorscale": [
             [
              0,
              "#0d0887"
             ],
             [
              0.1111111111111111,
              "#46039f"
             ],
             [
              0.2222222222222222,
              "#7201a8"
             ],
             [
              0.3333333333333333,
              "#9c179e"
             ],
             [
              0.4444444444444444,
              "#bd3786"
             ],
             [
              0.5555555555555556,
              "#d8576b"
             ],
             [
              0.6666666666666666,
              "#ed7953"
             ],
             [
              0.7777777777777778,
              "#fb9f3a"
             ],
             [
              0.8888888888888888,
              "#fdca26"
             ],
             [
              1,
              "#f0f921"
             ]
            ],
            "type": "heatmapgl"
           }
          ],
          "histogram": [
           {
            "marker": {
             "pattern": {
              "fillmode": "overlay",
              "size": 10,
              "solidity": 0.2
             }
            },
            "type": "histogram"
           }
          ],
          "histogram2d": [
           {
            "colorbar": {
             "outlinewidth": 0,
             "ticks": ""
            },
            "colorscale": [
             [
              0,
              "#0d0887"
             ],
             [
              0.1111111111111111,
              "#46039f"
             ],
             [
              0.2222222222222222,
              "#7201a8"
             ],
             [
              0.3333333333333333,
              "#9c179e"
             ],
             [
              0.4444444444444444,
              "#bd3786"
             ],
             [
              0.5555555555555556,
              "#d8576b"
             ],
             [
              0.6666666666666666,
              "#ed7953"
             ],
             [
              0.7777777777777778,
              "#fb9f3a"
             ],
             [
              0.8888888888888888,
              "#fdca26"
             ],
             [
              1,
              "#f0f921"
             ]
            ],
            "type": "histogram2d"
           }
          ],
          "histogram2dcontour": [
           {
            "colorbar": {
             "outlinewidth": 0,
             "ticks": ""
            },
            "colorscale": [
             [
              0,
              "#0d0887"
             ],
             [
              0.1111111111111111,
              "#46039f"
             ],
             [
              0.2222222222222222,
              "#7201a8"
             ],
             [
              0.3333333333333333,
              "#9c179e"
             ],
             [
              0.4444444444444444,
              "#bd3786"
             ],
             [
              0.5555555555555556,
              "#d8576b"
             ],
             [
              0.6666666666666666,
              "#ed7953"
             ],
             [
              0.7777777777777778,
              "#fb9f3a"
             ],
             [
              0.8888888888888888,
              "#fdca26"
             ],
             [
              1,
              "#f0f921"
             ]
            ],
            "type": "histogram2dcontour"
           }
          ],
          "mesh3d": [
           {
            "colorbar": {
             "outlinewidth": 0,
             "ticks": ""
            },
            "type": "mesh3d"
           }
          ],
          "parcoords": [
           {
            "line": {
             "colorbar": {
              "outlinewidth": 0,
              "ticks": ""
             }
            },
            "type": "parcoords"
           }
          ],
          "pie": [
           {
            "automargin": true,
            "type": "pie"
           }
          ],
          "scatter": [
           {
            "fillpattern": {
             "fillmode": "overlay",
             "size": 10,
             "solidity": 0.2
            },
            "type": "scatter"
           }
          ],
          "scatter3d": [
           {
            "line": {
             "colorbar": {
              "outlinewidth": 0,
              "ticks": ""
             }
            },
            "marker": {
             "colorbar": {
              "outlinewidth": 0,
              "ticks": ""
             }
            },
            "type": "scatter3d"
           }
          ],
          "scattercarpet": [
           {
            "marker": {
             "colorbar": {
              "outlinewidth": 0,
              "ticks": ""
             }
            },
            "type": "scattercarpet"
           }
          ],
          "scattergeo": [
           {
            "marker": {
             "colorbar": {
              "outlinewidth": 0,
              "ticks": ""
             }
            },
            "type": "scattergeo"
           }
          ],
          "scattergl": [
           {
            "marker": {
             "colorbar": {
              "outlinewidth": 0,
              "ticks": ""
             }
            },
            "type": "scattergl"
           }
          ],
          "scattermapbox": [
           {
            "marker": {
             "colorbar": {
              "outlinewidth": 0,
              "ticks": ""
             }
            },
            "type": "scattermapbox"
           }
          ],
          "scatterpolar": [
           {
            "marker": {
             "colorbar": {
              "outlinewidth": 0,
              "ticks": ""
             }
            },
            "type": "scatterpolar"
           }
          ],
          "scatterpolargl": [
           {
            "marker": {
             "colorbar": {
              "outlinewidth": 0,
              "ticks": ""
             }
            },
            "type": "scatterpolargl"
           }
          ],
          "scatterternary": [
           {
            "marker": {
             "colorbar": {
              "outlinewidth": 0,
              "ticks": ""
             }
            },
            "type": "scatterternary"
           }
          ],
          "surface": [
           {
            "colorbar": {
             "outlinewidth": 0,
             "ticks": ""
            },
            "colorscale": [
             [
              0,
              "#0d0887"
             ],
             [
              0.1111111111111111,
              "#46039f"
             ],
             [
              0.2222222222222222,
              "#7201a8"
             ],
             [
              0.3333333333333333,
              "#9c179e"
             ],
             [
              0.4444444444444444,
              "#bd3786"
             ],
             [
              0.5555555555555556,
              "#d8576b"
             ],
             [
              0.6666666666666666,
              "#ed7953"
             ],
             [
              0.7777777777777778,
              "#fb9f3a"
             ],
             [
              0.8888888888888888,
              "#fdca26"
             ],
             [
              1,
              "#f0f921"
             ]
            ],
            "type": "surface"
           }
          ],
          "table": [
           {
            "cells": {
             "fill": {
              "color": "#EBF0F8"
             },
             "line": {
              "color": "white"
             }
            },
            "header": {
             "fill": {
              "color": "#C8D4E3"
             },
             "line": {
              "color": "white"
             }
            },
            "type": "table"
           }
          ]
         },
         "layout": {
          "annotationdefaults": {
           "arrowcolor": "#2a3f5f",
           "arrowhead": 0,
           "arrowwidth": 1
          },
          "autotypenumbers": "strict",
          "coloraxis": {
           "colorbar": {
            "outlinewidth": 0,
            "ticks": ""
           }
          },
          "colorscale": {
           "diverging": [
            [
             0,
             "#8e0152"
            ],
            [
             0.1,
             "#c51b7d"
            ],
            [
             0.2,
             "#de77ae"
            ],
            [
             0.3,
             "#f1b6da"
            ],
            [
             0.4,
             "#fde0ef"
            ],
            [
             0.5,
             "#f7f7f7"
            ],
            [
             0.6,
             "#e6f5d0"
            ],
            [
             0.7,
             "#b8e186"
            ],
            [
             0.8,
             "#7fbc41"
            ],
            [
             0.9,
             "#4d9221"
            ],
            [
             1,
             "#276419"
            ]
           ],
           "sequential": [
            [
             0,
             "#0d0887"
            ],
            [
             0.1111111111111111,
             "#46039f"
            ],
            [
             0.2222222222222222,
             "#7201a8"
            ],
            [
             0.3333333333333333,
             "#9c179e"
            ],
            [
             0.4444444444444444,
             "#bd3786"
            ],
            [
             0.5555555555555556,
             "#d8576b"
            ],
            [
             0.6666666666666666,
             "#ed7953"
            ],
            [
             0.7777777777777778,
             "#fb9f3a"
            ],
            [
             0.8888888888888888,
             "#fdca26"
            ],
            [
             1,
             "#f0f921"
            ]
           ],
           "sequentialminus": [
            [
             0,
             "#0d0887"
            ],
            [
             0.1111111111111111,
             "#46039f"
            ],
            [
             0.2222222222222222,
             "#7201a8"
            ],
            [
             0.3333333333333333,
             "#9c179e"
            ],
            [
             0.4444444444444444,
             "#bd3786"
            ],
            [
             0.5555555555555556,
             "#d8576b"
            ],
            [
             0.6666666666666666,
             "#ed7953"
            ],
            [
             0.7777777777777778,
             "#fb9f3a"
            ],
            [
             0.8888888888888888,
             "#fdca26"
            ],
            [
             1,
             "#f0f921"
            ]
           ]
          },
          "colorway": [
           "#636efa",
           "#EF553B",
           "#00cc96",
           "#ab63fa",
           "#FFA15A",
           "#19d3f3",
           "#FF6692",
           "#B6E880",
           "#FF97FF",
           "#FECB52"
          ],
          "font": {
           "color": "#2a3f5f"
          },
          "geo": {
           "bgcolor": "white",
           "lakecolor": "white",
           "landcolor": "#E5ECF6",
           "showlakes": true,
           "showland": true,
           "subunitcolor": "white"
          },
          "hoverlabel": {
           "align": "left"
          },
          "hovermode": "closest",
          "mapbox": {
           "style": "light"
          },
          "paper_bgcolor": "white",
          "plot_bgcolor": "#E5ECF6",
          "polar": {
           "angularaxis": {
            "gridcolor": "white",
            "linecolor": "white",
            "ticks": ""
           },
           "bgcolor": "#E5ECF6",
           "radialaxis": {
            "gridcolor": "white",
            "linecolor": "white",
            "ticks": ""
           }
          },
          "scene": {
           "xaxis": {
            "backgroundcolor": "#E5ECF6",
            "gridcolor": "white",
            "gridwidth": 2,
            "linecolor": "white",
            "showbackground": true,
            "ticks": "",
            "zerolinecolor": "white"
           },
           "yaxis": {
            "backgroundcolor": "#E5ECF6",
            "gridcolor": "white",
            "gridwidth": 2,
            "linecolor": "white",
            "showbackground": true,
            "ticks": "",
            "zerolinecolor": "white"
           },
           "zaxis": {
            "backgroundcolor": "#E5ECF6",
            "gridcolor": "white",
            "gridwidth": 2,
            "linecolor": "white",
            "showbackground": true,
            "ticks": "",
            "zerolinecolor": "white"
           }
          },
          "shapedefaults": {
           "line": {
            "color": "#2a3f5f"
           }
          },
          "ternary": {
           "aaxis": {
            "gridcolor": "white",
            "linecolor": "white",
            "ticks": ""
           },
           "baxis": {
            "gridcolor": "white",
            "linecolor": "white",
            "ticks": ""
           },
           "bgcolor": "#E5ECF6",
           "caxis": {
            "gridcolor": "white",
            "linecolor": "white",
            "ticks": ""
           }
          },
          "title": {
           "x": 0.05
          },
          "xaxis": {
           "automargin": true,
           "gridcolor": "white",
           "linecolor": "white",
           "ticks": "",
           "title": {
            "standoff": 15
           },
           "zerolinecolor": "white",
           "zerolinewidth": 2
          },
          "yaxis": {
           "automargin": true,
           "gridcolor": "white",
           "linecolor": "white",
           "ticks": "",
           "title": {
            "standoff": 15
           },
           "zerolinecolor": "white",
           "zerolinewidth": 2
          }
         }
        },
        "title": {
         "text": "Cholesterol Level Distribution",
         "x": 0.5
        },
        "xaxis": {
         "linecolor": "black",
         "linewidth": 2,
         "mirror": true,
         "showline": true
        },
        "yaxis": {
         "linecolor": "black",
         "linewidth": 2,
         "mirror": true,
         "showline": true,
         "title": {
          "text": "Cholesterol Level"
         }
        }
       }
      }
     },
     "metadata": {},
     "output_type": "display_data"
    }
   ],
   "source": [
    "fig = go.Figure()\n",
    "fig.add_trace(go.Violin(y=data['chol'].values , name='All Patient', marker_color = 'green'))\n",
    "fig.add_trace(go.Violin(y=data[data['num']== 0]['chol'].values, name ='No Disease', marker_color = 'blue'))\n",
    "fig.add_trace(go.Violin(y=data[data['num'] ==4]['chol'].values, name ='Heart Disease', marker_color = 'red'))\n",
    "fig.update_layout(title = 'Cholesterol Level Distribution', yaxis_title = 'Cholesterol Level', title_x = 0.5)\n",
    "fig.update_xaxes(showline=True, linewidth=2, linecolor='black', mirror=True)\n",
    "fig.update_yaxes(showline=True, linewidth=2, linecolor='black', mirror=True)\n",
    "fig.show()"
   ]
  },
  {
   "cell_type": "code",
   "execution_count": null,
   "metadata": {},
   "outputs": [
    {
     "data": {
      "text/html": [
       "<div>\n",
       "<style scoped>\n",
       "    .dataframe tbody tr th:only-of-type {\n",
       "        vertical-align: middle;\n",
       "    }\n",
       "\n",
       "    .dataframe tbody tr th {\n",
       "        vertical-align: top;\n",
       "    }\n",
       "\n",
       "    .dataframe thead th {\n",
       "        text-align: right;\n",
       "    }\n",
       "</style>\n",
       "<table border=\"1\" class=\"dataframe\">\n",
       "  <thead>\n",
       "    <tr style=\"text-align: right;\">\n",
       "      <th></th>\n",
       "      <th>id</th>\n",
       "      <th>age</th>\n",
       "      <th>sex</th>\n",
       "      <th>dataset</th>\n",
       "      <th>cp</th>\n",
       "      <th>trestbps</th>\n",
       "      <th>chol</th>\n",
       "      <th>fbs</th>\n",
       "      <th>restecg</th>\n",
       "      <th>thalch</th>\n",
       "      <th>exang</th>\n",
       "      <th>oldpeak</th>\n",
       "      <th>slope</th>\n",
       "      <th>ca</th>\n",
       "      <th>thal</th>\n",
       "      <th>num</th>\n",
       "    </tr>\n",
       "  </thead>\n",
       "  <tbody>\n",
       "    <tr>\n",
       "      <th>68</th>\n",
       "      <td>69</td>\n",
       "      <td>59</td>\n",
       "      <td>Male</td>\n",
       "      <td>Cleveland</td>\n",
       "      <td>asymptomatic</td>\n",
       "      <td>170.0</td>\n",
       "      <td>326.0</td>\n",
       "      <td>False</td>\n",
       "      <td>lv hypertrophy</td>\n",
       "      <td>140.0</td>\n",
       "      <td>True</td>\n",
       "      <td>3.4</td>\n",
       "      <td>downsloping</td>\n",
       "      <td>0.0</td>\n",
       "      <td>reversable defect</td>\n",
       "      <td>2</td>\n",
       "    </tr>\n",
       "    <tr>\n",
       "      <th>151</th>\n",
       "      <td>152</td>\n",
       "      <td>42</td>\n",
       "      <td>Female</td>\n",
       "      <td>Cleveland</td>\n",
       "      <td>asymptomatic</td>\n",
       "      <td>102.0</td>\n",
       "      <td>265.0</td>\n",
       "      <td>False</td>\n",
       "      <td>lv hypertrophy</td>\n",
       "      <td>122.0</td>\n",
       "      <td>False</td>\n",
       "      <td>0.6</td>\n",
       "      <td>flat</td>\n",
       "      <td>0.0</td>\n",
       "      <td>normal</td>\n",
       "      <td>0</td>\n",
       "    </tr>\n",
       "    <tr>\n",
       "      <th>54</th>\n",
       "      <td>55</td>\n",
       "      <td>60</td>\n",
       "      <td>Male</td>\n",
       "      <td>Cleveland</td>\n",
       "      <td>asymptomatic</td>\n",
       "      <td>130.0</td>\n",
       "      <td>253.0</td>\n",
       "      <td>False</td>\n",
       "      <td>normal</td>\n",
       "      <td>144.0</td>\n",
       "      <td>True</td>\n",
       "      <td>1.4</td>\n",
       "      <td>upsloping</td>\n",
       "      <td>1.0</td>\n",
       "      <td>reversable defect</td>\n",
       "      <td>1</td>\n",
       "    </tr>\n",
       "    <tr>\n",
       "      <th>106</th>\n",
       "      <td>107</td>\n",
       "      <td>59</td>\n",
       "      <td>Male</td>\n",
       "      <td>Cleveland</td>\n",
       "      <td>asymptomatic</td>\n",
       "      <td>140.0</td>\n",
       "      <td>177.0</td>\n",
       "      <td>False</td>\n",
       "      <td>normal</td>\n",
       "      <td>162.0</td>\n",
       "      <td>True</td>\n",
       "      <td>0.0</td>\n",
       "      <td>upsloping</td>\n",
       "      <td>1.0</td>\n",
       "      <td>reversable defect</td>\n",
       "      <td>2</td>\n",
       "    </tr>\n",
       "    <tr>\n",
       "      <th>243</th>\n",
       "      <td>244</td>\n",
       "      <td>61</td>\n",
       "      <td>Male</td>\n",
       "      <td>Cleveland</td>\n",
       "      <td>typical angina</td>\n",
       "      <td>134.0</td>\n",
       "      <td>234.0</td>\n",
       "      <td>False</td>\n",
       "      <td>normal</td>\n",
       "      <td>145.0</td>\n",
       "      <td>False</td>\n",
       "      <td>2.6</td>\n",
       "      <td>flat</td>\n",
       "      <td>2.0</td>\n",
       "      <td>normal</td>\n",
       "      <td>2</td>\n",
       "    </tr>\n",
       "    <tr>\n",
       "      <th>43</th>\n",
       "      <td>44</td>\n",
       "      <td>59</td>\n",
       "      <td>Male</td>\n",
       "      <td>Cleveland</td>\n",
       "      <td>non-anginal</td>\n",
       "      <td>150.0</td>\n",
       "      <td>212.0</td>\n",
       "      <td>True</td>\n",
       "      <td>normal</td>\n",
       "      <td>157.0</td>\n",
       "      <td>False</td>\n",
       "      <td>1.6</td>\n",
       "      <td>upsloping</td>\n",
       "      <td>0.0</td>\n",
       "      <td>normal</td>\n",
       "      <td>0</td>\n",
       "    </tr>\n",
       "    <tr>\n",
       "      <th>195</th>\n",
       "      <td>196</td>\n",
       "      <td>67</td>\n",
       "      <td>Male</td>\n",
       "      <td>Cleveland</td>\n",
       "      <td>asymptomatic</td>\n",
       "      <td>100.0</td>\n",
       "      <td>299.0</td>\n",
       "      <td>False</td>\n",
       "      <td>lv hypertrophy</td>\n",
       "      <td>125.0</td>\n",
       "      <td>True</td>\n",
       "      <td>0.9</td>\n",
       "      <td>flat</td>\n",
       "      <td>2.0</td>\n",
       "      <td>normal</td>\n",
       "      <td>3</td>\n",
       "    </tr>\n",
       "    <tr>\n",
       "      <th>1</th>\n",
       "      <td>2</td>\n",
       "      <td>67</td>\n",
       "      <td>Male</td>\n",
       "      <td>Cleveland</td>\n",
       "      <td>asymptomatic</td>\n",
       "      <td>160.0</td>\n",
       "      <td>286.0</td>\n",
       "      <td>False</td>\n",
       "      <td>lv hypertrophy</td>\n",
       "      <td>108.0</td>\n",
       "      <td>True</td>\n",
       "      <td>1.5</td>\n",
       "      <td>flat</td>\n",
       "      <td>3.0</td>\n",
       "      <td>normal</td>\n",
       "      <td>2</td>\n",
       "    </tr>\n",
       "    <tr>\n",
       "      <th>284</th>\n",
       "      <td>285</td>\n",
       "      <td>61</td>\n",
       "      <td>Male</td>\n",
       "      <td>Cleveland</td>\n",
       "      <td>asymptomatic</td>\n",
       "      <td>148.0</td>\n",
       "      <td>203.0</td>\n",
       "      <td>False</td>\n",
       "      <td>normal</td>\n",
       "      <td>161.0</td>\n",
       "      <td>False</td>\n",
       "      <td>0.0</td>\n",
       "      <td>upsloping</td>\n",
       "      <td>1.0</td>\n",
       "      <td>reversable defect</td>\n",
       "      <td>2</td>\n",
       "    </tr>\n",
       "    <tr>\n",
       "      <th>208</th>\n",
       "      <td>209</td>\n",
       "      <td>55</td>\n",
       "      <td>Male</td>\n",
       "      <td>Cleveland</td>\n",
       "      <td>atypical angina</td>\n",
       "      <td>130.0</td>\n",
       "      <td>262.0</td>\n",
       "      <td>False</td>\n",
       "      <td>normal</td>\n",
       "      <td>155.0</td>\n",
       "      <td>False</td>\n",
       "      <td>0.0</td>\n",
       "      <td>upsloping</td>\n",
       "      <td>0.0</td>\n",
       "      <td>normal</td>\n",
       "      <td>0</td>\n",
       "    </tr>\n",
       "    <tr>\n",
       "      <th>135</th>\n",
       "      <td>136</td>\n",
       "      <td>55</td>\n",
       "      <td>Female</td>\n",
       "      <td>Cleveland</td>\n",
       "      <td>atypical angina</td>\n",
       "      <td>135.0</td>\n",
       "      <td>250.0</td>\n",
       "      <td>False</td>\n",
       "      <td>lv hypertrophy</td>\n",
       "      <td>161.0</td>\n",
       "      <td>False</td>\n",
       "      <td>1.4</td>\n",
       "      <td>flat</td>\n",
       "      <td>0.0</td>\n",
       "      <td>normal</td>\n",
       "      <td>0</td>\n",
       "    </tr>\n",
       "    <tr>\n",
       "      <th>147</th>\n",
       "      <td>148</td>\n",
       "      <td>41</td>\n",
       "      <td>Male</td>\n",
       "      <td>Cleveland</td>\n",
       "      <td>non-anginal</td>\n",
       "      <td>112.0</td>\n",
       "      <td>250.0</td>\n",
       "      <td>False</td>\n",
       "      <td>normal</td>\n",
       "      <td>179.0</td>\n",
       "      <td>False</td>\n",
       "      <td>0.0</td>\n",
       "      <td>upsloping</td>\n",
       "      <td>0.0</td>\n",
       "      <td>normal</td>\n",
       "      <td>0</td>\n",
       "    </tr>\n",
       "    <tr>\n",
       "      <th>289</th>\n",
       "      <td>290</td>\n",
       "      <td>56</td>\n",
       "      <td>Male</td>\n",
       "      <td>Cleveland</td>\n",
       "      <td>atypical angina</td>\n",
       "      <td>120.0</td>\n",
       "      <td>240.0</td>\n",
       "      <td>False</td>\n",
       "      <td>normal</td>\n",
       "      <td>169.0</td>\n",
       "      <td>False</td>\n",
       "      <td>0.0</td>\n",
       "      <td>downsloping</td>\n",
       "      <td>0.0</td>\n",
       "      <td>normal</td>\n",
       "      <td>0</td>\n",
       "    </tr>\n",
       "    <tr>\n",
       "      <th>188</th>\n",
       "      <td>189</td>\n",
       "      <td>54</td>\n",
       "      <td>Male</td>\n",
       "      <td>Cleveland</td>\n",
       "      <td>atypical angina</td>\n",
       "      <td>192.0</td>\n",
       "      <td>283.0</td>\n",
       "      <td>False</td>\n",
       "      <td>lv hypertrophy</td>\n",
       "      <td>195.0</td>\n",
       "      <td>False</td>\n",
       "      <td>0.0</td>\n",
       "      <td>upsloping</td>\n",
       "      <td>1.0</td>\n",
       "      <td>reversable defect</td>\n",
       "      <td>1</td>\n",
       "    </tr>\n",
       "    <tr>\n",
       "      <th>211</th>\n",
       "      <td>212</td>\n",
       "      <td>38</td>\n",
       "      <td>Male</td>\n",
       "      <td>Cleveland</td>\n",
       "      <td>typical angina</td>\n",
       "      <td>120.0</td>\n",
       "      <td>231.0</td>\n",
       "      <td>False</td>\n",
       "      <td>normal</td>\n",
       "      <td>182.0</td>\n",
       "      <td>True</td>\n",
       "      <td>3.8</td>\n",
       "      <td>flat</td>\n",
       "      <td>0.0</td>\n",
       "      <td>reversable defect</td>\n",
       "      <td>4</td>\n",
       "    </tr>\n",
       "    <tr>\n",
       "      <th>4</th>\n",
       "      <td>5</td>\n",
       "      <td>41</td>\n",
       "      <td>Female</td>\n",
       "      <td>Cleveland</td>\n",
       "      <td>atypical angina</td>\n",
       "      <td>130.0</td>\n",
       "      <td>204.0</td>\n",
       "      <td>False</td>\n",
       "      <td>lv hypertrophy</td>\n",
       "      <td>172.0</td>\n",
       "      <td>False</td>\n",
       "      <td>1.4</td>\n",
       "      <td>upsloping</td>\n",
       "      <td>0.0</td>\n",
       "      <td>normal</td>\n",
       "      <td>0</td>\n",
       "    </tr>\n",
       "    <tr>\n",
       "      <th>213</th>\n",
       "      <td>214</td>\n",
       "      <td>66</td>\n",
       "      <td>Female</td>\n",
       "      <td>Cleveland</td>\n",
       "      <td>asymptomatic</td>\n",
       "      <td>178.0</td>\n",
       "      <td>228.0</td>\n",
       "      <td>True</td>\n",
       "      <td>normal</td>\n",
       "      <td>165.0</td>\n",
       "      <td>True</td>\n",
       "      <td>1.0</td>\n",
       "      <td>flat</td>\n",
       "      <td>2.0</td>\n",
       "      <td>reversable defect</td>\n",
       "      <td>3</td>\n",
       "    </tr>\n",
       "    <tr>\n",
       "      <th>65</th>\n",
       "      <td>66</td>\n",
       "      <td>60</td>\n",
       "      <td>Male</td>\n",
       "      <td>Cleveland</td>\n",
       "      <td>asymptomatic</td>\n",
       "      <td>145.0</td>\n",
       "      <td>282.0</td>\n",
       "      <td>False</td>\n",
       "      <td>lv hypertrophy</td>\n",
       "      <td>142.0</td>\n",
       "      <td>True</td>\n",
       "      <td>2.8</td>\n",
       "      <td>flat</td>\n",
       "      <td>2.0</td>\n",
       "      <td>reversable defect</td>\n",
       "      <td>2</td>\n",
       "    </tr>\n",
       "    <tr>\n",
       "      <th>139</th>\n",
       "      <td>140</td>\n",
       "      <td>51</td>\n",
       "      <td>Male</td>\n",
       "      <td>Cleveland</td>\n",
       "      <td>non-anginal</td>\n",
       "      <td>125.0</td>\n",
       "      <td>245.0</td>\n",
       "      <td>True</td>\n",
       "      <td>lv hypertrophy</td>\n",
       "      <td>166.0</td>\n",
       "      <td>False</td>\n",
       "      <td>2.4</td>\n",
       "      <td>flat</td>\n",
       "      <td>0.0</td>\n",
       "      <td>normal</td>\n",
       "      <td>0</td>\n",
       "    </tr>\n",
       "    <tr>\n",
       "      <th>228</th>\n",
       "      <td>229</td>\n",
       "      <td>54</td>\n",
       "      <td>Male</td>\n",
       "      <td>Cleveland</td>\n",
       "      <td>asymptomatic</td>\n",
       "      <td>110.0</td>\n",
       "      <td>206.0</td>\n",
       "      <td>False</td>\n",
       "      <td>lv hypertrophy</td>\n",
       "      <td>108.0</td>\n",
       "      <td>True</td>\n",
       "      <td>0.0</td>\n",
       "      <td>flat</td>\n",
       "      <td>1.0</td>\n",
       "      <td>normal</td>\n",
       "      <td>3</td>\n",
       "    </tr>\n",
       "    <tr>\n",
       "      <th>508</th>\n",
       "      <td>509</td>\n",
       "      <td>47</td>\n",
       "      <td>Male</td>\n",
       "      <td>Hungary</td>\n",
       "      <td>asymptomatic</td>\n",
       "      <td>150.0</td>\n",
       "      <td>226.0</td>\n",
       "      <td>False</td>\n",
       "      <td>normal</td>\n",
       "      <td>98.0</td>\n",
       "      <td>True</td>\n",
       "      <td>1.5</td>\n",
       "      <td>flat</td>\n",
       "      <td>0.0</td>\n",
       "      <td>reversable defect</td>\n",
       "      <td>1</td>\n",
       "    </tr>\n",
       "    <tr>\n",
       "      <th>218</th>\n",
       "      <td>219</td>\n",
       "      <td>64</td>\n",
       "      <td>Female</td>\n",
       "      <td>Cleveland</td>\n",
       "      <td>asymptomatic</td>\n",
       "      <td>130.0</td>\n",
       "      <td>303.0</td>\n",
       "      <td>False</td>\n",
       "      <td>normal</td>\n",
       "      <td>122.0</td>\n",
       "      <td>False</td>\n",
       "      <td>2.0</td>\n",
       "      <td>flat</td>\n",
       "      <td>2.0</td>\n",
       "      <td>normal</td>\n",
       "      <td>0</td>\n",
       "    </tr>\n",
       "    <tr>\n",
       "      <th>261</th>\n",
       "      <td>262</td>\n",
       "      <td>58</td>\n",
       "      <td>Female</td>\n",
       "      <td>Cleveland</td>\n",
       "      <td>atypical angina</td>\n",
       "      <td>136.0</td>\n",
       "      <td>319.0</td>\n",
       "      <td>True</td>\n",
       "      <td>lv hypertrophy</td>\n",
       "      <td>152.0</td>\n",
       "      <td>False</td>\n",
       "      <td>0.0</td>\n",
       "      <td>upsloping</td>\n",
       "      <td>2.0</td>\n",
       "      <td>normal</td>\n",
       "      <td>3</td>\n",
       "    </tr>\n",
       "    <tr>\n",
       "      <th>111</th>\n",
       "      <td>112</td>\n",
       "      <td>56</td>\n",
       "      <td>Male</td>\n",
       "      <td>Cleveland</td>\n",
       "      <td>asymptomatic</td>\n",
       "      <td>125.0</td>\n",
       "      <td>249.0</td>\n",
       "      <td>True</td>\n",
       "      <td>lv hypertrophy</td>\n",
       "      <td>144.0</td>\n",
       "      <td>True</td>\n",
       "      <td>1.2</td>\n",
       "      <td>flat</td>\n",
       "      <td>1.0</td>\n",
       "      <td>normal</td>\n",
       "      <td>1</td>\n",
       "    </tr>\n",
       "    <tr>\n",
       "      <th>272</th>\n",
       "      <td>273</td>\n",
       "      <td>46</td>\n",
       "      <td>Male</td>\n",
       "      <td>Cleveland</td>\n",
       "      <td>asymptomatic</td>\n",
       "      <td>140.0</td>\n",
       "      <td>311.0</td>\n",
       "      <td>False</td>\n",
       "      <td>normal</td>\n",
       "      <td>120.0</td>\n",
       "      <td>True</td>\n",
       "      <td>1.8</td>\n",
       "      <td>flat</td>\n",
       "      <td>2.0</td>\n",
       "      <td>reversable defect</td>\n",
       "      <td>2</td>\n",
       "    </tr>\n",
       "    <tr>\n",
       "      <th>101</th>\n",
       "      <td>102</td>\n",
       "      <td>34</td>\n",
       "      <td>Male</td>\n",
       "      <td>Cleveland</td>\n",
       "      <td>typical angina</td>\n",
       "      <td>118.0</td>\n",
       "      <td>182.0</td>\n",
       "      <td>False</td>\n",
       "      <td>lv hypertrophy</td>\n",
       "      <td>174.0</td>\n",
       "      <td>False</td>\n",
       "      <td>0.0</td>\n",
       "      <td>upsloping</td>\n",
       "      <td>0.0</td>\n",
       "      <td>normal</td>\n",
       "      <td>0</td>\n",
       "    </tr>\n",
       "    <tr>\n",
       "      <th>115</th>\n",
       "      <td>116</td>\n",
       "      <td>41</td>\n",
       "      <td>Male</td>\n",
       "      <td>Cleveland</td>\n",
       "      <td>atypical angina</td>\n",
       "      <td>135.0</td>\n",
       "      <td>203.0</td>\n",
       "      <td>False</td>\n",
       "      <td>normal</td>\n",
       "      <td>132.0</td>\n",
       "      <td>False</td>\n",
       "      <td>0.0</td>\n",
       "      <td>flat</td>\n",
       "      <td>0.0</td>\n",
       "      <td>fixed defect</td>\n",
       "      <td>0</td>\n",
       "    </tr>\n",
       "    <tr>\n",
       "      <th>217</th>\n",
       "      <td>218</td>\n",
       "      <td>46</td>\n",
       "      <td>Female</td>\n",
       "      <td>Cleveland</td>\n",
       "      <td>asymptomatic</td>\n",
       "      <td>138.0</td>\n",
       "      <td>243.0</td>\n",
       "      <td>False</td>\n",
       "      <td>lv hypertrophy</td>\n",
       "      <td>152.0</td>\n",
       "      <td>True</td>\n",
       "      <td>0.0</td>\n",
       "      <td>flat</td>\n",
       "      <td>0.0</td>\n",
       "      <td>normal</td>\n",
       "      <td>0</td>\n",
       "    </tr>\n",
       "    <tr>\n",
       "      <th>172</th>\n",
       "      <td>173</td>\n",
       "      <td>59</td>\n",
       "      <td>Female</td>\n",
       "      <td>Cleveland</td>\n",
       "      <td>asymptomatic</td>\n",
       "      <td>174.0</td>\n",
       "      <td>249.0</td>\n",
       "      <td>False</td>\n",
       "      <td>normal</td>\n",
       "      <td>143.0</td>\n",
       "      <td>True</td>\n",
       "      <td>0.0</td>\n",
       "      <td>flat</td>\n",
       "      <td>0.0</td>\n",
       "      <td>normal</td>\n",
       "      <td>1</td>\n",
       "    </tr>\n",
       "    <tr>\n",
       "      <th>21</th>\n",
       "      <td>22</td>\n",
       "      <td>58</td>\n",
       "      <td>Female</td>\n",
       "      <td>Cleveland</td>\n",
       "      <td>typical angina</td>\n",
       "      <td>150.0</td>\n",
       "      <td>283.0</td>\n",
       "      <td>True</td>\n",
       "      <td>lv hypertrophy</td>\n",
       "      <td>162.0</td>\n",
       "      <td>False</td>\n",
       "      <td>1.0</td>\n",
       "      <td>upsloping</td>\n",
       "      <td>0.0</td>\n",
       "      <td>normal</td>\n",
       "      <td>0</td>\n",
       "    </tr>\n",
       "  </tbody>\n",
       "</table>\n",
       "</div>"
      ],
      "text/plain": [
       "      id  age     sex    dataset               cp  trestbps   chol    fbs  \\\n",
       "68    69   59    Male  Cleveland     asymptomatic     170.0  326.0  False   \n",
       "151  152   42  Female  Cleveland     asymptomatic     102.0  265.0  False   \n",
       "54    55   60    Male  Cleveland     asymptomatic     130.0  253.0  False   \n",
       "106  107   59    Male  Cleveland     asymptomatic     140.0  177.0  False   \n",
       "243  244   61    Male  Cleveland   typical angina     134.0  234.0  False   \n",
       "43    44   59    Male  Cleveland      non-anginal     150.0  212.0   True   \n",
       "195  196   67    Male  Cleveland     asymptomatic     100.0  299.0  False   \n",
       "1      2   67    Male  Cleveland     asymptomatic     160.0  286.0  False   \n",
       "284  285   61    Male  Cleveland     asymptomatic     148.0  203.0  False   \n",
       "208  209   55    Male  Cleveland  atypical angina     130.0  262.0  False   \n",
       "135  136   55  Female  Cleveland  atypical angina     135.0  250.0  False   \n",
       "147  148   41    Male  Cleveland      non-anginal     112.0  250.0  False   \n",
       "289  290   56    Male  Cleveland  atypical angina     120.0  240.0  False   \n",
       "188  189   54    Male  Cleveland  atypical angina     192.0  283.0  False   \n",
       "211  212   38    Male  Cleveland   typical angina     120.0  231.0  False   \n",
       "4      5   41  Female  Cleveland  atypical angina     130.0  204.0  False   \n",
       "213  214   66  Female  Cleveland     asymptomatic     178.0  228.0   True   \n",
       "65    66   60    Male  Cleveland     asymptomatic     145.0  282.0  False   \n",
       "139  140   51    Male  Cleveland      non-anginal     125.0  245.0   True   \n",
       "228  229   54    Male  Cleveland     asymptomatic     110.0  206.0  False   \n",
       "508  509   47    Male    Hungary     asymptomatic     150.0  226.0  False   \n",
       "218  219   64  Female  Cleveland     asymptomatic     130.0  303.0  False   \n",
       "261  262   58  Female  Cleveland  atypical angina     136.0  319.0   True   \n",
       "111  112   56    Male  Cleveland     asymptomatic     125.0  249.0   True   \n",
       "272  273   46    Male  Cleveland     asymptomatic     140.0  311.0  False   \n",
       "101  102   34    Male  Cleveland   typical angina     118.0  182.0  False   \n",
       "115  116   41    Male  Cleveland  atypical angina     135.0  203.0  False   \n",
       "217  218   46  Female  Cleveland     asymptomatic     138.0  243.0  False   \n",
       "172  173   59  Female  Cleveland     asymptomatic     174.0  249.0  False   \n",
       "21    22   58  Female  Cleveland   typical angina     150.0  283.0   True   \n",
       "\n",
       "            restecg  thalch  exang  oldpeak        slope   ca  \\\n",
       "68   lv hypertrophy   140.0   True      3.4  downsloping  0.0   \n",
       "151  lv hypertrophy   122.0  False      0.6         flat  0.0   \n",
       "54           normal   144.0   True      1.4    upsloping  1.0   \n",
       "106          normal   162.0   True      0.0    upsloping  1.0   \n",
       "243          normal   145.0  False      2.6         flat  2.0   \n",
       "43           normal   157.0  False      1.6    upsloping  0.0   \n",
       "195  lv hypertrophy   125.0   True      0.9         flat  2.0   \n",
       "1    lv hypertrophy   108.0   True      1.5         flat  3.0   \n",
       "284          normal   161.0  False      0.0    upsloping  1.0   \n",
       "208          normal   155.0  False      0.0    upsloping  0.0   \n",
       "135  lv hypertrophy   161.0  False      1.4         flat  0.0   \n",
       "147          normal   179.0  False      0.0    upsloping  0.0   \n",
       "289          normal   169.0  False      0.0  downsloping  0.0   \n",
       "188  lv hypertrophy   195.0  False      0.0    upsloping  1.0   \n",
       "211          normal   182.0   True      3.8         flat  0.0   \n",
       "4    lv hypertrophy   172.0  False      1.4    upsloping  0.0   \n",
       "213          normal   165.0   True      1.0         flat  2.0   \n",
       "65   lv hypertrophy   142.0   True      2.8         flat  2.0   \n",
       "139  lv hypertrophy   166.0  False      2.4         flat  0.0   \n",
       "228  lv hypertrophy   108.0   True      0.0         flat  1.0   \n",
       "508          normal    98.0   True      1.5         flat  0.0   \n",
       "218          normal   122.0  False      2.0         flat  2.0   \n",
       "261  lv hypertrophy   152.0  False      0.0    upsloping  2.0   \n",
       "111  lv hypertrophy   144.0   True      1.2         flat  1.0   \n",
       "272          normal   120.0   True      1.8         flat  2.0   \n",
       "101  lv hypertrophy   174.0  False      0.0    upsloping  0.0   \n",
       "115          normal   132.0  False      0.0         flat  0.0   \n",
       "217  lv hypertrophy   152.0   True      0.0         flat  0.0   \n",
       "172          normal   143.0   True      0.0         flat  0.0   \n",
       "21   lv hypertrophy   162.0  False      1.0    upsloping  0.0   \n",
       "\n",
       "                  thal  num  \n",
       "68   reversable defect    2  \n",
       "151             normal    0  \n",
       "54   reversable defect    1  \n",
       "106  reversable defect    2  \n",
       "243             normal    2  \n",
       "43              normal    0  \n",
       "195             normal    3  \n",
       "1               normal    2  \n",
       "284  reversable defect    2  \n",
       "208             normal    0  \n",
       "135             normal    0  \n",
       "147             normal    0  \n",
       "289             normal    0  \n",
       "188  reversable defect    1  \n",
       "211  reversable defect    4  \n",
       "4               normal    0  \n",
       "213  reversable defect    3  \n",
       "65   reversable defect    2  \n",
       "139             normal    0  \n",
       "228             normal    3  \n",
       "508  reversable defect    1  \n",
       "218             normal    0  \n",
       "261             normal    3  \n",
       "111             normal    1  \n",
       "272  reversable defect    2  \n",
       "101             normal    0  \n",
       "115       fixed defect    0  \n",
       "217             normal    0  \n",
       "172             normal    1  \n",
       "21              normal    0  "
      ]
     },
     "execution_count": 11,
     "metadata": {},
     "output_type": "execute_result"
    }
   ],
   "source": [
    "data.head(30)"
   ]
  },
  {
   "cell_type": "code",
   "execution_count": null,
   "metadata": {},
   "outputs": [
    {
     "data": {
      "text/html": [
       "<div>\n",
       "<style scoped>\n",
       "    .dataframe tbody tr th:only-of-type {\n",
       "        vertical-align: middle;\n",
       "    }\n",
       "\n",
       "    .dataframe tbody tr th {\n",
       "        vertical-align: top;\n",
       "    }\n",
       "\n",
       "    .dataframe thead th {\n",
       "        text-align: right;\n",
       "    }\n",
       "</style>\n",
       "<table border=\"1\" class=\"dataframe\">\n",
       "  <thead>\n",
       "    <tr style=\"text-align: right;\">\n",
       "      <th></th>\n",
       "      <th>age</th>\n",
       "      <th>sex</th>\n",
       "      <th>chest_pain_type</th>\n",
       "      <th>resting_blood_pressure</th>\n",
       "      <th>cholesterol</th>\n",
       "      <th>fasting_blood_sugar</th>\n",
       "      <th>max_heart_rate_achieved</th>\n",
       "      <th>exercise_induced_angina</th>\n",
       "      <th>st_depression</th>\n",
       "      <th>st_slope_type</th>\n",
       "      <th>num_major_vessels</th>\n",
       "      <th>thalassemia_type</th>\n",
       "      <th>target</th>\n",
       "    </tr>\n",
       "  </thead>\n",
       "  <tbody>\n",
       "    <tr>\n",
       "      <th>68</th>\n",
       "      <td>59</td>\n",
       "      <td>1</td>\n",
       "      <td>asymptomatic</td>\n",
       "      <td>170.0</td>\n",
       "      <td>326.0</td>\n",
       "      <td>0</td>\n",
       "      <td>140.0</td>\n",
       "      <td>1</td>\n",
       "      <td>3.4</td>\n",
       "      <td>downsloping</td>\n",
       "      <td>0.0</td>\n",
       "      <td>reversable_defect</td>\n",
       "      <td>1</td>\n",
       "    </tr>\n",
       "    <tr>\n",
       "      <th>151</th>\n",
       "      <td>42</td>\n",
       "      <td>0</td>\n",
       "      <td>asymptomatic</td>\n",
       "      <td>102.0</td>\n",
       "      <td>265.0</td>\n",
       "      <td>0</td>\n",
       "      <td>122.0</td>\n",
       "      <td>0</td>\n",
       "      <td>0.6</td>\n",
       "      <td>flat</td>\n",
       "      <td>0.0</td>\n",
       "      <td>normal</td>\n",
       "      <td>0</td>\n",
       "    </tr>\n",
       "    <tr>\n",
       "      <th>54</th>\n",
       "      <td>60</td>\n",
       "      <td>1</td>\n",
       "      <td>asymptomatic</td>\n",
       "      <td>130.0</td>\n",
       "      <td>253.0</td>\n",
       "      <td>0</td>\n",
       "      <td>144.0</td>\n",
       "      <td>1</td>\n",
       "      <td>1.4</td>\n",
       "      <td>upsloping</td>\n",
       "      <td>1.0</td>\n",
       "      <td>reversable_defect</td>\n",
       "      <td>1</td>\n",
       "    </tr>\n",
       "    <tr>\n",
       "      <th>106</th>\n",
       "      <td>59</td>\n",
       "      <td>1</td>\n",
       "      <td>asymptomatic</td>\n",
       "      <td>140.0</td>\n",
       "      <td>177.0</td>\n",
       "      <td>0</td>\n",
       "      <td>162.0</td>\n",
       "      <td>1</td>\n",
       "      <td>0.0</td>\n",
       "      <td>upsloping</td>\n",
       "      <td>1.0</td>\n",
       "      <td>reversable_defect</td>\n",
       "      <td>1</td>\n",
       "    </tr>\n",
       "    <tr>\n",
       "      <th>243</th>\n",
       "      <td>61</td>\n",
       "      <td>1</td>\n",
       "      <td>typical_angina</td>\n",
       "      <td>134.0</td>\n",
       "      <td>234.0</td>\n",
       "      <td>0</td>\n",
       "      <td>145.0</td>\n",
       "      <td>0</td>\n",
       "      <td>2.6</td>\n",
       "      <td>flat</td>\n",
       "      <td>2.0</td>\n",
       "      <td>normal</td>\n",
       "      <td>1</td>\n",
       "    </tr>\n",
       "    <tr>\n",
       "      <th>43</th>\n",
       "      <td>59</td>\n",
       "      <td>1</td>\n",
       "      <td>non-anginal</td>\n",
       "      <td>150.0</td>\n",
       "      <td>212.0</td>\n",
       "      <td>1</td>\n",
       "      <td>157.0</td>\n",
       "      <td>0</td>\n",
       "      <td>1.6</td>\n",
       "      <td>upsloping</td>\n",
       "      <td>0.0</td>\n",
       "      <td>normal</td>\n",
       "      <td>0</td>\n",
       "    </tr>\n",
       "    <tr>\n",
       "      <th>195</th>\n",
       "      <td>67</td>\n",
       "      <td>1</td>\n",
       "      <td>asymptomatic</td>\n",
       "      <td>100.0</td>\n",
       "      <td>299.0</td>\n",
       "      <td>0</td>\n",
       "      <td>125.0</td>\n",
       "      <td>1</td>\n",
       "      <td>0.9</td>\n",
       "      <td>flat</td>\n",
       "      <td>2.0</td>\n",
       "      <td>normal</td>\n",
       "      <td>1</td>\n",
       "    </tr>\n",
       "    <tr>\n",
       "      <th>1</th>\n",
       "      <td>67</td>\n",
       "      <td>1</td>\n",
       "      <td>asymptomatic</td>\n",
       "      <td>160.0</td>\n",
       "      <td>286.0</td>\n",
       "      <td>0</td>\n",
       "      <td>108.0</td>\n",
       "      <td>1</td>\n",
       "      <td>1.5</td>\n",
       "      <td>flat</td>\n",
       "      <td>3.0</td>\n",
       "      <td>normal</td>\n",
       "      <td>1</td>\n",
       "    </tr>\n",
       "    <tr>\n",
       "      <th>284</th>\n",
       "      <td>61</td>\n",
       "      <td>1</td>\n",
       "      <td>asymptomatic</td>\n",
       "      <td>148.0</td>\n",
       "      <td>203.0</td>\n",
       "      <td>0</td>\n",
       "      <td>161.0</td>\n",
       "      <td>0</td>\n",
       "      <td>0.0</td>\n",
       "      <td>upsloping</td>\n",
       "      <td>1.0</td>\n",
       "      <td>reversable_defect</td>\n",
       "      <td>1</td>\n",
       "    </tr>\n",
       "    <tr>\n",
       "      <th>208</th>\n",
       "      <td>55</td>\n",
       "      <td>1</td>\n",
       "      <td>atypical_angina</td>\n",
       "      <td>130.0</td>\n",
       "      <td>262.0</td>\n",
       "      <td>0</td>\n",
       "      <td>155.0</td>\n",
       "      <td>0</td>\n",
       "      <td>0.0</td>\n",
       "      <td>upsloping</td>\n",
       "      <td>0.0</td>\n",
       "      <td>normal</td>\n",
       "      <td>0</td>\n",
       "    </tr>\n",
       "    <tr>\n",
       "      <th>135</th>\n",
       "      <td>55</td>\n",
       "      <td>0</td>\n",
       "      <td>atypical_angina</td>\n",
       "      <td>135.0</td>\n",
       "      <td>250.0</td>\n",
       "      <td>0</td>\n",
       "      <td>161.0</td>\n",
       "      <td>0</td>\n",
       "      <td>1.4</td>\n",
       "      <td>flat</td>\n",
       "      <td>0.0</td>\n",
       "      <td>normal</td>\n",
       "      <td>0</td>\n",
       "    </tr>\n",
       "    <tr>\n",
       "      <th>147</th>\n",
       "      <td>41</td>\n",
       "      <td>1</td>\n",
       "      <td>non-anginal</td>\n",
       "      <td>112.0</td>\n",
       "      <td>250.0</td>\n",
       "      <td>0</td>\n",
       "      <td>179.0</td>\n",
       "      <td>0</td>\n",
       "      <td>0.0</td>\n",
       "      <td>upsloping</td>\n",
       "      <td>0.0</td>\n",
       "      <td>normal</td>\n",
       "      <td>0</td>\n",
       "    </tr>\n",
       "    <tr>\n",
       "      <th>289</th>\n",
       "      <td>56</td>\n",
       "      <td>1</td>\n",
       "      <td>atypical_angina</td>\n",
       "      <td>120.0</td>\n",
       "      <td>240.0</td>\n",
       "      <td>0</td>\n",
       "      <td>169.0</td>\n",
       "      <td>0</td>\n",
       "      <td>0.0</td>\n",
       "      <td>downsloping</td>\n",
       "      <td>0.0</td>\n",
       "      <td>normal</td>\n",
       "      <td>0</td>\n",
       "    </tr>\n",
       "    <tr>\n",
       "      <th>188</th>\n",
       "      <td>54</td>\n",
       "      <td>1</td>\n",
       "      <td>atypical_angina</td>\n",
       "      <td>192.0</td>\n",
       "      <td>283.0</td>\n",
       "      <td>0</td>\n",
       "      <td>195.0</td>\n",
       "      <td>0</td>\n",
       "      <td>0.0</td>\n",
       "      <td>upsloping</td>\n",
       "      <td>1.0</td>\n",
       "      <td>reversable_defect</td>\n",
       "      <td>1</td>\n",
       "    </tr>\n",
       "    <tr>\n",
       "      <th>211</th>\n",
       "      <td>38</td>\n",
       "      <td>1</td>\n",
       "      <td>typical_angina</td>\n",
       "      <td>120.0</td>\n",
       "      <td>231.0</td>\n",
       "      <td>0</td>\n",
       "      <td>182.0</td>\n",
       "      <td>1</td>\n",
       "      <td>3.8</td>\n",
       "      <td>flat</td>\n",
       "      <td>0.0</td>\n",
       "      <td>reversable_defect</td>\n",
       "      <td>1</td>\n",
       "    </tr>\n",
       "  </tbody>\n",
       "</table>\n",
       "</div>"
      ],
      "text/plain": [
       "     age  sex  chest_pain_type  resting_blood_pressure  cholesterol  \\\n",
       "68    59    1     asymptomatic                   170.0        326.0   \n",
       "151   42    0     asymptomatic                   102.0        265.0   \n",
       "54    60    1     asymptomatic                   130.0        253.0   \n",
       "106   59    1     asymptomatic                   140.0        177.0   \n",
       "243   61    1   typical_angina                   134.0        234.0   \n",
       "43    59    1      non-anginal                   150.0        212.0   \n",
       "195   67    1     asymptomatic                   100.0        299.0   \n",
       "1     67    1     asymptomatic                   160.0        286.0   \n",
       "284   61    1     asymptomatic                   148.0        203.0   \n",
       "208   55    1  atypical_angina                   130.0        262.0   \n",
       "135   55    0  atypical_angina                   135.0        250.0   \n",
       "147   41    1      non-anginal                   112.0        250.0   \n",
       "289   56    1  atypical_angina                   120.0        240.0   \n",
       "188   54    1  atypical_angina                   192.0        283.0   \n",
       "211   38    1   typical_angina                   120.0        231.0   \n",
       "\n",
       "    fasting_blood_sugar  max_heart_rate_achieved exercise_induced_angina  \\\n",
       "68                    0                    140.0                       1   \n",
       "151                   0                    122.0                       0   \n",
       "54                    0                    144.0                       1   \n",
       "106                   0                    162.0                       1   \n",
       "243                   0                    145.0                       0   \n",
       "43                    1                    157.0                       0   \n",
       "195                   0                    125.0                       1   \n",
       "1                     0                    108.0                       1   \n",
       "284                   0                    161.0                       0   \n",
       "208                   0                    155.0                       0   \n",
       "135                   0                    161.0                       0   \n",
       "147                   0                    179.0                       0   \n",
       "289                   0                    169.0                       0   \n",
       "188                   0                    195.0                       0   \n",
       "211                   0                    182.0                       1   \n",
       "\n",
       "     st_depression st_slope_type  num_major_vessels   thalassemia_type  target  \n",
       "68             3.4   downsloping                0.0  reversable_defect       1  \n",
       "151            0.6          flat                0.0             normal       0  \n",
       "54             1.4     upsloping                1.0  reversable_defect       1  \n",
       "106            0.0     upsloping                1.0  reversable_defect       1  \n",
       "243            2.6          flat                2.0             normal       1  \n",
       "43             1.6     upsloping                0.0             normal       0  \n",
       "195            0.9          flat                2.0             normal       1  \n",
       "1              1.5          flat                3.0             normal       1  \n",
       "284            0.0     upsloping                1.0  reversable_defect       1  \n",
       "208            0.0     upsloping                0.0             normal       0  \n",
       "135            1.4          flat                0.0             normal       0  \n",
       "147            0.0     upsloping                0.0             normal       0  \n",
       "289            0.0   downsloping                0.0             normal       0  \n",
       "188            0.0     upsloping                1.0  reversable_defect       1  \n",
       "211            3.8          flat                0.0  reversable_defect       1  "
      ]
     },
     "execution_count": 12,
     "metadata": {},
     "output_type": "execute_result"
    }
   ],
   "source": [
    "# In some of the features, there is space will will create problem later on. \n",
    "# So we rename those attributes to handle problems in the future.\n",
    "\n",
    "# data[\"restecg\"].replace({\"lv hypertrophy\": \"lv_hypertrophy\",\"st-t abnormality\": \"stt_abnormality\" }, inplace=True)\n",
    "data['thal'].replace({'fixed defect':'fixed_defect' , 'reversable defect': 'reversable_defect' }, inplace =True)\n",
    "data['cp'].replace({'typical angina':'typical_angina', 'atypical angina': 'atypical_angina' }, inplace =True)\n",
    "\n",
    "\n",
    "data_tmp = data[['age','sex','cp', 'trestbps', 'chol', 'fbs',  'thalch', 'exang', 'oldpeak', 'slope', 'ca', 'thal']].copy()\n",
    "data_tmp['target'] = ((data['num'] > 0)*1).copy()\n",
    "data_tmp['sex'] = (data['sex'] == 'Male')*1\n",
    "data_tmp['fbs'] = (data['fbs'])*1\n",
    "data_tmp['exang'] = (data['exang'])*1\n",
    "\n",
    "data_tmp.columns = ['age', 'sex', 'chest_pain_type', 'resting_blood_pressure', \n",
    "              'cholesterol', 'fasting_blood_sugar',\n",
    "              'max_heart_rate_achieved', 'exercise_induced_angina', \n",
    "              'st_depression', 'st_slope_type', 'num_major_vessels', \n",
    "              'thalassemia_type', 'target']\n",
    "data_tmp.head(15)"
   ]
  },
  {
   "cell_type": "markdown",
   "metadata": {},
   "source": [
    "# One Hot Encoding"
   ]
  },
  {
   "cell_type": "code",
   "execution_count": null,
   "metadata": {},
   "outputs": [
    {
     "name": "stderr",
     "output_type": "stream",
     "text": [
      "/opt/anaconda3/envs/mldl/lib/python3.10/site-packages/pandas/core/algorithms.py:798: FutureWarning:\n",
      "\n",
      "In a future version, the Index constructor will not infer numeric dtypes when passed object-dtype sequences (matching Series behavior)\n",
      "\n"
     ]
    },
    {
     "data": {
      "text/plain": [
       "Index(['age', 'sex', 'resting_blood_pressure', 'cholesterol',\n",
       "       'max_heart_rate_achieved', 'st_depression', 'num_major_vessels',\n",
       "       'target', 'chest_pain_type_asymptomatic',\n",
       "       'chest_pain_type_atypical_angina', 'chest_pain_type_non-anginal',\n",
       "       'chest_pain_type_typical_angina', 'fasting_blood_sugar_0',\n",
       "       'fasting_blood_sugar_1', 'exercise_induced_angina_0',\n",
       "       'exercise_induced_angina_1', 'st_slope_type_downsloping',\n",
       "       'st_slope_type_flat', 'st_slope_type_upsloping',\n",
       "       'thalassemia_type_fixed_defect', 'thalassemia_type_normal',\n",
       "       'thalassemia_type_reversable_defect'],\n",
       "      dtype='object')"
      ]
     },
     "execution_count": 13,
     "metadata": {},
     "output_type": "execute_result"
    }
   ],
   "source": [
    "data = pd.get_dummies(data_tmp, drop_first=False)\n",
    "data.columns"
   ]
  },
  {
   "cell_type": "code",
   "execution_count": null,
   "metadata": {},
   "outputs": [
    {
     "name": "stdout",
     "output_type": "stream",
     "text": [
      "Shape of X_train: (239, 21)\n",
      "Shape of y_train: (239,)\n",
      "Shape of X_test: (60, 21)\n",
      "Shape of y_test: (60,)\n"
     ]
    }
   ],
   "source": [
    "from sklearn.model_selection import train_test_split\n",
    "y = data['target']\n",
    "X = data.drop('target', axis = 1)\n",
    "X_train, X_test, y_train, y_test = train_test_split(X, y, test_size=0.2, random_state=0)\n",
    "print(f'Shape of X_train: {X_train.shape}')\n",
    "print(f'Shape of y_train: {y_train.shape}')\n",
    "print(f'Shape of X_test: {X_test.shape}')\n",
    "print(f'Shape of y_test: {y_test.shape}')"
   ]
  },
  {
   "cell_type": "markdown",
   "metadata": {},
   "source": [
    "# Normalization"
   ]
  },
  {
   "cell_type": "code",
   "execution_count": 5,
   "metadata": {},
   "outputs": [
    {
     "ename": "NameError",
     "evalue": "name 'X_train' is not defined",
     "output_type": "error",
     "traceback": [
      "\u001b[0;31m---------------------------------------------------------------------------\u001b[0m",
      "\u001b[0;31mNameError\u001b[0m                                 Traceback (most recent call last)",
      "\u001b[1;32m/Users/Atharva/Desktop/AA_Masters_CS/Dr_Inokullu/project/heart_disease_model.ipynb Cell 20\u001b[0m line \u001b[0;36m<cell line: 1>\u001b[0;34m()\u001b[0m\n\u001b[0;32m----> <a href='vscode-notebook-cell:/Users/Atharva/Desktop/AA_Masters_CS/Dr_Inokullu/project/heart_disease_model.ipynb#X25sZmlsZQ%3D%3D?line=0'>1</a>\u001b[0m X_train\u001b[39m=\u001b[39m(X_train\u001b[39m-\u001b[39mnp\u001b[39m.\u001b[39mmin(X_train))\u001b[39m/\u001b[39m(np\u001b[39m.\u001b[39mmax(X_train)\u001b[39m-\u001b[39mnp\u001b[39m.\u001b[39mmin(X_train))\u001b[39m.\u001b[39mvalues\n\u001b[1;32m      <a href='vscode-notebook-cell:/Users/Atharva/Desktop/AA_Masters_CS/Dr_Inokullu/project/heart_disease_model.ipynb#X25sZmlsZQ%3D%3D?line=1'>2</a>\u001b[0m X_test\u001b[39m=\u001b[39m(X_test\u001b[39m-\u001b[39mnp\u001b[39m.\u001b[39mmin(X_test))\u001b[39m/\u001b[39m(np\u001b[39m.\u001b[39mmax(X_test)\u001b[39m-\u001b[39mnp\u001b[39m.\u001b[39mmin(X_test))\u001b[39m.\u001b[39mvalues\n",
      "\u001b[0;31mNameError\u001b[0m: name 'X_train' is not defined"
     ]
    }
   ],
   "source": [
    "X_train=(X_train-np.min(X_train))/(np.max(X_train)-np.min(X_train)).values\n",
    "X_test=(X_test-np.min(X_test))/(np.max(X_test)-np.min(X_test)).values"
   ]
  },
  {
   "cell_type": "code",
   "execution_count": 6,
   "metadata": {},
   "outputs": [
    {
     "ename": "NameError",
     "evalue": "name 'X_test' is not defined",
     "output_type": "error",
     "traceback": [
      "\u001b[0;31m---------------------------------------------------------------------------\u001b[0m",
      "\u001b[0;31mNameError\u001b[0m                                 Traceback (most recent call last)",
      "\u001b[1;32m/Users/Atharva/Desktop/AA_Masters_CS/Dr_Inokullu/project/heart_disease_model.ipynb Cell 21\u001b[0m line \u001b[0;36m<cell line: 1>\u001b[0;34m()\u001b[0m\n\u001b[0;32m----> <a href='vscode-notebook-cell:/Users/Atharva/Desktop/AA_Masters_CS/Dr_Inokullu/project/heart_disease_model.ipynb#X26sZmlsZQ%3D%3D?line=0'>1</a>\u001b[0m X_test\n",
      "\u001b[0;31mNameError\u001b[0m: name 'X_test' is not defined"
     ]
    }
   ],
   "source": [
    "X_test"
   ]
  },
  {
   "cell_type": "code",
   "execution_count": 7,
   "metadata": {},
   "outputs": [
    {
     "ename": "NameError",
     "evalue": "name 'X_train' is not defined",
     "output_type": "error",
     "traceback": [
      "\u001b[0;31m---------------------------------------------------------------------------\u001b[0m",
      "\u001b[0;31mNameError\u001b[0m                                 Traceback (most recent call last)",
      "\u001b[1;32m/Users/Atharva/Desktop/AA_Masters_CS/Dr_Inokullu/project/heart_disease_model.ipynb Cell 22\u001b[0m line \u001b[0;36m<cell line: 3>\u001b[0;34m()\u001b[0m\n\u001b[1;32m      <a href='vscode-notebook-cell:/Users/Atharva/Desktop/AA_Masters_CS/Dr_Inokullu/project/heart_disease_model.ipynb#X30sZmlsZQ%3D%3D?line=0'>1</a>\u001b[0m \u001b[39mfrom\u001b[39;00m \u001b[39msklearn\u001b[39;00m\u001b[39m.\u001b[39;00m\u001b[39mlinear_model\u001b[39;00m \u001b[39mimport\u001b[39;00m LogisticRegression\n\u001b[1;32m      <a href='vscode-notebook-cell:/Users/Atharva/Desktop/AA_Masters_CS/Dr_Inokullu/project/heart_disease_model.ipynb#X30sZmlsZQ%3D%3D?line=1'>2</a>\u001b[0m logre \u001b[39m=\u001b[39m LogisticRegression()\n\u001b[0;32m----> <a href='vscode-notebook-cell:/Users/Atharva/Desktop/AA_Masters_CS/Dr_Inokullu/project/heart_disease_model.ipynb#X30sZmlsZQ%3D%3D?line=2'>3</a>\u001b[0m logre\u001b[39m.\u001b[39mfit(X_train,y_train)\n",
      "\u001b[0;31mNameError\u001b[0m: name 'X_train' is not defined"
     ]
    }
   ],
   "source": [
    "from sklearn.linear_model import LogisticRegression\n",
    "logre = LogisticRegression()\n",
    "logre.fit(X_train,y_train)"
   ]
  },
  {
   "cell_type": "code",
   "execution_count": 8,
   "metadata": {},
   "outputs": [
    {
     "ename": "NameError",
     "evalue": "name 'X_test' is not defined",
     "output_type": "error",
     "traceback": [
      "\u001b[0;31m---------------------------------------------------------------------------\u001b[0m",
      "\u001b[0;31mNameError\u001b[0m                                 Traceback (most recent call last)",
      "\u001b[1;32m/Users/Atharva/Desktop/AA_Masters_CS/Dr_Inokullu/project/heart_disease_model.ipynb Cell 23\u001b[0m line \u001b[0;36m<cell line: 1>\u001b[0;34m()\u001b[0m\n\u001b[0;32m----> <a href='vscode-notebook-cell:/Users/Atharva/Desktop/AA_Masters_CS/Dr_Inokullu/project/heart_disease_model.ipynb#X31sZmlsZQ%3D%3D?line=0'>1</a>\u001b[0m y_pred \u001b[39m=\u001b[39m logre\u001b[39m.\u001b[39mpredict(X_test)\n\u001b[1;32m      <a href='vscode-notebook-cell:/Users/Atharva/Desktop/AA_Masters_CS/Dr_Inokullu/project/heart_disease_model.ipynb#X31sZmlsZQ%3D%3D?line=1'>2</a>\u001b[0m actual \u001b[39m=\u001b[39m []\n\u001b[1;32m      <a href='vscode-notebook-cell:/Users/Atharva/Desktop/AA_Masters_CS/Dr_Inokullu/project/heart_disease_model.ipynb#X31sZmlsZQ%3D%3D?line=2'>3</a>\u001b[0m predcition \u001b[39m=\u001b[39m []\n",
      "\u001b[0;31mNameError\u001b[0m: name 'X_test' is not defined"
     ]
    }
   ],
   "source": [
    "y_pred = logre.predict(X_test)\n",
    "actual = []\n",
    "predcition = []\n",
    "for i,j in zip(y_test,y_pred):\n",
    "    actual.append(i)\n",
    "    predcition.append(j)\n",
    "    \n",
    "dic = {'Actual':actual,\n",
    "       'Prediction':predcition }\n",
    "\n",
    "result  = pd.DataFrame(dic)\n",
    "import plotly.graph_objects as go\n",
    " \n",
    "fig = go.Figure()\n",
    "fig.add_trace(go.Scatter(x=np.arange(0,len(y_test)), y=y_test,    mode='markers',  name='Test'))\n",
    "fig.add_trace(go.Scatter(x=np.arange(0,len(y_test)), y=y_pred,  mode='markers',  name='Pred'))"
   ]
  },
  {
   "cell_type": "code",
   "execution_count": 9,
   "metadata": {},
   "outputs": [
    {
     "ename": "NameError",
     "evalue": "name 'y_test' is not defined",
     "output_type": "error",
     "traceback": [
      "\u001b[0;31m---------------------------------------------------------------------------\u001b[0m",
      "\u001b[0;31mNameError\u001b[0m                                 Traceback (most recent call last)",
      "\u001b[1;32m/Users/Atharva/Desktop/AA_Masters_CS/Dr_Inokullu/project/heart_disease_model.ipynb Cell 24\u001b[0m line \u001b[0;36m<cell line: 2>\u001b[0;34m()\u001b[0m\n\u001b[1;32m      <a href='vscode-notebook-cell:/Users/Atharva/Desktop/AA_Masters_CS/Dr_Inokullu/project/heart_disease_model.ipynb#X32sZmlsZQ%3D%3D?line=0'>1</a>\u001b[0m \u001b[39mfrom\u001b[39;00m \u001b[39msklearn\u001b[39;00m\u001b[39m.\u001b[39;00m\u001b[39mmetrics\u001b[39;00m \u001b[39mimport\u001b[39;00m accuracy_score\n\u001b[0;32m----> <a href='vscode-notebook-cell:/Users/Atharva/Desktop/AA_Masters_CS/Dr_Inokullu/project/heart_disease_model.ipynb#X32sZmlsZQ%3D%3D?line=1'>2</a>\u001b[0m \u001b[39mprint\u001b[39m(\u001b[39m'\u001b[39m\u001b[39mThe Accuracy Score is: \u001b[39m\u001b[39m'\u001b[39m, accuracy_score(y_test,y_pred))\n",
      "\u001b[0;31mNameError\u001b[0m: name 'y_test' is not defined"
     ]
    }
   ],
   "source": [
    "from sklearn.metrics import accuracy_score\n",
    "print('The Accuracy Score is: ', accuracy_score(y_test,y_pred))"
   ]
  },
  {
   "cell_type": "code",
   "execution_count": 10,
   "metadata": {},
   "outputs": [
    {
     "ename": "NameError",
     "evalue": "name 'y_test' is not defined",
     "output_type": "error",
     "traceback": [
      "\u001b[0;31m---------------------------------------------------------------------------\u001b[0m",
      "\u001b[0;31mNameError\u001b[0m                                 Traceback (most recent call last)",
      "\u001b[1;32m/Users/Atharva/Desktop/AA_Masters_CS/Dr_Inokullu/project/heart_disease_model.ipynb Cell 25\u001b[0m line \u001b[0;36m<cell line: 2>\u001b[0;34m()\u001b[0m\n\u001b[1;32m      <a href='vscode-notebook-cell:/Users/Atharva/Desktop/AA_Masters_CS/Dr_Inokullu/project/heart_disease_model.ipynb#X33sZmlsZQ%3D%3D?line=0'>1</a>\u001b[0m \u001b[39mfrom\u001b[39;00m \u001b[39msklearn\u001b[39;00m\u001b[39m.\u001b[39;00m\u001b[39mmetrics\u001b[39;00m \u001b[39mimport\u001b[39;00m classification_report\n\u001b[0;32m----> <a href='vscode-notebook-cell:/Users/Atharva/Desktop/AA_Masters_CS/Dr_Inokullu/project/heart_disease_model.ipynb#X33sZmlsZQ%3D%3D?line=1'>2</a>\u001b[0m \u001b[39mprint\u001b[39m(classification_report(y_test,y_pred))\n",
      "\u001b[0;31mNameError\u001b[0m: name 'y_test' is not defined"
     ]
    }
   ],
   "source": [
    "from sklearn.metrics import classification_report\n",
    "print(classification_report(y_test,y_pred))"
   ]
  },
  {
   "cell_type": "code",
   "execution_count": 11,
   "metadata": {},
   "outputs": [
    {
     "ename": "NameError",
     "evalue": "name 'y_test' is not defined",
     "output_type": "error",
     "traceback": [
      "\u001b[0;31m---------------------------------------------------------------------------\u001b[0m",
      "\u001b[0;31mNameError\u001b[0m                                 Traceback (most recent call last)",
      "\u001b[1;32m/Users/Atharva/Desktop/AA_Masters_CS/Dr_Inokullu/project/heart_disease_model.ipynb Cell 26\u001b[0m line \u001b[0;36m<cell line: 2>\u001b[0;34m()\u001b[0m\n\u001b[1;32m      <a href='vscode-notebook-cell:/Users/Atharva/Desktop/AA_Masters_CS/Dr_Inokullu/project/heart_disease_model.ipynb#X34sZmlsZQ%3D%3D?line=0'>1</a>\u001b[0m \u001b[39mfrom\u001b[39;00m \u001b[39msklearn\u001b[39;00m\u001b[39m.\u001b[39;00m\u001b[39mmetrics\u001b[39;00m \u001b[39mimport\u001b[39;00m confusion_matrix\n\u001b[0;32m----> <a href='vscode-notebook-cell:/Users/Atharva/Desktop/AA_Masters_CS/Dr_Inokullu/project/heart_disease_model.ipynb#X34sZmlsZQ%3D%3D?line=1'>2</a>\u001b[0m \u001b[39mprint\u001b[39m(confusion_matrix(y_test,y_pred))\n\u001b[1;32m      <a href='vscode-notebook-cell:/Users/Atharva/Desktop/AA_Masters_CS/Dr_Inokullu/project/heart_disease_model.ipynb#X34sZmlsZQ%3D%3D?line=2'>3</a>\u001b[0m sns\u001b[39m.\u001b[39mheatmap(confusion_matrix(y_test,y_pred),annot\u001b[39m=\u001b[39m\u001b[39mTrue\u001b[39;00m)\n",
      "\u001b[0;31mNameError\u001b[0m: name 'y_test' is not defined"
     ]
    }
   ],
   "source": [
    "from sklearn.metrics import confusion_matrix\n",
    "print(confusion_matrix(y_test,y_pred))\n",
    "sns.heatmap(confusion_matrix(y_test,y_pred),annot=True)"
   ]
  },
  {
   "cell_type": "code",
   "execution_count": 12,
   "metadata": {},
   "outputs": [
    {
     "ename": "NameError",
     "evalue": "name 'y_test' is not defined",
     "output_type": "error",
     "traceback": [
      "\u001b[0;31m---------------------------------------------------------------------------\u001b[0m",
      "\u001b[0;31mNameError\u001b[0m                                 Traceback (most recent call last)",
      "\u001b[1;32m/Users/Atharva/Desktop/AA_Masters_CS/Dr_Inokullu/project/heart_disease_model.ipynb Cell 27\u001b[0m line \u001b[0;36m<cell line: 2>\u001b[0;34m()\u001b[0m\n\u001b[1;32m      <a href='vscode-notebook-cell:/Users/Atharva/Desktop/AA_Masters_CS/Dr_Inokullu/project/heart_disease_model.ipynb#X35sZmlsZQ%3D%3D?line=0'>1</a>\u001b[0m \u001b[39mimport\u001b[39;00m \u001b[39msklearn\u001b[39;00m\n\u001b[0;32m----> <a href='vscode-notebook-cell:/Users/Atharva/Desktop/AA_Masters_CS/Dr_Inokullu/project/heart_disease_model.ipynb#X35sZmlsZQ%3D%3D?line=1'>2</a>\u001b[0m \u001b[39mprint\u001b[39m(\u001b[39m'\u001b[39m\u001b[39mArea Under ROC-Curve: \u001b[39m\u001b[39m'\u001b[39m, sklearn\u001b[39m.\u001b[39mmetrics\u001b[39m.\u001b[39mroc_auc_score(y_test,y_pred))\n",
      "\u001b[0;31mNameError\u001b[0m: name 'y_test' is not defined"
     ]
    }
   ],
   "source": [
    "import sklearn\n",
    "print('Area Under ROC-Curve: ', sklearn.metrics.roc_auc_score(y_test,y_pred))"
   ]
  },
  {
   "cell_type": "code",
   "execution_count": 13,
   "metadata": {},
   "outputs": [
    {
     "ename": "NameError",
     "evalue": "name 'y_test' is not defined",
     "output_type": "error",
     "traceback": [
      "\u001b[0;31m---------------------------------------------------------------------------\u001b[0m",
      "\u001b[0;31mNameError\u001b[0m                                 Traceback (most recent call last)",
      "\u001b[1;32m/Users/Atharva/Desktop/AA_Masters_CS/Dr_Inokullu/project/heart_disease_model.ipynb Cell 28\u001b[0m line \u001b[0;36m<cell line: 2>\u001b[0;34m()\u001b[0m\n\u001b[1;32m      <a href='vscode-notebook-cell:/Users/Atharva/Desktop/AA_Masters_CS/Dr_Inokullu/project/heart_disease_model.ipynb#X36sZmlsZQ%3D%3D?line=0'>1</a>\u001b[0m \u001b[39mfrom\u001b[39;00m \u001b[39msklearn\u001b[39;00m\u001b[39m.\u001b[39;00m\u001b[39mmetrics\u001b[39;00m \u001b[39mimport\u001b[39;00m roc_curve\n\u001b[0;32m----> <a href='vscode-notebook-cell:/Users/Atharva/Desktop/AA_Masters_CS/Dr_Inokullu/project/heart_disease_model.ipynb#X36sZmlsZQ%3D%3D?line=1'>2</a>\u001b[0m fpr, tpr, thresholds \u001b[39m=\u001b[39m roc_curve(y_test, y_pred, drop_intermediate \u001b[39m=\u001b[39m \u001b[39mFalse\u001b[39;00m)\n\u001b[1;32m      <a href='vscode-notebook-cell:/Users/Atharva/Desktop/AA_Masters_CS/Dr_Inokullu/project/heart_disease_model.ipynb#X36sZmlsZQ%3D%3D?line=2'>3</a>\u001b[0m plt\u001b[39m.\u001b[39mplot(fpr,tpr)\n\u001b[1;32m      <a href='vscode-notebook-cell:/Users/Atharva/Desktop/AA_Masters_CS/Dr_Inokullu/project/heart_disease_model.ipynb#X36sZmlsZQ%3D%3D?line=3'>4</a>\u001b[0m plt\u001b[39m.\u001b[39mxlim([\u001b[39m0.0\u001b[39m, \u001b[39m1.0\u001b[39m])\n",
      "\u001b[0;31mNameError\u001b[0m: name 'y_test' is not defined"
     ]
    }
   ],
   "source": [
    "from sklearn.metrics import roc_curve\n",
    "fpr, tpr, thresholds = roc_curve(y_test, y_pred, drop_intermediate = False)\n",
    "plt.plot(fpr,tpr)\n",
    "plt.xlim([0.0, 1.0])\n",
    "plt.ylim([0.0, 1.0])\n",
    "plt.title('ROC curve for Heart disease classifier')\n",
    "plt.xlabel('False positive rate (1-Specificity)')\n",
    "plt.ylabel('True positive rate (Sensitivity)')\n",
    "plt.grid(True)\n"
   ]
  },
  {
   "cell_type": "markdown",
   "metadata": {},
   "source": [
    "# Analysis of weights to different features"
   ]
  },
  {
   "cell_type": "code",
   "execution_count": 14,
   "metadata": {},
   "outputs": [
    {
     "ename": "AttributeError",
     "evalue": "'LogisticRegression' object has no attribute 'intercept_'",
     "output_type": "error",
     "traceback": [
      "\u001b[0;31m---------------------------------------------------------------------------\u001b[0m",
      "\u001b[0;31mAttributeError\u001b[0m                            Traceback (most recent call last)",
      "\u001b[1;32m/Users/Atharva/Desktop/AA_Masters_CS/Dr_Inokullu/project/heart_disease_model.ipynb Cell 30\u001b[0m line \u001b[0;36m<cell line: 1>\u001b[0;34m()\u001b[0m\n\u001b[0;32m----> <a href='vscode-notebook-cell:/Users/Atharva/Desktop/AA_Masters_CS/Dr_Inokullu/project/heart_disease_model.ipynb#X41sZmlsZQ%3D%3D?line=0'>1</a>\u001b[0m \u001b[39mprint\u001b[39m(logre\u001b[39m.\u001b[39;49mintercept_)\n\u001b[1;32m      <a href='vscode-notebook-cell:/Users/Atharva/Desktop/AA_Masters_CS/Dr_Inokullu/project/heart_disease_model.ipynb#X41sZmlsZQ%3D%3D?line=1'>2</a>\u001b[0m plt\u001b[39m.\u001b[39mfigure(figsize\u001b[39m=\u001b[39m(\u001b[39m10\u001b[39m,\u001b[39m12\u001b[39m))\n\u001b[1;32m      <a href='vscode-notebook-cell:/Users/Atharva/Desktop/AA_Masters_CS/Dr_Inokullu/project/heart_disease_model.ipynb#X41sZmlsZQ%3D%3D?line=2'>3</a>\u001b[0m coeffecients \u001b[39m=\u001b[39m pd\u001b[39m.\u001b[39mDataFrame(logre\u001b[39m.\u001b[39mcoef_\u001b[39m.\u001b[39mravel(),X\u001b[39m.\u001b[39mcolumns)\n",
      "\u001b[0;31mAttributeError\u001b[0m: 'LogisticRegression' object has no attribute 'intercept_'"
     ]
    }
   ],
   "source": [
    "print(logre.intercept_)\n",
    "plt.figure(figsize=(10,12))\n",
    "coeffecients = pd.DataFrame(logre.coef_.ravel(),X.columns)\n",
    "coeffecients.columns = ['Coeffecient']\n",
    "coeffecients.sort_values(by=['Coeffecient'],inplace=True,ascending=False)\n",
    "coeffecients"
   ]
  },
  {
   "cell_type": "code",
   "execution_count": 15,
   "metadata": {},
   "outputs": [
    {
     "ename": "NameError",
     "evalue": "name 'X_train' is not defined",
     "output_type": "error",
     "traceback": [
      "\u001b[0;31m---------------------------------------------------------------------------\u001b[0m",
      "\u001b[0;31mNameError\u001b[0m                                 Traceback (most recent call last)",
      "\u001b[1;32m/Users/Atharva/Desktop/AA_Masters_CS/Dr_Inokullu/project/heart_disease_model.ipynb Cell 31\u001b[0m line \u001b[0;36m<cell line: 1>\u001b[0;34m()\u001b[0m\n\u001b[0;32m----> <a href='vscode-notebook-cell:/Users/Atharva/Desktop/AA_Masters_CS/Dr_Inokullu/project/heart_disease_model.ipynb#X42sZmlsZQ%3D%3D?line=0'>1</a>\u001b[0m X_train\u001b[39m.\u001b[39mcolumns\n",
      "\u001b[0;31mNameError\u001b[0m: name 'X_train' is not defined"
     ]
    }
   ],
   "source": [
    "X_train.columns"
   ]
  },
  {
   "cell_type": "code",
   "execution_count": 16,
   "metadata": {},
   "outputs": [
    {
     "ename": "NameError",
     "evalue": "name 'X_train' is not defined",
     "output_type": "error",
     "traceback": [
      "\u001b[0;31m---------------------------------------------------------------------------\u001b[0m",
      "\u001b[0;31mNameError\u001b[0m                                 Traceback (most recent call last)",
      "\u001b[1;32m/Users/Atharva/Desktop/AA_Masters_CS/Dr_Inokullu/project/heart_disease_model.ipynb Cell 32\u001b[0m line \u001b[0;36m<cell line: 1>\u001b[0;34m()\u001b[0m\n\u001b[0;32m----> <a href='vscode-notebook-cell:/Users/Atharva/Desktop/AA_Masters_CS/Dr_Inokullu/project/heart_disease_model.ipynb#X43sZmlsZQ%3D%3D?line=0'>1</a>\u001b[0m X_train\n",
      "\u001b[0;31mNameError\u001b[0m: name 'X_train' is not defined"
     ]
    }
   ],
   "source": [
    "X_train"
   ]
  },
  {
   "cell_type": "code",
   "execution_count": 19,
   "metadata": {},
   "outputs": [
    {
     "name": "stdout",
     "output_type": "stream",
     "text": [
      " * Serving Flask app '__main__' (lazy loading)\n",
      " * Environment: production\n",
      "\u001b[31m   WARNING: This is a development server. Do not use it in a production deployment.\u001b[0m\n",
      "\u001b[2m   Use a production WSGI server instead.\u001b[0m\n",
      " * Debug mode: on\n"
     ]
    },
    {
     "name": "stderr",
     "output_type": "stream",
     "text": [
      " * Running on http://127.0.0.1:5000/ (Press CTRL+C to quit)\n",
      " * Restarting with stat\n",
      "Traceback (most recent call last):\n",
      "  File \"/opt/anaconda3/envs/mldl/lib/python3.10/site-packages/ipykernel_launcher.py\", line 17, in <module>\n",
      "    app.launch_new_instance()\n",
      "  File \"/opt/anaconda3/envs/mldl/lib/python3.10/site-packages/traitlets/config/application.py\", line 845, in launch_instance\n",
      "    app.initialize(argv)\n",
      "  File \"/opt/anaconda3/envs/mldl/lib/python3.10/site-packages/traitlets/config/application.py\", line 88, in inner\n",
      "    return method(app, *args, **kwargs)\n",
      "  File \"/opt/anaconda3/envs/mldl/lib/python3.10/site-packages/ipykernel/kernelapp.py\", line 666, in initialize\n",
      "    self.init_sockets()\n",
      "  File \"/opt/anaconda3/envs/mldl/lib/python3.10/site-packages/ipykernel/kernelapp.py\", line 307, in init_sockets\n",
      "    self.shell_port = self._bind_socket(self.shell_socket, self.shell_port)\n",
      "  File \"/opt/anaconda3/envs/mldl/lib/python3.10/site-packages/ipykernel/kernelapp.py\", line 244, in _bind_socket\n",
      "    return self._try_bind_socket(s, port)\n",
      "  File \"/opt/anaconda3/envs/mldl/lib/python3.10/site-packages/ipykernel/kernelapp.py\", line 220, in _try_bind_socket\n",
      "    s.bind(\"tcp://%s:%i\" % (self.ip, port))\n",
      "  File \"/opt/anaconda3/envs/mldl/lib/python3.10/site-packages/zmq/sugar/socket.py\", line 229, in bind\n",
      "    super().bind(addr)\n",
      "  File \"zmq/backend/cython/socket.pyx\", line 562, in zmq.backend.cython.socket.Socket.bind\n",
      "  File \"zmq/backend/cython/checkrc.pxd\", line 28, in zmq.backend.cython.checkrc._check_rc\n",
      "zmq.error.ZMQError: Address already in use\n"
     ]
    },
    {
     "ename": "SystemExit",
     "evalue": "1",
     "output_type": "error",
     "traceback": [
      "An exception has occurred, use %tb to see the full traceback.\n",
      "\u001b[0;31mSystemExit\u001b[0m\u001b[0;31m:\u001b[0m 1\n"
     ]
    },
    {
     "name": "stderr",
     "output_type": "stream",
     "text": [
      "/opt/anaconda3/envs/mldl/lib/python3.10/site-packages/IPython/core/interactiveshell.py:3406: UserWarning: To exit: use 'exit', 'quit', or Ctrl-D.\n",
      "  warn(\"To exit: use 'exit', 'quit', or Ctrl-D.\", stacklevel=1)\n"
     ]
    }
   ],
   "source": [
    "from flask import Flask, render_template, request, redirect, url_for\n",
    "\n",
    "app = Flask(__name__)\n",
    "\n",
    "@app.route('/')\n",
    "def index():\n",
    "    return render_template('index1.html')\n",
    "\n",
    "@app.route('/predict', methods=['POST'])\n",
    "def predict():\n",
    "    if request.method == 'POST':\n",
    "        # Extract data from form\n",
    "        age = request.form.get('age')\n",
    "        sex = request.form.get('sex')\n",
    "        resting_blood_pressure = request.form.get('resting_blood_pressure')\n",
    "        cholesterol = request.form.get('cholesterol')\n",
    "        max_heart_rate_achieved = request.form.get('max_heart_rate_achieved')\n",
    "        st_depression = request.form.get('st_depression')\n",
    "        num_major_vessels = request.form.get('num_major_vessels')\n",
    "\n",
    "        # For categorical data, ensure to handle them appropriately\n",
    "        # For example, for 'chest_pain_type', you might have different fields or a single field with multiple values\n",
    "        chest_pain_type_asymptomatic = request.form.get('chest_pain_type_asymptomatic')\n",
    "        chest_pain_type_atypical_angina = request.form.get('chest_pain_type_atypical_angina')\n",
    "        chest_pain_type_non_anginal = request.form.get('chest_pain_type_non_anginal')\n",
    "        chest_pain_type_typical_angina = request.form.get('chest_pain_type_typical_angina')\n",
    "\n",
    "        fasting_blood_sugar_0 = request.form.get('fasting_blood_sugar_0')\n",
    "        fasting_blood_sugar_1 = request.form.get('fasting_blood_sugar_1')\n",
    "        exercise_induced_angina_0 = request.form.get('exercise_induced_angina_0')\n",
    "        exercise_induced_angina_1 = request.form.get('exercise_induced_angina_1')\n",
    "\n",
    "        st_slope_type_downsloping = request.form.get('st_slope_type_downsloping')\n",
    "        st_slope_type_flat = request.form.get('st_slope_type_flat')\n",
    "        st_slope_type_upsloping = request.form.get('st_slope_type_upsloping')\n",
    "\n",
    "        thalassemia_type_fixed_defect = request.form.get('thalassemia_type_fixed_defect')\n",
    "        thalassemia_type_normal = request.form.get('thalassemia_type_normal')\n",
    "        thalassemia_type_reversable_defect = request.form.get('thalassemia_type_reversable_defect')\n",
    "\n",
    "        # Convert data to the appropriate format (e.g., numerical values) and handle missing values if necessary\n",
    "\n",
    "        # Process the data with your ML model\n",
    "        # For example, prediction = model.predict(data)\n",
    "\n",
    "        # Return the prediction result\n",
    "        return redirect(url_for('prediction.html'))\n",
    "    \n",
    "@app.route('/prediction')\n",
    "def show_prediction():\n",
    "    # Get the prediction result from query parameters or session\n",
    "    result = request.args.get('result')\n",
    "    return render_template('prediction.html', prediction_result=result)\n",
    "\n",
    "if __name__ == '__main__':\n",
    "    app.run(debug=True,port=5000)\n"
   ]
  },
  {
   "cell_type": "code",
   "execution_count": 18,
   "metadata": {},
   "outputs": [
    {
     "data": {
      "text/plain": [
       "<flask_cors.extension.CORS at 0x7fee39039a20>"
      ]
     },
     "execution_count": 18,
     "metadata": {},
     "output_type": "execute_result"
    }
   ],
   "source": [
    "from flask_cors import CORS\n",
    "\n",
    "# After creating your Flask app\n",
    "CORS(app)"
   ]
  },
  {
   "cell_type": "code",
   "execution_count": null,
   "metadata": {},
   "outputs": [],
   "source": []
  }
 ],
 "metadata": {
  "kernelspec": {
   "display_name": "base",
   "language": "python",
   "name": "python3"
  },
  "language_info": {
   "codemirror_mode": {
    "name": "ipython",
    "version": 3
   },
   "file_extension": ".py",
   "mimetype": "text/x-python",
   "name": "python",
   "nbconvert_exporter": "python",
   "pygments_lexer": "ipython3",
   "version": "3.10.4"
  }
 },
 "nbformat": 4,
 "nbformat_minor": 2
}
